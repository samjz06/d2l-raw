{
 "cells": [
  {
   "cell_type": "markdown",
   "source": [
    "---\n",
    "# Linear Classifier\n",
    "\n",
    "In this assignment, you will build a linear image classifier from scratch in PyTorch. You will implement both the forward and the backward pass of the linear classifier _without_ using PyTorch's autograd capabilities. The notebook is largely adapted (with permission) from https://web.eecs.umich.edu/~justincj/teaching/eecs498/FA2019/assignment2.html.\n",
    "\n",
    "As in the first assignment, you will see code blocks that look like this:\n",
    "```python\n",
    "###############################################################################\n",
    "# TODO: Create a variable x with value 536.                                   #\n",
    "###############################################################################\n",
    "# Replace \"pass\" statement with your code\n",
    "pass\n",
    "# END OF YOUR CODE\n",
    "```\n",
    "\n",
    "You should replace the `pass` statement with your own code and leave the blocks intact, like this:\n",
    "```python\n",
    "###############################################################################\n",
    "# TODO: Create a variable x with value 536.                                   #\n",
    "###############################################################################\n",
    "# Replace \"pass\" statement with your code\n",
    "x = 536\n",
    "# END OF YOUR CODE\n",
    "```\n",
    "\n",
    "Also, please remember:\n",
    "- Do not write or modify any code outside of code blocks.\n",
    "- Do not delete any cells from the notebook. You may add new cells to perform scratch work, but delete them before submitting.\n",
    "- Run all cells before submitting. You will only get credit for code that has been run.\n",
    "- Submit your notebook as `netid.ipynb`, where `netid` is your actual netid.\n",
    "- Your submission will be graded with PyTorch 1.7.0 and Python 3.6, which are the default versions in Google Colab."
   ],
   "metadata": {
    "id": "4tQ3Y-ETyEMy"
   }
  },
  {
   "cell_type": "code",
   "execution_count": 1,
   "source": [
    "from __future__ import print_function\r\n",
    "from __future__ import division\r\n",
    "\r\n",
    "import math\r\n",
    "import time\r\n",
    "import random\r\n",
    "import torch\r\n",
    "import torch.nn.functional as F\r\n",
    "import matplotlib.pyplot as plt\r\n",
    "from torchvision.datasets import CIFAR10\r\n",
    "\r\n",
    "%matplotlib inline\r\n",
    "plt.rcParams['figure.figsize'] = (10.0, 8.0)\r\n",
    "plt.rcParams['image.interpolation'] = 'nearest'\r\n",
    "plt.rcParams['image.cmap'] = 'gray'"
   ],
   "outputs": [],
   "metadata": {
    "deletable": false,
    "editable": false,
    "id": "Bm5aR3bkyEM6",
    "nbgrader": {
     "cell_type": "code",
     "checksum": "f6bd01b405f99f88c9a5c8640316c5f8",
     "grade": false,
     "grade_id": "cell-b8d22cbe18e14151",
     "locked": true,
     "schema_version": 3,
     "solution": false,
     "task": false
    }
   }
  },
  {
   "cell_type": "markdown",
   "source": [
    "Starting in this assignment, we will use the GPU to accelerate our computation. Run this cell to make sure you are using a GPU."
   ],
   "metadata": {
    "id": "enk1o_h5yEM7",
    "nbgrader": {
     "grade": false,
     "grade_id": "correct_squares",
     "locked": false,
     "schema_version": 3,
     "solution": false,
     "task": false
    }
   }
  },
  {
   "cell_type": "code",
   "execution_count": 2,
   "source": [
    "assert torch.cuda.is_available(), 'GPU unavailable'"
   ],
   "outputs": [],
   "metadata": {
    "id": "zwwpEHWTyEM7"
   }
  },
  {
   "cell_type": "markdown",
   "source": [
    "## Data Preprocessing\r\n",
    "\r\n",
    "In this assignment, we will be using the CIFAR-10 dataset. It consists of 60K $32 \\times 32$ color images in 10 classes, namely: airplanes, automobiles, birds, cats, deer, dogs, frogs, horses, ships, and trucks. There are 6K images in each class, of which 1K are reserved for testing. Image samples and more details are available [here](https://www.cs.toronto.edu/~kriz/cifar.html).\r\n",
    "\r\n",
    "Given an image, our goal here is to predict the class it belongs to. For our linear classifier, we need to flatten the image into a vector. We will also use the **bias trick**: **By adding an extra dimension of constant 1 to the input, we avoid the need to keep track of a separate bias vector.** Specifically, let $W \\in \\mathbb{R}^{D \\times K}$ be a weight matrix, $b \\in \\mathbb{R}^{K}$ a bias vector, and $x \\in \\mathbb{R}^{D}$ the input, we have\r\n",
    "\r\n",
    "$$\r\n",
    "W^\\top x + b =\r\n",
    "\\begin{bmatrix}\r\n",
    "W^\\top & b\r\n",
    "\\end{bmatrix}\r\n",
    "\\begin{bmatrix}\r\n",
    "x\\\\\r\n",
    "1\r\n",
    "\\end{bmatrix}.\r\n",
    "$$\r\n",
    "\r\n",
    "This means we can treat $V^\\top := \\begin{bmatrix}\r\n",
    "W^\\top & b\r\n",
    "\\end{bmatrix}$ as a new weight matrix if we append a constant 1 to the input vector $x$. Therefore, we will represent each CIFAR-10 image as a $32 \\times 32 \\times 3 + 1 = 3073$ dimensional vector."
   ],
   "metadata": {
    "id": "ydhF1iULyEM8"
   }
  },
  {
   "cell_type": "code",
   "execution_count": 3,
   "source": [
    "def get_CIFAR10_data():\r\n",
    "  \"\"\"\r\n",
    "  Load the CIFAR-10 dataset and prepare it for the linear classifier.\r\n",
    "  \"\"\"\r\n",
    "  CIFAR10_train = CIFAR10(root='.', train=True, download=True)\r\n",
    "  CIFAR10_test = CIFAR10(root='.', train=False, download=True)\r\n",
    "  X_train = torch.Tensor(CIFAR10_train.data).permute(0, 3, 1, 2) / 255  # 50K x 3 x 32 x 32\r\n",
    "  X_test = torch.Tensor(CIFAR10_test.data).permute(0, 3, 1, 2) / 255  # 10K x 3 x 32 x 32\r\n",
    "  y_train = torch.LongTensor(CIFAR10_train.targets)  # 50K\r\n",
    "  y_test = torch.LongTensor(CIFAR10_test.targets)  # 10K\r\n",
    "\r\n",
    "  # Normalize the data so that the pixel values have zero mean and unit variance\r\n",
    "  RGB_std, RGB_mean = torch.std_mean(X_train, dim=(0, 2, 3), keepdim=True)\r\n",
    "  X_train = (X_train - RGB_mean) / RGB_std\r\n",
    "  X_test = (X_test - RGB_mean) / RGB_std\r\n",
    "  print('RGB_mean:', RGB_mean.squeeze())\r\n",
    "  print('RGB_std:', RGB_std.squeeze())\r\n",
    "\r\n",
    "  # Flatten each image into a vector\r\n",
    "  X_train = X_train.reshape(X_train.shape[0], -1)\r\n",
    "  X_test = X_test.reshape(X_test.shape[0], -1)\r\n",
    "\r\n",
    "  # Bias trick\r\n",
    "  ones_train = torch.ones_like(y_train).view(-1, 1)\r\n",
    "  ones_test = torch.ones_like(y_test).view(-1, 1)\r\n",
    "  X_train = torch.cat([X_train, ones_train], dim=1)\r\n",
    "  X_test = torch.cat([X_test, ones_test], dim=1)\r\n",
    "\r\n",
    "  # Carve out part of the training data to use for validation\r\n",
    "  num_train = 40000\r\n",
    "  torch.manual_seed(0)\r\n",
    "  indices = torch.randperm(X_train.shape[0])\r\n",
    "  X_val = X_train[indices[num_train:]]\r\n",
    "  y_val = y_train[indices[num_train:]]\r\n",
    "  X_train = X_train[indices[:num_train]]\r\n",
    "  y_train = y_train[indices[:num_train]]\r\n",
    "\r\n",
    "  # Return the dataset as a dictionary\r\n",
    "  data_dict = {}\r\n",
    "  data_dict['X_train'] = X_train.cuda()\r\n",
    "  data_dict['y_train'] = y_train.cuda()\r\n",
    "  data_dict['X_val'] = X_val.cuda()\r\n",
    "  data_dict['y_val'] = y_val.cuda()\r\n",
    "  data_dict['X_test'] = X_test.cuda()\r\n",
    "  data_dict['y_test'] = y_test.cuda()\r\n",
    "  return data_dict\r\n",
    "\r\n",
    "# Invoke the above function to get our data\r\n",
    "data_dict = get_CIFAR10_data()\r\n",
    "print('Training data shape:', data_dict['X_train'].shape)\r\n",
    "print('Training labels shape:', data_dict['y_train'].shape)\r\n",
    "print('Validation data shape:', data_dict['X_val'].shape)\r\n",
    "print('Validation labels shape:', data_dict['y_val'].shape)\r\n",
    "print('Test data shape:', data_dict['X_test'].shape)\r\n",
    "print('Test labels shape:', data_dict['y_test'].shape)"
   ],
   "outputs": [
    {
     "output_type": "stream",
     "name": "stdout",
     "text": [
      "Downloading https://www.cs.toronto.edu/~kriz/cifar-10-python.tar.gz to ./cifar-10-python.tar.gz\n"
     ]
    },
    {
     "output_type": "display_data",
     "data": {
      "text/plain": [
       "HBox(children=(FloatProgress(value=1.0, bar_style='info', max=1.0), HTML(value='')))"
      ],
      "application/vnd.jupyter.widget-view+json": {
       "model_id": "9333ef28167f4a259e81ed1371abc595",
       "version_major": 2,
       "version_minor": 0
      }
     },
     "metadata": {
      "tags": []
     }
    },
    {
     "output_type": "stream",
     "name": "stdout",
     "text": [
      "Extracting ./cifar-10-python.tar.gz to .\n",
      "Files already downloaded and verified\n",
      "RGB_mean: tensor([0.4914, 0.4822, 0.4465])\n",
      "RGB_std: tensor([0.2470, 0.2435, 0.2616])\n",
      "Training data shape: torch.Size([40000, 3073])\n",
      "Training labels shape: torch.Size([40000])\n",
      "Validation data shape: torch.Size([10000, 3073])\n",
      "Validation labels shape: torch.Size([10000])\n",
      "Test data shape: torch.Size([10000, 3073])\n",
      "Test labels shape: torch.Size([10000])\n"
     ]
    }
   ],
   "metadata": {
    "colab": {
     "base_uri": "https://localhost:8080/",
     "height": 236,
     "referenced_widgets": [
      "9333ef28167f4a259e81ed1371abc595",
      "eb9130b3b2b743cdb73fbd793e9bb57a",
      "5e9b75069e81497bb730e97769dc994b",
      "a6c5d65e47ec404499cb8579124ff75c",
      "ac83e065e073472a9bdaf39e201ba433",
      "e2fa892a53e546e594f4a102e5af0241",
      "4b8f968bde56446e84833ee3a100d981",
      "9983d48eab1148168665457e051dce7a"
     ]
    },
    "deletable": false,
    "editable": false,
    "id": "pjyFTdKTyEM8",
    "nbgrader": {
     "cell_type": "code",
     "checksum": "38ccabc7b55ab7d1b4147f65fb333ef3",
     "grade": false,
     "grade_id": "cell-a0760c1df4207b3e",
     "locked": true,
     "schema_version": 3,
     "solution": false,
     "task": false
    },
    "outputId": "aa3afa16-cec8-42c3-b92b-36d19dad199d"
   }
  },
  {
   "cell_type": "markdown",
   "source": [
    "## Linear Classifier with Softmax\n",
    "\n",
    "In this section, we will:\n",
    "\n",
    "- Implement the loss function for the Softmax classifier.\n",
    "- Implement the analytic gradient of the loss function.\n",
    "- Numerically check the gradient."
   ],
   "metadata": {
    "id": "l2QBXv5QyEM9"
   }
  },
  {
   "cell_type": "markdown",
   "source": [
    "Let us first consider the case where we are given a single image, already flattened into a vector $x_{(i)} \\in \\mathbb{R}^{D}$ with $D = 3073$. The corresponding label is $y_{(i)} \\in \\{0, 1, \\dots, K-1\\}$ where $K = 10$ is the number of classes. Our linear classifier learns a weight matrix\n",
    "$$\n",
    "W = \\begin{bmatrix}\n",
    "\\vert &        & \\vert  \\\\\n",
    "w_0   & \\cdots & w_{K-1}\\\\\n",
    "\\vert &        & \\vert\n",
    "\\end{bmatrix} \\in \\mathbb{R}^{D \\times K}\n",
    "$$\n",
    "such that\n",
    "$$\n",
    "\\mathbb{P}(\\text{class} = k \\mid \\text{image} = x_{(i)}) = \\frac{\\exp{(x_{(i)}^\\top w_k)}}{\\sum_{j=0}^{K-1} \\exp{(x_{(i)}^\\top w_j)}}, \\quad \\text{for each} \\ \\  k = 0, 1, \\dots, K-1.\n",
    "$$\n",
    "Here, we treat the image and its class as random variables.\n",
    "\n",
    "The loss function $\\mathcal{L}_{(i)}$ for this single image $x_{(i)}$ is the negative log-likelihood:\n",
    "$$\n",
    "\\mathcal{L}_{(i)} := -\\log \\mathbb{P}(y_{(i)} \\mid x_{(i)}) := -\\log \\mathbb{P}(\\text{class} = y_{(i)} \\mid \\text{image} = x_{(i)}).\n",
    "$$\n",
    "\n",
    "The training objective is to minimize the negative log-likelihood averaged over all training images, plus some regularization term:\n",
    "$$\n",
    "\\text{minimize} \\quad \\mathcal{L}_{N} := \\frac{1}{N} \\sum_{i=0}^{N-1} \\mathcal{L}_{(i)} + \\frac{\\lambda}{2} \\sum_{k=0}^{K-1} \\Vert w_k \\Vert_2^2,\n",
    "$$\n",
    "where $N$ is the number of training images, and $\\lambda$ is a hyperparameter controlling regularization strength.\n",
    "\n",
    "To optimize this objective, we use Stochastic Gradient Descent (SGD). At each optimization step, we will do the following:\n",
    "- Sample a mini-batch of $B$ training images.\n",
    "- Compute the loss $\\mathcal{L}_{B}$ and the gradient $\\frac{\\text{d}\\mathcal{L}_{B}}{\\text{d}W}$ on this mini-batch. Here, $\\mathcal{L}_{B}$ can be viewed as an unbiased estimate of $\\mathcal{L}_{N}$.\n",
    "- Update the weights: $W \\leftarrow W - \\eta \\frac{\\text{d}\\mathcal{L}_{B}}{\\text{d}W}$, where $\\eta$ is the learning rate."
   ],
   "metadata": {
    "id": "yzb2A8UVyEM9"
   }
  },
  {
   "cell_type": "markdown",
   "source": [
    "Now let us implement the loss function $\\mathcal{L}_{B}$ and its gradient $\\frac{\\text{d}\\mathcal{L}_{B}}{\\text{d}W}$. To take full advantage of GPU acceleration, we would like our implementation to be vectorized, that is, not containing any loops.\n",
    "\n",
    "We are given a mini-batch of $B$ training images\n",
    "$$\n",
    "X = \\begin{bmatrix}\n",
    "\\text{—} & x_{(0)}^\\top   & \\text{—}\\\\\n",
    "         & \\vdots         &         \\\\\n",
    "\\text{—} & x_{(B-1)}^\\top & \\text{—}\n",
    "\\end{bmatrix} \\in \\mathbb{R}^{B \\times D},\n",
    "$$\n",
    "and the corresponding labels\n",
    "$$\n",
    "y = \\begin{bmatrix}\n",
    "y_{(0)}\\\\\n",
    "\\vdots \\\\\n",
    "y_{(B-1)}\n",
    "\\end{bmatrix} \\in \\mathbb{R}^{B}.\n",
    "$$\n",
    "\n",
    "The vectorized implementation of the loss function $\\mathcal{L}_{B}$ is as follows:\n",
    "- Compute a matrix $O \\in \\mathbb{R}^{B \\times K}$ such that $O[i, k] = x_{(i)}^\\top w_k$.\n",
    "- Compute a matrix $P \\in \\mathbb{R}^{B \\times K}$ from $O$ such that $P[i, k] = \\mathbb{P}(\\text{class} = k \\mid \\text{image} = x_{(i)})$.\n",
    "- Obtain the vector $\\begin{bmatrix}\n",
    "\\mathcal{L}_{(0)}\\\\\n",
    "\\vdots\\\\\n",
    "\\mathcal{L}_{(B-1)}\n",
    "\\end{bmatrix}$ by computing the negative logarithm of proper elements of $P$.\n",
    "- Compute the mean of this vector, and add the regularization term.\n",
    "\n",
    "Please derive the gradient $\\frac{\\text{d}\\mathcal{L}_{B}}{\\text{d}W}$ and give a vectorized implementation of the gradient by yourself.\n",
    "\n",
    "Hint: You need to first compute $-\\frac{\\partial \\log \\! P[i, y_{(i)}]}{\\partial O[i, j]}$, since\n",
    "\n",
    "$$\n",
    "\\frac{\\partial \\mathcal{L}_{(i)}}{\\partial w_j}\n",
    "= -\\frac{\\partial \\log \\! P[i, y_{(i)}]}{\\partial O[i, j]} \\cdot \\frac{\\partial O[i, j]}{\\partial w_j} = -\\frac{\\partial \\log \\! P[i, y_{(i)}]}{\\partial O[i, j]} \\cdot x_{(i)}.\n",
    "$$\n",
    "\n",
    "The following might be useful:\n",
    "- Let $\\alpha, \\beta, \\gamma$ be real numbers and $x$ be a vector, then\n",
    "$$\n",
    "\\begin{bmatrix}\n",
    "\\vert    & \\vert   & \\vert   \\\\\n",
    "\\alpha x & \\beta x & \\gamma x\\\\\n",
    "\\vert    & \\vert   & \\vert\n",
    "\\end{bmatrix} = \\begin{bmatrix}\n",
    "\\vert\\\\\n",
    "x    \\\\\n",
    "\\vert\n",
    "\\end{bmatrix} \\begin{bmatrix}\n",
    "\\alpha & \\beta & \\gamma\n",
    "\\end{bmatrix}.\n",
    "$$\n",
    "- Let $x_1, x_2, x_3$ and $y_1, y_2, y_3$ be vectors, then\n",
    "$$\n",
    "\\begin{bmatrix}\n",
    "\\vert & \\vert & \\vert\\\\\n",
    "x_1   & x_2   & x_3  \\\\\n",
    "\\vert & \\vert & \\vert\n",
    "\\end{bmatrix} \\begin{bmatrix}\n",
    "\\text{—} & y_1^\\top & \\text{—}\\\\\n",
    "\\text{—} & y_2^\\top & \\text{—}\\\\\n",
    "\\text{—} & y_3^\\top & \\text{—}\n",
    "\\end{bmatrix} = x_1 y_1^\\top + x_2 y_2^\\top + x_3 y_3^\\top.\n",
    "$$\n",
    "- By definition,\n",
    "$$\n",
    "\\frac{\\text{d}\\mathcal{L}_{(i)}}{\\text{d}W} = \\begin{bmatrix}\n",
    "\\vert &        & \\vert  \\\\\n",
    "\\frac{\\partial \\mathcal{L}_{(i)}}{\\partial w_0}   & \\cdots & \\frac{\\partial \\mathcal{L}_{(i)}}{\\partial w_{K-1}}\\\\\n",
    "\\vert &        & \\vert\n",
    "\\end{bmatrix}.\n",
    "$$"
   ],
   "metadata": {
    "id": "sO0k8ozvyEM-"
   }
  },
  {
   "cell_type": "code",
   "execution_count": 5,
   "source": [
    "def softmax_loss_vectorized(W, X, y, reg):\r\n",
    "  \"\"\"\r\n",
    "  Softmax loss function, vectorized version.\r\n",
    "\r\n",
    "  Inputs:\r\n",
    "  - W: A PyTorch tensor of shape (D, K) containing weights.\r\n",
    "  - X: A PyTorch tensor of shape (B, D) containing a mini-batch of images.\r\n",
    "  - y: A PyTorch tensor of shape (B,) containing the corresponding labels;\r\n",
    "    y[i] = k means that X[i] has label k, where 0 <= k < K.\r\n",
    "  - reg: (float) regularization strength (equals lambda).\r\n",
    "\r\n",
    "  Returns:\r\n",
    "  - loss: A PyTorch scalar containing the loss for the mini-batch.\r\n",
    "  - dW: A PyTorch tensor of the same shape as W containing the gradient.\r\n",
    "  \"\"\"\r\n",
    "  #############################################################################\r\n",
    "  # TODO: Compute the softmax loss and its gradient without explicit loops.   #\r\n",
    "  # Store the loss in `loss` and the gradient in `dW`. You are NOT allowed to #\r\n",
    "  # use PyTorch's built-in loss functions. Don't forget the regularization!   #\r\n",
    "  #############################################################################\r\n",
    "  # Replace \"pass\" statement with your code\r\n",
    "  K = W.shape[1]\r\n",
    "  O = (X.mm(W)).cuda()\r\n",
    "  temp = ((O - torch.max(O, dim = 1)[0].view(-1, 1)).exp()).cuda()\r\n",
    "  # *Remark: reduce by O[i,max] for numerical stability\r\n",
    "  P = (temp/torch.sum(temp, dim = 1).view(-1, 1)).cuda()\r\n",
    "  y_onehot = (torch.nn.functional.one_hot(y)).cuda()\r\n",
    "  L = (-torch.sum(y_onehot * P.log(), dim = 1)).cuda()\r\n",
    "  # * Remark: tensor multiplication \r\n",
    "  \r\n",
    "  loss = (L.mean() + reg/2 * (W**2).sum()).cuda()\r\n",
    "  dP = ((P - y_onehot).t().reshape(K, -1, 1)).cuda()\r\n",
    "  dL = (torch.mean(X.repeat(K, 1, 1) * dP, dim = 1).t()).cuda()\r\n",
    "  dW = (dL + reg * W).cuda()\r\n",
    "  \r\n",
    "  # END OF YOUR CODE\r\n",
    "  return loss, dW"
   ],
   "outputs": [],
   "metadata": {
    "deletable": false,
    "id": "ACeNdRReyEM_",
    "nbgrader": {
     "cell_type": "code",
     "checksum": "10e578401ae9e0f352fe6507df9cb55a",
     "grade": false,
     "grade_id": "cell-b27502f4b61fdb05",
     "locked": false,
     "schema_version": 3,
     "solution": true,
     "task": false
    }
   }
  },
  {
   "cell_type": "code",
   "execution_count": 54,
   "source": [
    "#\r\n",
    "# RMQ: 3 ways of vectorized dL is provided\r\n",
    "def my_softmax_loss_vectorized(W, X, y, reg):\r\n",
    "  \"\"\"\r\n",
    "  Softmax loss function, vectorized version.\r\n",
    "\r\n",
    "  Inputs:\r\n",
    "  - W: A PyTorch tensor of shape (D, K) containing weights.\r\n",
    "  - X: A PyTorch tensor of shape (B, D) containing a mini-batch of images.\r\n",
    "  - y: A PyTorch tensor of shape (B,) containing the corresponding labels;\r\n",
    "    y[i] = k means that X[i] has label k, where 0 <= k < K.\r\n",
    "  - reg: (float) regularization strength (equals lambda).\r\n",
    "\r\n",
    "  Returns:\r\n",
    "  - loss: A PyTorch scalar containing the loss for the mini-batch.\r\n",
    "  - dW: A PyTorch tensor of the same shape as W containing the gradient.\r\n",
    "  \"\"\"\r\n",
    "  #############################################################################\r\n",
    "  \r\n",
    "  # Compute the softmax loss and its gradient without explicit loops.         #\r\n",
    "  # Store the loss in `loss` and the gradient in `dW`. You are NOT allowed to #\r\n",
    "  # use PyTorch's built-in loss functions. Don't forget the regularization!   #\r\n",
    "  #############################################################################\r\n",
    "  # Replace \"pass\" statement with your code\r\n",
    "  K = W.shape[1]\r\n",
    "  O = (X.mm(W)).cuda()\r\n",
    "  temp = ((O - torch.max(O, dim = 1)[0].view(-1, 1)).exp()).cuda()\r\n",
    "  # *Remark: reduce by O[i,max] for numerical stability\r\n",
    "  P = (temp/torch.sum(temp, dim = 1).view(-1, 1)).cuda()\r\n",
    "  y_onehot = (torch.nn.functional.one_hot(y)).cuda()\r\n",
    "  L = (-torch.sum(y_onehot * P.log(), dim = 1)).cuda()\r\n",
    "  # * Remark: tensor multiplication \r\n",
    "  \r\n",
    "  loss = (L.mean() + reg/2 * (W**2).sum()).cuda()\r\n",
    "  \r\n",
    "  # way1 cal deriv\r\n",
    "  dP = ((P - y_onehot).t().reshape(K, -1, 1)).cuda()\r\n",
    "  dL = (torch.mean(X.repeat(K, 1, 1) * dP, dim = 1).t()).cuda()\r\n",
    "  # way2 cal deriv: matrix multiplication\r\n",
    "  dL2 = X.t().mm(P - y_onehot).cuda()/y_onehot.shape[0]\r\n",
    "  # way3 cal deriv: \r\n",
    "  X_tensor = torch.transpose(X.t().repeat(K, 1, 1), dim0=0, dim1=-1) # B,D,K\r\n",
    "  dP3 = (P - y_onehot).reshape(-1, 1, K) # B, 1, K\r\n",
    "  dL3 = torch.mean(X_tensor * dP3, dim=0)\r\n",
    "  return dL, dL2, dL3\r\n",
    "\r\n",
    "W = torch.empty(20, 4, device='cuda').normal_()*1e-4\r\n",
    "X = torch.randn(5, 20).cuda()\r\n",
    "y = torch.tensor([0, 1, 3, 2, 1]).cuda()\r\n",
    "\r\n",
    "d1, d2, d3 = my_softmax_loss_vectorized(W, X, y, reg=0.0)\r\n",
    "\r\n",
    "print(torch.dist(d1, d2))\r\n",
    "print(torch.dist(d1, d3))"
   ],
   "outputs": [],
   "metadata": {}
  },
  {
   "cell_type": "markdown",
   "source": [
    "As a sanity check to see whether the loss function has been implemented correctly, run it with a small random weight matrix and no regularization. The classifer should output approximately equal probabilities for each class. Hence, the loss should be near $-\\log(1/10) = 2.3$."
   ],
   "metadata": {
    "id": "pOGK27QPyEM_"
   }
  },
  {
   "cell_type": "code",
   "execution_count": 5,
   "source": [
    "torch.manual_seed(0)\r\n",
    "W = torch.empty(3073, 10, device='cuda').normal_() * 1e-4\r\n",
    "\r\n",
    "X_batch = data_dict['X_train'][:128]\r\n",
    "y_batch = data_dict['y_train'][:128]\r\n",
    "\r\n",
    "loss, grad = softmax_loss_vectorized(W, X_batch, y_batch, reg=0.0)\r\n",
    "loss = loss.item()\r\n",
    "\r\n",
    "print('loss: %f' % loss)\r\n",
    "print('log(10): %f' % math.log(10.0))\r\n",
    "\r\n",
    "assert abs(loss - math.log(10.0)) < 0.01, 'sanity check failed'"
   ],
   "outputs": [
    {
     "output_type": "stream",
     "name": "stdout",
     "text": [
      "loss: 2.302799\n",
      "log(10): 2.302585\n"
     ]
    }
   ],
   "metadata": {
    "colab": {
     "base_uri": "https://localhost:8080/"
    },
    "deletable": false,
    "editable": false,
    "id": "oztUd-iByENA",
    "nbgrader": {
     "cell_type": "code",
     "checksum": "fdfc3d06c7aba84c11481d42556ce404",
     "grade": true,
     "grade_id": "cell-b5e586fbff84b184",
     "locked": true,
     "points": 10,
     "schema_version": 3,
     "solution": false,
     "task": false
    },
    "outputId": "9f36a9be-0107-4c63-e9c2-5e267cb0cbe8"
   }
  },
  {
   "cell_type": "markdown",
   "source": [
    "Next, we use gradient checking to validate our implementation of the analytic gradient. If you've implemented the gradient correctly, you should see relative errors less than `1e-5`. We will use the following function to perform gradient checking."
   ],
   "metadata": {
    "id": "EEmHtp9LyENA"
   }
  },
  {
   "cell_type": "code",
   "execution_count": 6,
   "source": [
    "def grad_check_sparse(f, x, analytic_grad, num_checks=10, h=1e-7):\r\n",
    "  \"\"\"\r\n",
    "  Utility function to perform numeric gradient checking. We use the centered\r\n",
    "  difference formula to compute a numeric derivative:\r\n",
    "\r\n",
    "  f'(x) ~= (f(x + h) - f(x - h)) / (2h).\r\n",
    "\r\n",
    "  Rather than computing a full numeric gradient, we sparsely sample a few\r\n",
    "  dimensions along which to compute numeric derivatives.\r\n",
    "\r\n",
    "  Inputs:\r\n",
    "  - f: A function that inputs a PyTorch tensor and returns a PyTorch scalar.\r\n",
    "  - x: A PyTorch tensor giving the point at which to evaluate the numeric gradient.\r\n",
    "  - analytic_grad: A PyTorch tensor giving the analytic gradient of f at x.\r\n",
    "  - num_checks: The number of dimensions along which to check.\r\n",
    "  - h: Step size for computing numeric derivatives.\r\n",
    "  \"\"\"\r\n",
    "  random.seed(0)\r\n",
    "\r\n",
    "  for i in range(num_checks):\r\n",
    "\r\n",
    "    ix = tuple([random.randrange(m) for m in x.shape])\r\n",
    "\r\n",
    "    oldval = x[ix].item()\r\n",
    "    x[ix] = oldval + h # increment by h\r\n",
    "    fxph = f(x).item() # evaluate f(x + h)\r\n",
    "    x[ix] = oldval - h # increment by h\r\n",
    "    fxmh = f(x).item() # evaluate f(x - h)\r\n",
    "    x[ix] = oldval     # reset\r\n",
    "\r\n",
    "    grad_numeric = (fxph - fxmh) / (2 * h)\r\n",
    "    grad_analytic = analytic_grad[ix].item()\r\n",
    "    rel_error_top = abs(grad_numeric - grad_analytic)\r\n",
    "    rel_error_bot = abs(grad_numeric) + abs(grad_analytic) + 1e-12\r\n",
    "    rel_error = rel_error_top / rel_error_bot\r\n",
    "    \r\n",
    "    msg = 'numeric: %f \\t analytic: %f \\t relative error: %e'\r\n",
    "    print(msg % (grad_numeric, grad_analytic, rel_error))\r\n",
    "    assert rel_error < 1e-5, 'gradient checking failed'"
   ],
   "outputs": [],
   "metadata": {
    "deletable": false,
    "editable": false,
    "id": "icI1aPFIyENA",
    "nbgrader": {
     "cell_type": "code",
     "checksum": "22ab8beca93a3f7bc4b8b1b6eb30d616",
     "grade": false,
     "grade_id": "cell-eb58d5e66b62ddf9",
     "locked": true,
     "schema_version": 3,
     "solution": false,
     "task": false
    }
   }
  },
  {
   "cell_type": "code",
   "execution_count": 7,
   "source": [
    "torch.manual_seed(0)\r\n",
    "W = torch.empty(3073, 10, device='cuda', dtype=torch.double).normal_() * 1e-2\r\n",
    "\r\n",
    "X_batch = data_dict['X_train'][:128].double()\r\n",
    "y_batch = data_dict['y_train'][:128]\r\n",
    "\r\n",
    "loss, grad = softmax_loss_vectorized(W, X_batch, y_batch, reg=0.0)\r\n",
    "\r\n",
    "f = lambda w: softmax_loss_vectorized(w, X_batch, y_batch, reg=0.0)[0]\r\n",
    "grad_check_sparse(f, W, grad)"
   ],
   "outputs": [
    {
     "output_type": "stream",
     "name": "stdout",
     "text": [
      "numeric: 0.002246 \t analytic: 0.002246 \t relative error: 3.404026e-07\n",
      "numeric: 0.049154 \t analytic: 0.049154 \t relative error: 1.663957e-08\n",
      "numeric: 0.059174 \t analytic: 0.059174 \t relative error: 9.175266e-09\n",
      "numeric: -0.016110 \t analytic: -0.016110 \t relative error: 5.265960e-08\n",
      "numeric: 0.020446 \t analytic: 0.020446 \t relative error: 4.777650e-09\n",
      "numeric: 0.048940 \t analytic: 0.048940 \t relative error: 3.072825e-09\n",
      "numeric: -0.053441 \t analytic: -0.053441 \t relative error: 4.370996e-09\n",
      "numeric: -0.049557 \t analytic: -0.049557 \t relative error: 2.235197e-08\n",
      "numeric: -0.046222 \t analytic: -0.046222 \t relative error: 1.717001e-08\n",
      "numeric: -0.044180 \t analytic: -0.044180 \t relative error: 6.629777e-09\n"
     ]
    }
   ],
   "metadata": {
    "colab": {
     "base_uri": "https://localhost:8080/"
    },
    "deletable": false,
    "editable": false,
    "id": "ujcPDuEByENB",
    "nbgrader": {
     "cell_type": "code",
     "checksum": "3d8767b9184d402dbbb877f897e995f5",
     "grade": true,
     "grade_id": "cell-1fe9146ce30b4eac",
     "locked": true,
     "points": 10,
     "schema_version": 3,
     "solution": false,
     "task": false
    },
    "outputId": "6929b759-b7eb-4954-f8b9-ebb02c6538d9"
   }
  },
  {
   "cell_type": "markdown",
   "source": [
    "Let's perform another gradient checking with regularization enabled. Again you should see relative errors less than `1e-5`."
   ],
   "metadata": {
    "id": "2a_8BbosyENB"
   }
  },
  {
   "cell_type": "code",
   "execution_count": 8,
   "source": [
    "torch.manual_seed(0)\r\n",
    "W = torch.empty(3073, 10, device='cuda', dtype=torch.double).normal_() * 1e-2\r\n",
    "\r\n",
    "X_batch = data_dict['X_train'][:128].double()\r\n",
    "y_batch = data_dict['y_train'][:128]\r\n",
    "\r\n",
    "loss, grad = softmax_loss_vectorized(W, X_batch, y_batch, reg=100.0)\r\n",
    "\r\n",
    "f = lambda w: softmax_loss_vectorized(w, X_batch, y_batch, reg=100.0)[0]\r\n",
    "grad_check_sparse(f, W, grad)"
   ],
   "outputs": [
    {
     "output_type": "stream",
     "name": "stdout",
     "text": [
      "numeric: 0.468494 \t analytic: 0.468494 \t relative error: 1.371757e-08\n",
      "numeric: 0.336506 \t analytic: 0.336506 \t relative error: 1.626280e-07\n",
      "numeric: 0.746915 \t analytic: 0.746915 \t relative error: 1.575050e-08\n",
      "numeric: 0.089846 \t analytic: 0.089847 \t relative error: 4.640806e-07\n",
      "numeric: -0.382149 \t analytic: -0.382149 \t relative error: 1.634519e-08\n",
      "numeric: -0.595274 \t analytic: -0.595274 \t relative error: 1.069055e-07\n",
      "numeric: -2.658249 \t analytic: -2.658249 \t relative error: 1.113944e-08\n",
      "numeric: -1.051736 \t analytic: -1.051736 \t relative error: 1.549830e-08\n",
      "numeric: 4.157657 \t analytic: 4.157657 \t relative error: 1.642005e-08\n",
      "numeric: -0.528075 \t analytic: -0.528075 \t relative error: 3.787722e-08\n"
     ]
    }
   ],
   "metadata": {
    "colab": {
     "base_uri": "https://localhost:8080/"
    },
    "deletable": false,
    "editable": false,
    "id": "xdinxGT6yENB",
    "nbgrader": {
     "cell_type": "code",
     "checksum": "1b2c4dea1841c61475cf6a2ef7073e69",
     "grade": true,
     "grade_id": "cell-b1190851ac6719f9",
     "locked": true,
     "points": 10,
     "schema_version": 3,
     "solution": false,
     "task": false
    },
    "outputId": "68d1ce1b-c636-43c0-cfd6-a93f5ede730a"
   }
  },
  {
   "cell_type": "markdown",
   "source": [
    "Now let's run and time your vectorized implementation. On a mini-batch of size 128, it should take less than 10ms."
   ],
   "metadata": {
    "id": "rT1C6RcdyENB"
   }
  },
  {
   "cell_type": "code",
   "execution_count": 9,
   "source": [
    "torch.manual_seed(0)\r\n",
    "W = torch.empty(3073, 10, device='cuda').normal_() * 1e-2\r\n",
    "\r\n",
    "X_batch = data_dict['X_train'][:128]\r\n",
    "y_batch = data_dict['y_train'][:128]\r\n",
    "\r\n",
    "torch.cuda.synchronize()\r\n",
    "tic = time.time()\r\n",
    "\r\n",
    "loss, grad = softmax_loss_vectorized(W, X_batch, y_batch, reg=1.0)\r\n",
    "\r\n",
    "torch.cuda.synchronize()\r\n",
    "toc = time.time()\r\n",
    "\r\n",
    "computation_time_ms = 1000 * (toc - tic)\r\n",
    "print('computation time: %fms' % computation_time_ms)\r\n",
    "assert computation_time_ms < 10, 'time limit exceeded'"
   ],
   "outputs": [
    {
     "output_type": "stream",
     "name": "stdout",
     "text": [
      "computation time: 1.257658ms\n"
     ]
    }
   ],
   "metadata": {
    "colab": {
     "base_uri": "https://localhost:8080/"
    },
    "deletable": false,
    "editable": false,
    "id": "2AT_tIUsyENC",
    "nbgrader": {
     "cell_type": "code",
     "checksum": "c2c0259344dc2911889fc0161afba82a",
     "grade": true,
     "grade_id": "cell-a4dac1096d836895",
     "locked": true,
     "points": 10,
     "schema_version": 3,
     "solution": false,
     "task": false
    },
    "outputId": "68b5eb00-afab-4cf6-be1a-855c572e5661"
   }
  },
  {
   "cell_type": "markdown",
   "source": [
    "## Training\n",
    "\n",
    "Now that we have an efficient vectorized implementation of the loss function and its gradient, we can implement a training pipeline that optimizes the weight matrix $W$ by Stochastic Gradient Descent (SGD)."
   ],
   "metadata": {
    "id": "3a8KwvUOyENC"
   }
  },
  {
   "cell_type": "code",
   "execution_count": 10,
   "source": [
    "def train_linear_classifier(loss_func, W, X, y, learning_rate=1e-3, \r\n",
    "                            reg=1e-5, num_iters=100, batch_size=200, verbose=False):\r\n",
    "  \"\"\"\r\n",
    "  Train linear classifier using stochastic gradient descent.\r\n",
    "\r\n",
    "  Inputs:\r\n",
    "  - loss_func: loss function to use when training. It should take W, X, y,\r\n",
    "    and reg as input, and output a tuple of (loss, dW).\r\n",
    "  - W: A PyTorch tensor of shape (D, K) giving the initial weights of the\r\n",
    "    classifier. If W is None then it will be initialized here.\r\n",
    "  - X: A PyTorch tensor of shape (N, D) containing all the training images.\r\n",
    "  - y: A PyTorch tensor of shape (N,) containing all the training labels;\r\n",
    "    y[i] = k means that X[i] has label k, where 0 <= k < K.\r\n",
    "  - learning_rate: (float) learning rate for optimization.\r\n",
    "  - reg: (float) regularization strength (equals lambda).\r\n",
    "  - num_iters: (integer) number of optimization steps.\r\n",
    "  - batch_size: (integer) number of training samples to use at each step.\r\n",
    "  - verbose: (boolean) If true, print progress during optimization.\r\n",
    "\r\n",
    "  Returns:\r\n",
    "  - W: The final value of the weight matrix at the end of optimization.\r\n",
    "  - loss_history: A list of Python scalars giving the values of the loss at each\r\n",
    "    training iteration.\r\n",
    "  \"\"\"\r\n",
    "  N, D = X.shape\r\n",
    "  if W is None:\r\n",
    "    K = torch.max(y).item() + 1\r\n",
    "    W = X.new_empty(D, K).normal_() * 1e-2\r\n",
    "  else:\r\n",
    "    K = W.shape[1]\r\n",
    "\r\n",
    "  # Run stochastic gradient descent to optimize W\r\n",
    "  loss_history = []\r\n",
    "  for it in range(num_iters):\r\n",
    "    X_batch = None\r\n",
    "    y_batch = None\r\n",
    "    #########################################################################\r\n",
    "    # TODO:                                                                 #\r\n",
    "    # Sample `batch_size` images and their corresponding labels.            #\r\n",
    "    # Store them in `X_batch` and `y_batch`, respectively.                  #\r\n",
    "    # `X_batch` should have shape (batch_size, D).                          #\r\n",
    "    # `y_batch` should have shape (batch_size,).                            #\r\n",
    "    #                                                                       #\r\n",
    "    # Hint: Use torch.randint() to generate indices.                        #\r\n",
    "    #########################################################################\r\n",
    "    # Replace \"pass\" statement with your code\r\n",
    "    idx = torch.randint(0, N, (batch_size,))\r\n",
    "    X_batch = X[idx, :]\r\n",
    "    y_batch = y[idx]\r\n",
    "    # END OF YOUR CODE\r\n",
    "\r\n",
    "    # Compute loss and gradient\r\n",
    "    loss, grad = loss_func(W, X_batch, y_batch, reg)\r\n",
    "    loss_history.append(loss.item())\r\n",
    "\r\n",
    "    # Perform parameter update\r\n",
    "    #########################################################################\r\n",
    "    # TODO:                                                                 #\r\n",
    "    # Update the weights using the gradient and the learning rate.          #\r\n",
    "    #########################################################################\r\n",
    "    # Replace \"pass\" statement with your code\r\n",
    "    W = W - learning_rate * grad\r\n",
    "    # END OF YOUR CODE\r\n",
    "\r\n",
    "    if verbose and it % 100 == 0:\r\n",
    "      print('iteration %d / %d: loss %f' % (it, num_iters, loss))\r\n",
    "\r\n",
    "  return W, loss_history"
   ],
   "outputs": [],
   "metadata": {
    "deletable": false,
    "id": "6e38YOOfyENC",
    "nbgrader": {
     "cell_type": "code",
     "checksum": "825a1723b5048255f782bffa1284034e",
     "grade": false,
     "grade_id": "cell-a3fdc0949ade371e",
     "locked": false,
     "schema_version": 3,
     "solution": true,
     "task": false
    }
   }
  },
  {
   "cell_type": "markdown",
   "source": [
    "First, let us perform a single optimization step to check if there is any bug in the training pipeline."
   ],
   "metadata": {
    "id": "O__bD-XPyEND"
   }
  },
  {
   "cell_type": "code",
   "execution_count": 11,
   "source": [
    "W_init = torch.ones(3073, 10, device='cuda')\r\n",
    "W, loss_hist = train_linear_classifier(softmax_loss_vectorized, W_init,\r\n",
    "                                       data_dict['X_train'],\r\n",
    "                                       data_dict['y_train'],\r\n",
    "                                       learning_rate=1e-6, reg=1e4,\r\n",
    "                                       num_iters=1, verbose=True)\r\n",
    "\r\n",
    "assert not math.isnan(loss_hist[0])"
   ],
   "outputs": [
    {
     "output_type": "stream",
     "name": "stdout",
     "text": [
      "iteration 0 / 1: loss 153650000.000000\n"
     ]
    }
   ],
   "metadata": {
    "colab": {
     "base_uri": "https://localhost:8080/"
    },
    "deletable": false,
    "editable": false,
    "id": "HE9cR8btyEND",
    "nbgrader": {
     "cell_type": "code",
     "checksum": "b060e37aec7c6297ae1b8c78f1185f42",
     "grade": true,
     "grade_id": "cell-64c72c82afb95729",
     "locked": true,
     "points": 10,
     "schema_version": 3,
     "solution": false,
     "task": false
    },
    "outputId": "875a48d9-df39-4baf-c541-571c44d9596b"
   }
  },
  {
   "cell_type": "markdown",
   "source": [
    "Now let's train the classifier with some default hyperparameters:"
   ],
   "metadata": {
    "id": "WODISaW1yEND"
   }
  },
  {
   "cell_type": "code",
   "execution_count": 12,
   "source": [
    "torch.manual_seed(0)\r\n",
    "\r\n",
    "W, loss_hist = train_linear_classifier(softmax_loss_vectorized, None,\r\n",
    "                                       data_dict['X_train'],\r\n",
    "                                       data_dict['y_train'],\r\n",
    "                                       learning_rate=1e-6, reg=1e4,\r\n",
    "                                       num_iters=200, verbose=True)"
   ],
   "outputs": [
    {
     "output_type": "stream",
     "name": "stdout",
     "text": [
      "iteration 0 / 200: loss 15291.561523\n",
      "iteration 100 / 200: loss 2050.726074\n"
     ]
    }
   ],
   "metadata": {
    "colab": {
     "base_uri": "https://localhost:8080/"
    },
    "id": "5YW2Tn-syENE",
    "outputId": "b6c56fd4-ad77-4675-8bc0-9e3d8d443d0a"
   }
  },
  {
   "cell_type": "markdown",
   "source": [
    "Plot the loss curve:"
   ],
   "metadata": {
    "id": "bSI8ZRX3yENE"
   }
  },
  {
   "cell_type": "code",
   "execution_count": 13,
   "source": [
    "plt.plot(loss_hist, 'o')\r\n",
    "plt.xlabel('Iteration number')\r\n",
    "plt.ylabel('Loss value')\r\n",
    "plt.show()"
   ],
   "outputs": [
    {
     "output_type": "display_data",
     "data": {
      "text/plain": [
       "<Figure size 432x288 with 1 Axes>"
      ],
      "image/png": "[encoded data removed]"
     },
     "metadata": {
      "needs_background": "light",
      "tags": []
     }
    }
   ],
   "metadata": {
    "colab": {
     "base_uri": "https://localhost:8080/",
     "height": 283
    },
    "id": "rcnJ52DXyENE",
    "outputId": "128d5f95-0b18-4ff2-9a5c-ad747a0d4e56"
   }
  },
  {
   "cell_type": "markdown",
   "source": [
    "## Prediction\n",
    "\n",
    "Let's move on to the prediction stage."
   ],
   "metadata": {
    "id": "SzUcBdsGyENE"
   }
  },
  {
   "cell_type": "code",
   "execution_count": 14,
   "source": [
    "def predict_linear_classifier(W, X):\r\n",
    "  \"\"\"\r\n",
    "  Use the trained weights to predict labels for images.\r\n",
    "\r\n",
    "  Inputs:\r\n",
    "  - W: A PyTorch tensor of shape (D, K) containing the weights of a classifier.\r\n",
    "  - X: A PyTorch tensor of shape (N, D) containing images for prediction.\r\n",
    "\r\n",
    "  Returns:\r\n",
    "  - y_pred: A PyTorch tensor of shape (N,) giving predicted labels.\r\n",
    "    Each element of y_pred should be a 64-bit integer between 0 and K-1.\r\n",
    "  \"\"\"\r\n",
    "  ###########################################################################\r\n",
    "  # TODO:                                                                   #\r\n",
    "  # Implement this method. Store the predicted labels in `y_pred`.          #\r\n",
    "  ###########################################################################\r\n",
    "  # Replace \"pass\" statement with your code\r\n",
    "  y_pred = torch.max(X.mm(W), dim = 1)[1]\r\n",
    "  # END OF YOUR CODE\r\n",
    "  return y_pred"
   ],
   "outputs": [],
   "metadata": {
    "deletable": false,
    "id": "D_KlUQ9WyENE",
    "nbgrader": {
     "cell_type": "code",
     "checksum": "a092a83afdcc612819cca7bf02583361",
     "grade": false,
     "grade_id": "cell-5c93da7d3d984c48",
     "locked": false,
     "schema_version": 3,
     "solution": true,
     "task": false
    }
   }
  },
  {
   "cell_type": "markdown",
   "source": [
    "We can now evaluate the performance of our trained model on both the training set and the validation set. You should see prediction accuracy less than 20%."
   ],
   "metadata": {
    "id": "ZY5_xtXnyENE"
   }
  },
  {
   "cell_type": "code",
   "execution_count": 15,
   "source": [
    "y_train_pred = predict_linear_classifier(W, data_dict['X_train'])\r\n",
    "train_acc = 100.0 * (data_dict['y_train'] == y_train_pred).float().mean().item()\r\n",
    "print('training accuracy: %.2f%%' % train_acc)\r\n",
    "\r\n",
    "y_val_pred = predict_linear_classifier(W, data_dict['X_val'])\r\n",
    "val_acc = 100.0 * (data_dict['y_val'] == y_val_pred).float().mean().item()\r\n",
    "print('validation accuracy: %.2f%%' % val_acc)\r\n",
    "\r\n",
    "assert train_acc < 20\r\n",
    "assert val_acc < 20"
   ],
   "outputs": [
    {
     "output_type": "stream",
     "name": "stdout",
     "text": [
      "training accuracy: 9.70%\n",
      "validation accuracy: 10.07%\n"
     ]
    }
   ],
   "metadata": {
    "colab": {
     "base_uri": "https://localhost:8080/"
    },
    "deletable": false,
    "editable": false,
    "id": "a_vrMYTPyENF",
    "nbgrader": {
     "cell_type": "code",
     "checksum": "502000f160ad1ccc8a6042aaa6491b97",
     "grade": true,
     "grade_id": "cell-3af9a3c2735082ed",
     "locked": true,
     "points": 10,
     "schema_version": 3,
     "solution": false,
     "task": false
    },
    "outputId": "7ae2a87f-b577-4924-cb40-80d30c0f8b2a"
   }
  },
  {
   "cell_type": "markdown",
   "source": [
    "## Cross Validation\n",
    "\n",
    "Unfortunately, the performance of our initial model is quite bad. We need to find better hyperparamters. Before doing that, let us first put together the functions we've implemented."
   ],
   "metadata": {
    "id": "F5bvFtGCyENF"
   }
  },
  {
   "cell_type": "code",
   "execution_count": 16,
   "source": [
    "class LinearClassifier:\r\n",
    "\r\n",
    "  def __init__(self):\r\n",
    "    self.W = None\r\n",
    "\r\n",
    "  def train(self, X_train, y_train, learning_rate=1e-3, reg=1e-5, num_iters=100,\r\n",
    "            batch_size=200, verbose=False):\r\n",
    "    train_args = (self.loss, self.W, X_train, y_train, learning_rate, reg,\r\n",
    "                  num_iters, batch_size, verbose)\r\n",
    "    self.W, loss_history = train_linear_classifier(*train_args)\r\n",
    "    return loss_history\r\n",
    "\r\n",
    "  def predict(self, X):\r\n",
    "    return predict_linear_classifier(self.W, X)\r\n",
    "\r\n",
    "  def loss(self, W, X_batch, y_batch, reg):\r\n",
    "    return softmax_loss_vectorized(W, X_batch, y_batch, reg)"
   ],
   "outputs": [],
   "metadata": {
    "deletable": false,
    "editable": false,
    "id": "IuYbwVIHyENF",
    "nbgrader": {
     "cell_type": "code",
     "checksum": "2b46bce0169b3d855972a1a519ccd63f",
     "grade": false,
     "grade_id": "cell-b59610d5b1d58b7a",
     "locked": true,
     "schema_version": 3,
     "solution": false,
     "task": false
    }
   }
  },
  {
   "cell_type": "markdown",
   "source": [
    "Now, please use cross-validation to tune the hyperparameters (learning rate and regularization strength). You should experiment with different combinations of learning rates and regularization strengths. You may take a coarse-to-fine strategy, starting with a few initial combinations that coarsely cover a large range, then gradually narrowing down the range.\n",
    "\n",
    "To get full credit, your best model found through cross-validation should achieve an accuracy of at least 39% on the validation set."
   ],
   "metadata": {
    "id": "EwY7lY48yENF"
   }
  },
  {
   "cell_type": "code",
   "execution_count": 56,
   "source": [
    "# Store your cross-validation results in this dictionary.\r\n",
    "# The keys should be tuples of (learning_rate, regularization_strength) and\r\n",
    "# the values should be tuples of (train_accuracy, val_accuracy).\r\n",
    "results = {}\r\n",
    "\r\n",
    "# Also, save your best trained classifer as a LinearClassifier object.\r\n",
    "best_model = None\r\n",
    "\r\n",
    "################################################################################\r\n",
    "# TODO:                                                                        #\r\n",
    "# Use cross-validation to tune the learning rate and regularization strength.  #\r\n",
    "#                                                                              #\r\n",
    "# You need to provide some candidate combinations of learning rate and         #\r\n",
    "# regularization strength in your code. Then for each candidate combination,   #\r\n",
    "# you need to train a classifier on the training set, compute its accuracy on  #\r\n",
    "# both the training and validation sets, and store these numbers in the        #\r\n",
    "# `results` dictionary. In addition, save your best trained classifer (the one #\r\n",
    "# that achieves the best validation accuracy) in `best_model` (it should be a  #\r\n",
    "# LinearClassifier object).                                                    #\r\n",
    "#                                                                              #\r\n",
    "# Hint: You should use a small value for `num_iters` as you develop your       #\r\n",
    "# validation code so that the classifiers don't take much time to train;       #\r\n",
    "# once you are confident that your validation code works, you should rerun the #\r\n",
    "# validation code with a larger value for `num_iters` to ensure convergence.   #\r\n",
    "# You may plot loss curves and print relevant information to monitor the       #\r\n",
    "# training process.                                                            #\r\n",
    "################################################################################\r\n",
    "# Replace \"pass\" statement with your code\r\n",
    "learning_rate = torch.tensor([1e-2, 2e-3, 3e-3, 4e-3, 5e-3])\r\n",
    "reg = torch.tensor([5e-3, 1e-3, 5e-4, 1e-4, 5e-5, 1e-5, 5e-6, 1e-7, 5e-7])\r\n",
    "val_acc_init = 0\r\n",
    "for i in learning_rate:\r\n",
    "  for j in reg:\r\n",
    "    model = LinearClassifier()\r\n",
    "    loss_hist = model.train(data_dict['X_train'], data_dict['y_train'], learning_rate=i, reg=j, num_iters=500,\r\n",
    "            batch_size=200, verbose=False)\r\n",
    "    y_train_pred = model.predict(data_dict['X_train'])\r\n",
    "    train_acc = 100.0 * (data_dict['y_train'] == y_train_pred).float().mean().item()\r\n",
    "\r\n",
    "    y_val_pred = model.predict(data_dict['X_val'])\r\n",
    "    val_acc = 100.0 * (data_dict['y_val'] == y_val_pred).float().mean().item()\r\n",
    "    results.update({(i.item(), j.item()): (train_acc, val_acc)})\r\n",
    "    if val_acc > val_acc_init:\r\n",
    "      best_model = model\r\n",
    "      val_acc_init = val_acc\r\n",
    "# END OF YOUR CODE"
   ],
   "outputs": [],
   "metadata": {
    "deletable": false,
    "id": "NjuAQv3ayENG",
    "nbgrader": {
     "cell_type": "code",
     "checksum": "6d2f8ebfa6ea972bd4037ff12f66b4d0",
     "grade": false,
     "grade_id": "cell-e27d124b1f9f72f4",
     "locked": false,
     "schema_version": 3,
     "solution": true,
     "task": false
    }
   }
  },
  {
   "cell_type": "markdown",
   "source": [
    "Run the following to visualize your cross-validation results:"
   ],
   "metadata": {
    "id": "ERFcQrhoyENG"
   }
  },
  {
   "cell_type": "code",
   "execution_count": 57,
   "source": [
    "x_scatter = [math.log10(param[0]) for param in results]\r\n",
    "y_scatter = [math.log10(param[1] + 1e-10) for param in results]\r\n",
    "\r\n",
    "# Plot training accuracy\r\n",
    "marker_size = 100\r\n",
    "colors = [results[param][0] for param in results]\r\n",
    "plt.scatter(x_scatter, y_scatter, marker_size, c=colors, cmap='tab10')\r\n",
    "plt.colorbar()\r\n",
    "plt.xlabel('log learning rate')\r\n",
    "plt.ylabel('log regularization strength')\r\n",
    "plt.title('CIFAR-10 training accuracy')\r\n",
    "plt.gcf().set_size_inches(8, 5)\r\n",
    "plt.show()\r\n",
    "\r\n",
    "# Plot validation accuracy\r\n",
    "marker_size = 100\r\n",
    "colors = [results[param][1] for param in results]\r\n",
    "plt.scatter(x_scatter, y_scatter, marker_size, c=colors, cmap='tab10')\r\n",
    "plt.colorbar()\r\n",
    "plt.xlabel('log learning rate')\r\n",
    "plt.ylabel('log regularization strength')\r\n",
    "plt.title('CIFAR-10 validation accuracy')\r\n",
    "plt.gcf().set_size_inches(8, 5)\r\n",
    "plt.show()\r\n",
    "\r\n",
    "# Print best validation accuracy\r\n",
    "y_val_pred = best_model.predict(data_dict['X_val'])\r\n",
    "val_acc = 100.0 * (data_dict['y_val'] == y_val_pred).float().mean().item()\r\n",
    "print('best validation accuracy: %.2f%%' % val_acc)\r\n",
    "assert val_acc >= 39"
   ],
   "outputs": [
    {
     "output_type": "display_data",
     "data": {
      "text/plain": [
       "<Figure size 576x360 with 2 Axes>"
      ],
      "image/png": "[encoded data removed]"
     },
     "metadata": {
      "needs_background": "light",
      "tags": []
     }
    },
    {
     "output_type": "display_data",
     "data": {
      "text/plain": [
       "<Figure size 576x360 with 2 Axes>"
      ],
      "image/png": "[encoded data removed]"
     },
     "metadata": {
      "needs_background": "light",
      "tags": []
     }
    },
    {
     "output_type": "stream",
     "name": "stdout",
     "text": [
      "best validation accuracy: 39.30%\n"
     ]
    }
   ],
   "metadata": {
    "colab": {
     "base_uri": "https://localhost:8080/",
     "height": 700
    },
    "deletable": false,
    "editable": false,
    "id": "Ne4ClTP9yENG",
    "nbgrader": {
     "cell_type": "code",
     "checksum": "cddb5a8a0b0ddb074d1939c2bd7d6a24",
     "grade": true,
     "grade_id": "cell-7aaa3354258c3469",
     "locked": true,
     "points": 20,
     "schema_version": 3,
     "solution": false,
     "task": false
    },
    "outputId": "52280592-01b2-4949-a7e8-6753f5be113c"
   }
  },
  {
   "cell_type": "markdown",
   "source": [
    "## Testing\n",
    "\n",
    "Report the performance of your best model on the test set. This should be run only once."
   ],
   "metadata": {
    "id": "KXXW9DiYyENH"
   }
  },
  {
   "cell_type": "code",
   "execution_count": 58,
   "source": [
    "y_test_pred = best_model.predict(data_dict['X_test'])\r\n",
    "test_acc = 100.0 * (data_dict['y_test'] == y_test_pred).float().mean().item()\r\n",
    "print('test accuracy: %.2f%%' % test_acc)"
   ],
   "outputs": [
    {
     "output_type": "stream",
     "name": "stdout",
     "text": [
      "test accuracy: 39.10%\n"
     ]
    }
   ],
   "metadata": {
    "colab": {
     "base_uri": "https://localhost:8080/"
    },
    "id": "SklVZr9PyENH",
    "outputId": "f2f27e74-66e7-4423-cee2-daa3d8161d8a"
   }
  },
  {
   "cell_type": "markdown",
   "source": [
    "## Visualization\n",
    "\n",
    "Finally, let's visualize the learned weights for each class."
   ],
   "metadata": {
    "id": "4181jDS1yENH"
   }
  },
  {
   "cell_type": "code",
   "execution_count": 59,
   "source": [
    "w = best_model.W[:-1]  # strip out the bias\r\n",
    "w = w.reshape(3, 32, 32, 10)\r\n",
    "w = w.permute(1, 2, 0, 3)\r\n",
    "\r\n",
    "# Rescale the weights to be between 0 and 1\r\n",
    "w_min = torch.amin(w, dim=(0,1,2), keepdim=True)\r\n",
    "w_max = torch.amax(w, dim=(0,1,2), keepdim=True)\r\n",
    "w_img = (w - w_min) / (w_max - w_min)\r\n",
    "w_img = w_img.cpu()\r\n",
    "\r\n",
    "classes = ['airplane', 'automobile', 'bird', 'cat', 'deer', 'dog', 'frog', 'horse', 'ship', 'truck']\r\n",
    "for i in range(10):\r\n",
    "  plt.subplot(2, 5, i+1)\r\n",
    "  plt.imshow(w_img[..., i])\r\n",
    "  plt.axis('off')\r\n",
    "  plt.title(classes[i])"
   ],
   "outputs": [
    {
     "output_type": "display_data",
     "data": {
      "text/plain": [
       "<Figure size 432x288 with 10 Axes>"
      ],
      "image/png": "[encoded data removed]"
     },
     "metadata": {
      "needs_background": "light",
      "tags": []
     }
    }
   ],
   "metadata": {
    "colab": {
     "base_uri": "https://localhost:8080/",
     "height": 223
    },
    "id": "TDoToFyGyENH",
    "outputId": "d963c851-aee2-428e-ec88-e8578fdcb50c"
   }
  },
  {
   "cell_type": "code",
   "execution_count": null,
   "source": [],
   "outputs": [],
   "metadata": {
    "id": "OVwuK2_LzCgr"
   }
  }
 ],
 "metadata": {
  "accelerator": "GPU",
  "colab": {
   "collapsed_sections": [],
   "name": "ys688.ipynb",
   "provenance": []
  },
  "kernelspec": {
   "name": "python3",
   "display_name": "Python 3.8.8 64-bit (conda)"
  },
  "language_info": {
   "codemirror_mode": {
    "name": "ipython",
    "version": 3
   },
   "file_extension": ".py",
   "mimetype": "text/x-python",
   "name": "python",
   "nbconvert_exporter": "python",
   "pygments_lexer": "ipython3",
   "version": "3.8.8"
  },
  "widgets": {
   "application/vnd.jupyter.widget-state+json": {
    "4b8f968bde56446e84833ee3a100d981": {
     "model_module": "@jupyter-widgets/controls",
     "model_name": "DescriptionStyleModel",
     "state": {
      "_model_module": "@jupyter-widgets/controls",
      "_model_module_version": "1.5.0",
      "_model_name": "DescriptionStyleModel",
      "_view_count": null,
      "_view_module": "@jupyter-widgets/base",
      "_view_module_version": "1.2.0",
      "_view_name": "StyleView",
      "description_width": ""
     }
    },
    "5e9b75069e81497bb730e97769dc994b": {
     "model_module": "@jupyter-widgets/controls",
     "model_name": "FloatProgressModel",
     "state": {
      "_dom_classes": [],
      "_model_module": "@jupyter-widgets/controls",
      "_model_module_version": "1.5.0",
      "_model_name": "FloatProgressModel",
      "_view_count": null,
      "_view_module": "@jupyter-widgets/controls",
      "_view_module_version": "1.5.0",
      "_view_name": "ProgressView",
      "bar_style": "info",
      "description": "",
      "description_tooltip": null,
      "layout": "IPY_MODEL_e2fa892a53e546e594f4a102e5af0241",
      "max": 1,
      "min": 0,
      "orientation": "horizontal",
      "style": "IPY_MODEL_ac83e065e073472a9bdaf39e201ba433",
      "value": 1
     }
    },
    "9333ef28167f4a259e81ed1371abc595": {
     "model_module": "@jupyter-widgets/controls",
     "model_name": "HBoxModel",
     "state": {
      "_dom_classes": [],
      "_model_module": "@jupyter-widgets/controls",
      "_model_module_version": "1.5.0",
      "_model_name": "HBoxModel",
      "_view_count": null,
      "_view_module": "@jupyter-widgets/controls",
      "_view_module_version": "1.5.0",
      "_view_name": "HBoxView",
      "box_style": "",
      "children": [
       "IPY_MODEL_5e9b75069e81497bb730e97769dc994b",
       "IPY_MODEL_a6c5d65e47ec404499cb8579124ff75c"
      ],
      "layout": "IPY_MODEL_eb9130b3b2b743cdb73fbd793e9bb57a"
     }
    },
    "9983d48eab1148168665457e051dce7a": {
     "model_module": "@jupyter-widgets/base",
     "model_name": "LayoutModel",
     "state": {
      "_model_module": "@jupyter-widgets/base",
      "_model_module_version": "1.2.0",
      "_model_name": "LayoutModel",
      "_view_count": null,
      "_view_module": "@jupyter-widgets/base",
      "_view_module_version": "1.2.0",
      "_view_name": "LayoutView",
      "align_content": null,
      "align_items": null,
      "align_self": null,
      "border": null,
      "bottom": null,
      "display": null,
      "flex": null,
      "flex_flow": null,
      "grid_area": null,
      "grid_auto_columns": null,
      "grid_auto_flow": null,
      "grid_auto_rows": null,
      "grid_column": null,
      "grid_gap": null,
      "grid_row": null,
      "grid_template_areas": null,
      "grid_template_columns": null,
      "grid_template_rows": null,
      "height": null,
      "justify_content": null,
      "justify_items": null,
      "left": null,
      "margin": null,
      "max_height": null,
      "max_width": null,
      "min_height": null,
      "min_width": null,
      "object_fit": null,
      "object_position": null,
      "order": null,
      "overflow": null,
      "overflow_x": null,
      "overflow_y": null,
      "padding": null,
      "right": null,
      "top": null,
      "visibility": null,
      "width": null
     }
    },
    "a6c5d65e47ec404499cb8579124ff75c": {
     "model_module": "@jupyter-widgets/controls",
     "model_name": "HTMLModel",
     "state": {
      "_dom_classes": [],
      "_model_module": "@jupyter-widgets/controls",
      "_model_module_version": "1.5.0",
      "_model_name": "HTMLModel",
      "_view_count": null,
      "_view_module": "@jupyter-widgets/controls",
      "_view_module_version": "1.5.0",
      "_view_name": "HTMLView",
      "description": "",
      "description_tooltip": null,
      "layout": "IPY_MODEL_9983d48eab1148168665457e051dce7a",
      "placeholder": "​",
      "style": "IPY_MODEL_4b8f968bde56446e84833ee3a100d981",
      "value": " 170500096/? [00:20&lt;00:00, 100607499.48it/s]"
     }
    },
    "ac83e065e073472a9bdaf39e201ba433": {
     "model_module": "@jupyter-widgets/controls",
     "model_name": "ProgressStyleModel",
     "state": {
      "_model_module": "@jupyter-widgets/controls",
      "_model_module_version": "1.5.0",
      "_model_name": "ProgressStyleModel",
      "_view_count": null,
      "_view_module": "@jupyter-widgets/base",
      "_view_module_version": "1.2.0",
      "_view_name": "StyleView",
      "bar_color": null,
      "description_width": "initial"
     }
    },
    "e2fa892a53e546e594f4a102e5af0241": {
     "model_module": "@jupyter-widgets/base",
     "model_name": "LayoutModel",
     "state": {
      "_model_module": "@jupyter-widgets/base",
      "_model_module_version": "1.2.0",
      "_model_name": "LayoutModel",
      "_view_count": null,
      "_view_module": "@jupyter-widgets/base",
      "_view_module_version": "1.2.0",
      "_view_name": "LayoutView",
      "align_content": null,
      "align_items": null,
      "align_self": null,
      "border": null,
      "bottom": null,
      "display": null,
      "flex": null,
      "flex_flow": null,
      "grid_area": null,
      "grid_auto_columns": null,
      "grid_auto_flow": null,
      "grid_auto_rows": null,
      "grid_column": null,
      "grid_gap": null,
      "grid_row": null,
      "grid_template_areas": null,
      "grid_template_columns": null,
      "grid_template_rows": null,
      "height": null,
      "justify_content": null,
      "justify_items": null,
      "left": null,
      "margin": null,
      "max_height": null,
      "max_width": null,
      "min_height": null,
      "min_width": null,
      "object_fit": null,
      "object_position": null,
      "order": null,
      "overflow": null,
      "overflow_x": null,
      "overflow_y": null,
      "padding": null,
      "right": null,
      "top": null,
      "visibility": null,
      "width": null
     }
    },
    "eb9130b3b2b743cdb73fbd793e9bb57a": {
     "model_module": "@jupyter-widgets/base",
     "model_name": "LayoutModel",
     "state": {
      "_model_module": "@jupyter-widgets/base",
      "_model_module_version": "1.2.0",
      "_model_name": "LayoutModel",
      "_view_count": null,
      "_view_module": "@jupyter-widgets/base",
      "_view_module_version": "1.2.0",
      "_view_name": "LayoutView",
      "align_content": null,
      "align_items": null,
      "align_self": null,
      "border": null,
      "bottom": null,
      "display": null,
      "flex": null,
      "flex_flow": null,
      "grid_area": null,
      "grid_auto_columns": null,
      "grid_auto_flow": null,
      "grid_auto_rows": null,
      "grid_column": null,
      "grid_gap": null,
      "grid_row": null,
      "grid_template_areas": null,
      "grid_template_columns": null,
      "grid_template_rows": null,
      "height": null,
      "justify_content": null,
      "justify_items": null,
      "left": null,
      "margin": null,
      "max_height": null,
      "max_width": null,
      "min_height": null,
      "min_width": null,
      "object_fit": null,
      "object_position": null,
      "order": null,
      "overflow": null,
      "overflow_x": null,
      "overflow_y": null,
      "padding": null,
      "right": null,
      "top": null,
      "visibility": null,
      "width": null
     }
    }
   }
  },
  "interpreter": {
   "hash": "cc1b1c9b257fc8014d968e6a5c17774483cbc9201995df8261e8b19db7e7b46a"
  }
 },
 "nbformat": 4,
 "nbformat_minor": 1
}