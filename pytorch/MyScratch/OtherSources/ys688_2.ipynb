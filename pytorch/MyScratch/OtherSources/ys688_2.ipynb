{
 "cells": [
  {
   "cell_type": "markdown",
   "id": "objective-electron",
   "metadata": {
    "id": "objective-electron"
   },
   "source": [
    "---\n",
    "# Convolutional Neural Networks\n",
    "\n",
    "In this assignment, you will first implement the forward and backward pass of a convolution layer. Then you can freely design your own CNN model for image classification on CIFAR-10.\n",
    "\n",
    "As in previous assignments, you will see code blocks that look like this:\n",
    "```python\n",
    "###############################################################################\n",
    "# TODO: Create a variable x with value 536.                                   #\n",
    "###############################################################################\n",
    "# Replace \"pass\" statement with your code\n",
    "pass\n",
    "# END OF YOUR CODE\n",
    "```\n",
    "\n",
    "You should replace the `pass` statement with your own code and leave the blocks intact, like this:\n",
    "```python\n",
    "###############################################################################\n",
    "# TODO: Create a variable x with value 536.                                   #\n",
    "###############################################################################\n",
    "# Replace \"pass\" statement with your code\n",
    "x = 536\n",
    "# END OF YOUR CODE\n",
    "```\n",
    "\n",
    "Also, please remember:\n",
    "- Do not write or modify any code outside of code blocks unless otherwise stated.\n",
    "- Do not delete any cells from the notebook. You may add new cells to perform scratch work, but delete them before submitting.\n",
    "- Run all cells before submitting. You will only get credit for code that has been run.\n",
    "- Submit your notebook as `netid.ipynb`, where `netid` is your actual netid.\n",
    "- Your submission will be graded with PyTorch 1.7.0 and Python 3.6, which are the default versions in Google Colab."
   ]
  },
  {
   "cell_type": "code",
   "execution_count": 1,
   "id": "exposed-cleanup",
   "metadata": {
    "deletable": false,
    "editable": false,
    "id": "exposed-cleanup",
    "nbgrader": {
     "cell_type": "code",
     "checksum": "cf34ad455b5599831d0f347f7dfe89b1",
     "grade": false,
     "grade_id": "cell-457536641359aba7",
     "locked": true,
     "schema_version": 3,
     "solution": false,
     "task": false
    }
   },
   "outputs": [],
   "source": [
    "from __future__ import print_function\n",
    "from __future__ import division\n",
    "\n",
    "import math\n",
    "import torch\n",
    "import torch.nn as nn\n",
    "import torch.nn.functional as F\n",
    "import torch.optim as optim\n",
    "\n",
    "from torch.utils.data import random_split, DataLoader\n",
    "from torchvision import transforms\n",
    "from torchvision.datasets import CIFAR10\n",
    "\n",
    "import matplotlib.pyplot as plt\n",
    "\n",
    "%matplotlib inline\n",
    "plt.rcParams['figure.figsize'] = (10.0, 8.0)\n",
    "plt.rcParams['image.interpolation'] = 'nearest'\n",
    "plt.rcParams['image.cmap'] = 'gray'"
   ]
  },
  {
   "cell_type": "code",
   "execution_count": 2,
   "id": "temporal-blogger",
   "metadata": {
    "id": "temporal-blogger"
   },
   "outputs": [],
   "source": [
    "assert torch.cuda.is_available(), 'GPU unavailable'"
   ]
  },
  {
   "cell_type": "markdown",
   "id": "seasonal-tunisia",
   "metadata": {
    "id": "seasonal-tunisia"
   },
   "source": [
    "## Convolution - Forward Pass\n",
    "\n",
    "Let us first implement the forward pass of 2D convolution and get a better understanding of the operations it performs. We will be replicating the functionality of PyTorch's built-in 2D convolution: [`nn.Conv2d()`](https://pytorch.org/docs/1.7.0/generated/torch.nn.Conv2d.html#torch.nn.Conv2d) and [`F.conv2d()`](https://pytorch.org/docs/1.7.0/nn.functional.html#torch.nn.functional.conv2d). Please refer to the documentation for more details of the input arguments and return values. It is acceptable to use nested loops here, but you may also develop a vectorized implementation."
   ]
  },
  {
   "cell_type": "code",
   "execution_count": 3,
   "id": "oriented-bulgarian",
   "metadata": {
    "deletable": false,
    "id": "oriented-bulgarian",
    "nbgrader": {
     "cell_type": "code",
     "checksum": "243f148b54cbfb302bf3b5a19c816739",
     "grade": false,
     "grade_id": "cell-957ee57959788d31",
     "locked": false,
     "schema_version": 3,
     "solution": true,
     "task": false
    }
   },
   "outputs": [],
   "source": [
    "def conv2d(input, weight, bias=None, stride=1, padding=0):\n",
    "  \"\"\"\n",
    "  Apply 2D convolution over a batch of input tensors.\n",
    "  \n",
    "  Input arguments and return value are the same as those of F.conv2d(),\n",
    "  except that we don't care about `dilation` and `groups` here.\n",
    "  Also, `padding_mode` is `zeros`.\n",
    "  \"\"\"\n",
    "  output = None\n",
    "  #############################################################################\n",
    "  # TODO: Implement the same functionality as F.conv2d(). You are NOT allowed #\n",
    "  # to use F.conv2d() or nn.Conv2d().                                         #\n",
    "  #############################################################################\n",
    "  # Replace \"pass\" statement with your code\n",
    "  input_shape = input.shape\n",
    "  weight_shape = weight.shape\n",
    "  n = input_shape[0]\n",
    "  c = input_shape[1]\n",
    "  h = input_shape[2]\n",
    "  w = input_shape[3]\n",
    "  nk = weight_shape[0]\n",
    "  hk = weight_shape[2]\n",
    "  wk = weight_shape[3]\n",
    "  if type(stride) is tuple:\n",
    "    stride1 = stride[0]\n",
    "    stride2 = stride[1]\n",
    "  else:\n",
    "    stride1 = stride2 = stride\n",
    "  if type(padding) is tuple:\n",
    "    padding1 = padding[0]\n",
    "    padding2 = padding[1]\n",
    "  else:\n",
    "    padding1 = padding2 = padding\n",
    "  oh = int((h - hk + 2*padding1)/stride1) + 1\n",
    "  ow = int((w - wk + 2*padding2)/stride2) + 1\n",
    "  hnew = h + 2*padding1\n",
    "  wnew = w + 2*padding2\n",
    "\n",
    "  m = nn.ZeroPad2d((padding2, padding2, padding1, padding1))\n",
    "  input_new = m(input)\n",
    "\n",
    "  # rearrange index\n",
    "  idx1 = torch.arange(hk).repeat_interleave(wk).reshape(1, -1) + torch.arange(0, hnew-hk+1, step = stride1).repeat_interleave(oh).reshape(-1, 1)\n",
    "  idx2 = torch.arange(wk).repeat(hk).reshape(1, -1) + torch.arange(0, wnew-wk+1, step = stride2).repeat(ow).reshape(-1, 1)\n",
    "\n",
    "  # reshape input and weight\n",
    "  input_new = input_new.reshape(n, 1, c, hnew, wnew)[:, :, :, idx1, idx2]\n",
    "  weight = weight.reshape(1, nk, c, 1, hk*wk)\n",
    "  if bias == None:\n",
    "    output = (input_new*weight).sum(dim = 4).sum(dim = 2).reshape(n, nk, oh, ow)\n",
    "  else:\n",
    "    output = (input_new*weight).sum(dim = 4).sum(dim = 2).reshape(n, nk, oh, ow) + bias.reshape(1, nk, 1, 1)\n",
    "  # END OF YOUR CODE\n",
    "  return output"
   ]
  },
  {
   "cell_type": "markdown",
   "id": "august-conclusion",
   "metadata": {
    "id": "august-conclusion"
   },
   "source": [
    "We will use the following helper functions to check your results:"
   ]
  },
  {
   "cell_type": "code",
   "execution_count": 4,
   "id": "anticipated-charles",
   "metadata": {
    "deletable": false,
    "editable": false,
    "id": "anticipated-charles",
    "nbgrader": {
     "cell_type": "code",
     "checksum": "480efd5d1335218872603dbbfd812846",
     "grade": false,
     "grade_id": "cell-9e72cadefa119878",
     "locked": true,
     "schema_version": 3,
     "solution": false,
     "task": false
    }
   },
   "outputs": [],
   "source": [
    "def max_diff(actual, expected):\n",
    "  return (actual - expected).abs().max().item()"
   ]
  },
  {
   "cell_type": "code",
   "execution_count": 5,
   "id": "exact-medicaid",
   "metadata": {
    "deletable": false,
    "editable": false,
    "id": "exact-medicaid",
    "nbgrader": {
     "cell_type": "code",
     "checksum": "699256b7a25ce7cfb418ef4d07acdd6e",
     "grade": false,
     "grade_id": "cell-31c14321c924916f",
     "locked": true,
     "schema_version": 3,
     "solution": false,
     "task": false
    }
   },
   "outputs": [],
   "source": [
    "def check_conv2d(batch_size, in_channels, in_height, in_width,\n",
    "                 out_channels, kernel_size, stride=1, padding=0, use_bias=True):\n",
    "  \n",
    "  if isinstance(kernel_size, int):\n",
    "    kernel_size = (kernel_size, kernel_size)\n",
    "  \n",
    "  torch.manual_seed(0)\n",
    "  input = torch.empty(batch_size, in_channels, in_height, in_width).normal_()\n",
    "  weight = torch.empty(out_channels, in_channels, kernel_size[0], kernel_size[1]).normal_()\n",
    "  if use_bias:\n",
    "    bias = torch.empty(out_channels).normal_()\n",
    "  else:\n",
    "    bias = None\n",
    "  \n",
    "  actual = conv2d(input, weight, bias, stride, padding)\n",
    "  expected = F.conv2d(input, weight, bias, stride, padding)\n",
    "  assert actual.shape == expected.shape, 'incorrect shape'\n",
    "  \n",
    "  diff = max_diff(actual, expected)\n",
    "  print('max_diff = %e' % diff)\n",
    "  assert diff < 1e-3, 'incorrect result'"
   ]
  },
  {
   "cell_type": "code",
   "execution_count": 6,
   "id": "substantial-outline",
   "metadata": {
    "colab": {
     "base_uri": "https://localhost:8080/"
    },
    "deletable": false,
    "editable": false,
    "id": "substantial-outline",
    "nbgrader": {
     "cell_type": "code",
     "checksum": "b01d5a0097f10c80e9e19882d45c3738",
     "grade": true,
     "grade_id": "cell-14bbd8699f655aa6",
     "locked": true,
     "points": 5,
     "schema_version": 3,
     "solution": false,
     "task": false
    },
    "outputId": "779a63f2-dc4c-48c8-8a68-ff13bb9bf374"
   },
   "outputs": [
    {
     "name": "stdout",
     "output_type": "stream",
     "text": [
      "max_diff = 3.814697e-06\n"
     ]
    }
   ],
   "source": [
    "# check `kernel_size`\n",
    "check_conv2d(batch_size=8, in_channels=3, in_height=8, in_width=8,\n",
    "             out_channels=8, kernel_size=3, stride=1, padding=0, use_bias=True)"
   ]
  },
  {
   "cell_type": "code",
   "execution_count": 7,
   "id": "vocal-ideal",
   "metadata": {
    "colab": {
     "base_uri": "https://localhost:8080/"
    },
    "deletable": false,
    "editable": false,
    "id": "vocal-ideal",
    "nbgrader": {
     "cell_type": "code",
     "checksum": "52ea0353695cf1941ffb156c5a7fbc19",
     "grade": true,
     "grade_id": "cell-7da6585224c9bed0",
     "locked": true,
     "points": 5,
     "schema_version": 3,
     "solution": false,
     "task": false
    },
    "outputId": "f48c72ec-f26e-4e34-9338-53f76cfa1689"
   },
   "outputs": [
    {
     "name": "stdout",
     "output_type": "stream",
     "text": [
      "max_diff = 1.525879e-05\n"
     ]
    }
   ],
   "source": [
    "# check `stride`\n",
    "check_conv2d(batch_size=4, in_channels=8, in_height=16, in_width=16,\n",
    "             out_channels=3, kernel_size=5, stride=3, padding=0, use_bias=True)"
   ]
  },
  {
   "cell_type": "code",
   "execution_count": 8,
   "id": "japanese-eating",
   "metadata": {
    "colab": {
     "base_uri": "https://localhost:8080/"
    },
    "deletable": false,
    "editable": false,
    "id": "japanese-eating",
    "nbgrader": {
     "cell_type": "code",
     "checksum": "c99bd48315ec8dcb30b437dd83cbb3cc",
     "grade": true,
     "grade_id": "cell-570f56fc2d3fd7e0",
     "locked": true,
     "points": 5,
     "schema_version": 3,
     "solution": false,
     "task": false
    },
    "outputId": "ac49b438-b4fc-40bf-e64c-1c57c3266cbf"
   },
   "outputs": [
    {
     "name": "stdout",
     "output_type": "stream",
     "text": [
      "max_diff = 5.722046e-06\n"
     ]
    }
   ],
   "source": [
    "# check `padding`\n",
    "check_conv2d(batch_size=1, in_channels=1, in_height=32, in_width=32,\n",
    "             out_channels=4, kernel_size=8, stride=5, padding=3, use_bias=True)"
   ]
  },
  {
   "cell_type": "code",
   "execution_count": 9,
   "id": "wound-montgomery",
   "metadata": {
    "colab": {
     "base_uri": "https://localhost:8080/"
    },
    "deletable": false,
    "editable": false,
    "id": "wound-montgomery",
    "nbgrader": {
     "cell_type": "code",
     "checksum": "5e0f79284d5b659c0b52113d975aee3c",
     "grade": true,
     "grade_id": "cell-6442ae8611d9de1f",
     "locked": true,
     "points": 5,
     "schema_version": 3,
     "solution": false,
     "task": false
    },
    "outputId": "2232043d-dddb-46c7-86e9-2ec11e75779e"
   },
   "outputs": [
    {
     "name": "stdout",
     "output_type": "stream",
     "text": [
      "max_diff = 9.536743e-07\n"
     ]
    }
   ],
   "source": [
    "# check tuple arguments\n",
    "check_conv2d(batch_size=16, in_channels=4, in_height=4, in_width=8,\n",
    "             out_channels=1, kernel_size=(1, 3), stride=(1, 2), padding=(0, 1), use_bias=False)"
   ]
  },
  {
   "cell_type": "markdown",
   "id": "rural-norfolk",
   "metadata": {
    "id": "rural-norfolk"
   },
   "source": [
    "## Convolution - Backward Pass\n",
    "\n",
    "In order to train a CNN, we need to backpropagate the gradient through the convolution. More precisely, suppose we have performed a convolution:\n",
    "$$\n",
    "\\text{output} = \\text{conv2d}(\\text{input}, \\text{weight}, \\text{bias}),\n",
    "$$\n",
    "and the loss is defined as some function of the output:\n",
    "$$\n",
    "\\mathcal{L} = f(\\text{output}).\n",
    "$$\n",
    "Note that $\\text{output}, \\text{input}, \\text{weight}, \\text{bias}$ are tensors, and $\\mathcal{L}$ is a scalar.\n",
    "\n",
    "We need the gradients $\\frac{\\partial \\mathcal{L}}{\\partial \\text{weight}}$ and $\\frac{\\partial \\mathcal{L}}{\\partial \\text{bias}}$, which can be computed by the chain rule:\n",
    "$$\n",
    "\\begin{align}\n",
    "\\frac{\\partial \\mathcal{L}}{\\partial \\text{weight}_i} &= \\sum_{k} \\frac{\\partial \\mathcal{L}}{\\partial \\text{output}_k} \\frac{\\partial \\text{output}_k}{\\partial \\text{weight}_i},\\\\\n",
    "\\frac{\\partial \\mathcal{L}}{\\partial \\text{bias}_j} &= \\sum_{k} \\frac{\\partial \\mathcal{L}}{\\partial \\text{output}_k} \\frac{\\partial \\text{output}_k}{\\partial \\text{bias}_j}.\n",
    "\\end{align}\n",
    "$$\n",
    "If $\\text{input}$ is computed by another neural network with parameters $\\theta$, then to obtain $\\frac{\\partial \\mathcal{L}}{\\partial \\theta}$, we also need $\\frac{\\partial \\mathcal{L}}{\\partial \\text{input}}$.\n",
    "\n",
    "Therefore, in the backward pass that we will implement below, given $\\frac{\\partial \\mathcal{L}}{\\partial \\text{output}}$, we need to compute $\\frac{\\partial \\mathcal{L}}{\\partial \\text{input}}$, $\\frac{\\partial \\mathcal{L}}{\\partial \\text{weight}}$, and $\\frac{\\partial \\mathcal{L}}{\\partial \\text{bias}}$.\n",
    "\n",
    "You are NOT allowed to use PyTorch's automatic differentiation, but you may use other built-in functions (in particular, [`F.conv2d()`](https://pytorch.org/docs/1.7.0/nn.functional.html#torch.nn.functional.conv2d) and [`F.conv_transpose2d()`](https://pytorch.org/docs/1.7.0/nn.functional.html#torch.nn.functional.conv_transpose2d)) if they can simplify your implementation. For simplicity, you only need to consider the case where `stride = 1`. You will get bonus points if your implementation also works for `stride > 1`."
   ]
  },
  {
   "cell_type": "code",
   "execution_count": 10,
   "id": "antique-korea",
   "metadata": {
    "deletable": false,
    "id": "antique-korea",
    "nbgrader": {
     "cell_type": "code",
     "checksum": "ce47fe4fe96f2e6210cb5af4226dfdf2",
     "grade": false,
     "grade_id": "cell-ea3dc2ec1a2d8acf",
     "locked": false,
     "schema_version": 3,
     "solution": true,
     "task": false
    }
   },
   "outputs": [],
   "source": [
    "def conv2d_grad(output_grad, input, weight, bias=None, stride=1, padding=0):\n",
    "  \"\"\"\n",
    "  Backward pass of 2D convolution.\n",
    "  \n",
    "  Inputs:\n",
    "  - output_grad: A PyTorch tensor giving the gradient of loss wrt `output`\n",
    "    computed by the forward pass conv2d(). It has the same shape as `output`.\n",
    "  - Other arguments are the same as those of conv2d().\n",
    "  \n",
    "  Returns:\n",
    "  - input_grad: A PyTorch tensor giving the gradient of loss wrt `input`.\n",
    "    It has the same shape as `input`.\n",
    "  - weight_grad: A PyTorch tensor giving the gradient of loss wrt `weight`.\n",
    "    It has the same shape as `weight`.\n",
    "  - bias_grad: A PyTorch tensor giving the gradient of loss wrt `bias`.\n",
    "    It has the same shape as `bias` if `bias` is not `None`.\n",
    "    Otherwise, it is `None`.\n",
    "  \"\"\"\n",
    "  input_grad = None\n",
    "  weight_grad = None\n",
    "  bias_grad = None\n",
    "  #############################################################################\n",
    "  # TODO: Implement the backward pass of conv2d(). You are NOT allowed to use #\n",
    "  # PyTorch's automatic differentiation.                                      #\n",
    "  #############################################################################\n",
    "  # Replace \"pass\" statement with your code\n",
    "  input_shape = input.shape\n",
    "  weight_shape = weight.shape\n",
    "  n = input_shape[0]\n",
    "  c = input_shape[1]\n",
    "  h = input_shape[2]\n",
    "  w = input_shape[3]\n",
    "  nk = weight_shape[0]\n",
    "  hk = weight_shape[2]\n",
    "  wk = weight_shape[3]\n",
    "  if type(padding) is tuple:\n",
    "    padding1 = padding[0]\n",
    "    padding2 = padding[1]\n",
    "  else:\n",
    "    padding1 = padding2 = padding\n",
    "  if type(stride) is tuple:\n",
    "    stride1 = stride[0]\n",
    "    stride2 = stride[1]\n",
    "  else:\n",
    "    stride1 = stride2 = stride\n",
    "  oh = int((h - hk + 2*padding1)/stride1) + 1\n",
    "  ow = int((w - wk + 2*padding2)/stride2) + 1\n",
    "  m = nn.ZeroPad2d((padding2, padding2, padding1, padding1))\n",
    "  input_new = m(input)\n",
    "\n",
    "  # bias gradient\n",
    "  bias_grad = output_grad.sum(dim = (0, 2, 3))\n",
    "\n",
    "  # weight gradient\n",
    "  a = torch.arange(0, (oh-1)*stride1+1, stride1).repeat_interleave(ow).reshape(1, -1) + torch.arange(0, hk, 1).reshape(-1, 1)\n",
    "  b = torch.arange(0, (ow-1)*stride2+1, stride2).repeat(oh).reshape(1, -1) + torch.arange(0, wk, 1).reshape(-1, 1)\n",
    "  idx1 = a.repeat_interleave(b.shape[0], dim = 0)\n",
    "  idx2 = b.repeat((a.shape[0], 1))\n",
    "  yx = input_new[:, :, idx1, idx2].repeat(1, nk, 1, 1)*output_grad.reshape(n, nk, 1, oh*ow).repeat(1, c, 1, 1)\n",
    "  weight_grad = yx.sum(dim = (0, 3)).reshape(nk, c, hk, wk)\n",
    "\n",
    "  # input gradient\n",
    "  dy = output_grad.reshape(n, nk, 1, oh*ow).repeat(1, 1, c, 1).reshape(n, nk, c, 1, oh*ow)\n",
    "  dx = (dy*weight.reshape(1, nk, c, hk*wk, 1)).sum(dim = 1)\n",
    "  x = torch.zeros_like(input_new)\n",
    "  n, c, g, k = dx.shape\n",
    "  for i in range(n):\n",
    "    for j in range(c):\n",
    "      for p in range(g):\n",
    "        for q in range(k):\n",
    "          x[i, j, idx1[p, q], idx2[p, q]] += dx[i, j, p, q]\n",
    "  input_grad = x[:, :, padding1:(padding1+h), padding2:(padding2+w)]\n",
    "  # END OF YOUR CODE\n",
    "  return input_grad, weight_grad, bias_grad"
   ]
  },
  {
   "cell_type": "markdown",
   "id": "adult-setup",
   "metadata": {
    "id": "adult-setup"
   },
   "source": [
    "To check correctness, let us define a simple loss function:\n",
    "$$\n",
    "\\mathcal{L} = f(\\text{output}) = \\sum_k \\text{output}_k,\n",
    "$$\n",
    "so that for each element in the output,\n",
    "$$\n",
    "\\frac{\\partial \\mathcal{L}}{\\partial \\text{output}_k} = 1.\n",
    "$$\n",
    "Hence, we can use a tensor of ones for `output_grad`.\n",
    "\n",
    "We will compare the returned gradients with those computed by PyTorch's automatic differentiation. To use automatic differentiation:\n",
    "- Create tensors with `requires_grad=True`. PyTorch will automatically build up a computational graph of operations involving those tensors.\n",
    "- Compute the loss (forward pass).\n",
    "- Call `loss.backward()`. PyTorch will use backpropagation to compute the gradient of the loss wrt the tensors in the computational graph. The gradient is stored in the `.grad` attribute of each tensor.\n",
    "\n",
    "We will use the following helper functions to check your results:"
   ]
  },
  {
   "cell_type": "code",
   "execution_count": 11,
   "id": "alone-picking",
   "metadata": {
    "deletable": false,
    "editable": false,
    "id": "alone-picking",
    "nbgrader": {
     "cell_type": "code",
     "checksum": "1477f20491756b9fd63192334d621e54",
     "grade": false,
     "grade_id": "cell-dcc4f5ea953cadef",
     "locked": true,
     "schema_version": 3,
     "solution": false,
     "task": false
    }
   },
   "outputs": [],
   "source": [
    "def max_rel_error(actual, expected):\n",
    "  \n",
    "  rel_error_top = (actual - expected).abs()\n",
    "  rel_error_bot = actual.abs() + expected.abs() + 1e-7\n",
    "  return (rel_error_top / rel_error_bot).max().item()"
   ]
  },
  {
   "cell_type": "code",
   "execution_count": 12,
   "id": "essential-edmonton",
   "metadata": {
    "deletable": false,
    "editable": false,
    "id": "essential-edmonton",
    "nbgrader": {
     "cell_type": "code",
     "checksum": "f777f2f651892fb98cc1495fe5d97f4e",
     "grade": false,
     "grade_id": "cell-e869328c980614f4",
     "locked": true,
     "schema_version": 3,
     "solution": false,
     "task": false
    }
   },
   "outputs": [],
   "source": [
    "def check_conv2d_grad(batch_size, in_channels, in_height, in_width,\n",
    "                      out_channels, kernel_size, stride=1, padding=0, use_bias=True,\n",
    "                      variable='input'):\n",
    "  \n",
    "  if isinstance(kernel_size, int):\n",
    "    kernel_size = (kernel_size, kernel_size)\n",
    "  \n",
    "  torch.manual_seed(0)\n",
    "  input = torch.empty(batch_size, in_channels, in_height, in_width).normal_()\n",
    "  weight = torch.empty(out_channels, in_channels, kernel_size[0], kernel_size[1]).normal_()\n",
    "  if use_bias:\n",
    "    bias = torch.empty(out_channels).normal_()\n",
    "  else:\n",
    "    bias = None\n",
    "  \n",
    "  output = F.conv2d(input, weight, bias, stride, padding)\n",
    "  output_grad = torch.ones_like(output)\n",
    "  \n",
    "  input_grad, weight_grad, bias_grad = conv2d_grad(\n",
    "    output_grad, input, weight, bias, stride, padding)\n",
    "  \n",
    "  # Use automatic differentiation to compute gradients\n",
    "  # 1. Set `requires_grad` to `True`\n",
    "  input.requires_grad_()\n",
    "  weight.requires_grad_()\n",
    "  if use_bias:\n",
    "    bias.requires_grad_()\n",
    "  \n",
    "  # 2. Compute loss\n",
    "  output = F.conv2d(input, weight, bias, stride, padding)\n",
    "  loss = output.sum()\n",
    "  \n",
    "  # 3. Backpropagation\n",
    "  loss.backward()\n",
    "  # The gradients are stored in `input.grad`, `weight.grad`, and `bias.grad`\n",
    "  \n",
    "  if variable == 'input':\n",
    "    assert input_grad.shape == input.grad.shape, 'incorrect shape'\n",
    "    rel_error = max_rel_error(input_grad, input.grad)\n",
    "    print('relative error = %e' % rel_error)\n",
    "    assert rel_error < 1e-3, 'incorrect result'\n",
    "  elif variable == 'weight':\n",
    "    assert weight_grad.shape == weight.grad.shape, 'incorrect shape'\n",
    "    rel_error = max_rel_error(weight_grad, weight.grad)\n",
    "    print('relative error = %e' % rel_error)\n",
    "    assert rel_error < 1e-3, 'incorrect result'\n",
    "  else:\n",
    "    if not use_bias:\n",
    "      assert bias_grad is None\n",
    "    else:\n",
    "      assert bias_grad.shape == bias.grad.shape, 'incorrect shape'\n",
    "      rel_error = max_rel_error(bias_grad, bias.grad)\n",
    "      print('relative error = %e' % rel_error)\n",
    "      assert rel_error < 1e-3, 'incorrect result'"
   ]
  },
  {
   "cell_type": "code",
   "execution_count": 13,
   "id": "julian-resident",
   "metadata": {
    "colab": {
     "base_uri": "https://localhost:8080/"
    },
    "deletable": false,
    "editable": false,
    "id": "julian-resident",
    "nbgrader": {
     "cell_type": "code",
     "checksum": "91e133d66fa1fb58f6d90786c59283c0",
     "grade": true,
     "grade_id": "cell-ba74d1d74eb556e1",
     "locked": true,
     "points": 2,
     "schema_version": 3,
     "solution": false,
     "task": false
    },
    "outputId": "cc6dfb27-0d5b-4477-dccc-0d4df38f0932"
   },
   "outputs": [
    {
     "name": "stdout",
     "output_type": "stream",
     "text": [
      "relative error = 0.000000e+00\n"
     ]
    }
   ],
   "source": [
    "# check `kernel_size`\n",
    "check_conv2d_grad(batch_size=1, in_channels=1, in_height=8, in_width=8,\n",
    "                  out_channels=1, kernel_size=3, stride=1, padding=0, use_bias=True,\n",
    "                  variable='input')"
   ]
  },
  {
   "cell_type": "code",
   "execution_count": 14,
   "id": "veterinary-lover",
   "metadata": {
    "colab": {
     "base_uri": "https://localhost:8080/"
    },
    "deletable": false,
    "editable": false,
    "id": "veterinary-lover",
    "nbgrader": {
     "cell_type": "code",
     "checksum": "1a1a8909100f88f1d909fa1be58c66b3",
     "grade": true,
     "grade_id": "cell-6c2c6516844a2598",
     "locked": true,
     "points": 2,
     "schema_version": 3,
     "solution": false,
     "task": false
    },
    "outputId": "781446a9-d875-42b9-fe24-0d99269e312f"
   },
   "outputs": [
    {
     "name": "stdout",
     "output_type": "stream",
     "text": [
      "relative error = 8.393523e-08\n"
     ]
    }
   ],
   "source": [
    "# check `kernel_size`\n",
    "check_conv2d_grad(batch_size=1, in_channels=1, in_height=8, in_width=8,\n",
    "                  out_channels=1, kernel_size=3, stride=1, padding=0, use_bias=True,\n",
    "                  variable='weight')"
   ]
  },
  {
   "cell_type": "code",
   "execution_count": 15,
   "id": "drawn-desktop",
   "metadata": {
    "colab": {
     "base_uri": "https://localhost:8080/"
    },
    "deletable": false,
    "editable": false,
    "id": "drawn-desktop",
    "nbgrader": {
     "cell_type": "code",
     "checksum": "9d08ee5fc51f8bd7c94710705a04df45",
     "grade": true,
     "grade_id": "cell-8712e8d7fc1fd48e",
     "locked": true,
     "points": 1,
     "schema_version": 3,
     "solution": false,
     "task": false
    },
    "outputId": "7666f1be-46ce-4162-aade-f222d0a66a70"
   },
   "outputs": [
    {
     "name": "stdout",
     "output_type": "stream",
     "text": [
      "relative error = 0.000000e+00\n"
     ]
    }
   ],
   "source": [
    "# check `kernel_size`\n",
    "check_conv2d_grad(batch_size=1, in_channels=1, in_height=8, in_width=8,\n",
    "                  out_channels=1, kernel_size=3, stride=1, padding=0, use_bias=True,\n",
    "                  variable='bias')"
   ]
  },
  {
   "cell_type": "code",
   "execution_count": 16,
   "id": "legitimate-purchase",
   "metadata": {
    "colab": {
     "base_uri": "https://localhost:8080/"
    },
    "deletable": false,
    "editable": false,
    "id": "legitimate-purchase",
    "nbgrader": {
     "cell_type": "code",
     "checksum": "a9e0e32c13c71c4d235d19dc26f548a6",
     "grade": true,
     "grade_id": "cell-3dba9bf15404b942",
     "locked": true,
     "points": 2,
     "schema_version": 3,
     "solution": false,
     "task": false
    },
    "outputId": "39efd244-5ceb-496b-b14a-78e99da8a205"
   },
   "outputs": [
    {
     "name": "stdout",
     "output_type": "stream",
     "text": [
      "relative error = 0.000000e+00\n"
     ]
    }
   ],
   "source": [
    "# check `padding`\n",
    "check_conv2d_grad(batch_size=1, in_channels=1, in_height=32, in_width=32,\n",
    "                  out_channels=1, kernel_size=8, stride=1, padding=3, use_bias=True,\n",
    "                  variable='input')"
   ]
  },
  {
   "cell_type": "code",
   "execution_count": 17,
   "id": "becoming-damage",
   "metadata": {
    "colab": {
     "base_uri": "https://localhost:8080/"
    },
    "deletable": false,
    "editable": false,
    "id": "becoming-damage",
    "nbgrader": {
     "cell_type": "code",
     "checksum": "0ef14022a663b55ff47ec05c4785b6aa",
     "grade": true,
     "grade_id": "cell-adcde4921714635f",
     "locked": true,
     "points": 2,
     "schema_version": 3,
     "solution": false,
     "task": false
    },
    "outputId": "9ef4f771-b7a2-4ddc-a873-513531c11ef7"
   },
   "outputs": [
    {
     "name": "stdout",
     "output_type": "stream",
     "text": [
      "relative error = 6.931216e-07\n"
     ]
    }
   ],
   "source": [
    "# check `padding`\n",
    "check_conv2d_grad(batch_size=1, in_channels=1, in_height=32, in_width=32,\n",
    "                  out_channels=1, kernel_size=8, stride=1, padding=3, use_bias=True,\n",
    "                  variable='weight')"
   ]
  },
  {
   "cell_type": "code",
   "execution_count": 18,
   "id": "northern-advertiser",
   "metadata": {
    "colab": {
     "base_uri": "https://localhost:8080/"
    },
    "deletable": false,
    "editable": false,
    "id": "northern-advertiser",
    "nbgrader": {
     "cell_type": "code",
     "checksum": "9a75d966ad81a691c3d9067aff6fb585",
     "grade": true,
     "grade_id": "cell-4b909b84dae0955e",
     "locked": true,
     "points": 1,
     "schema_version": 3,
     "solution": false,
     "task": false
    },
    "outputId": "9361f2b4-0e4a-41d7-818c-576aa6d7c67d"
   },
   "outputs": [
    {
     "name": "stdout",
     "output_type": "stream",
     "text": [
      "relative error = 0.000000e+00\n"
     ]
    }
   ],
   "source": [
    "# check `padding`\n",
    "check_conv2d_grad(batch_size=1, in_channels=1, in_height=32, in_width=32,\n",
    "                  out_channels=1, kernel_size=8, stride=1, padding=3, use_bias=True,\n",
    "                  variable='bias')"
   ]
  },
  {
   "cell_type": "code",
   "execution_count": 19,
   "id": "automotive-genre",
   "metadata": {
    "colab": {
     "base_uri": "https://localhost:8080/"
    },
    "deletable": false,
    "editable": false,
    "id": "automotive-genre",
    "nbgrader": {
     "cell_type": "code",
     "checksum": "2d16b5d6b637138f5255291f556f5c8f",
     "grade": true,
     "grade_id": "cell-a6413b60fea862e1",
     "locked": true,
     "points": 2,
     "schema_version": 3,
     "solution": false,
     "task": false
    },
    "outputId": "c29d46db-4df5-463b-eaad-8c3647af26cb"
   },
   "outputs": [
    {
     "name": "stdout",
     "output_type": "stream",
     "text": [
      "relative error = 0.000000e+00\n"
     ]
    }
   ],
   "source": [
    "# check `in_channels`\n",
    "check_conv2d_grad(batch_size=1, in_channels=8, in_height=8, in_width=8,\n",
    "                  out_channels=1, kernel_size=1, stride=1, padding=0, use_bias=True,\n",
    "                  variable='input')"
   ]
  },
  {
   "cell_type": "code",
   "execution_count": 20,
   "id": "civic-story",
   "metadata": {
    "colab": {
     "base_uri": "https://localhost:8080/"
    },
    "deletable": false,
    "editable": false,
    "id": "civic-story",
    "nbgrader": {
     "cell_type": "code",
     "checksum": "118164a056ca487de8ae0f34299bddee",
     "grade": true,
     "grade_id": "cell-72c432fc0fe21f76",
     "locked": true,
     "points": 2,
     "schema_version": 3,
     "solution": false,
     "task": false
    },
    "outputId": "5e312ebd-3f80-4b6f-dc60-63ae0f5f6a37"
   },
   "outputs": [
    {
     "name": "stdout",
     "output_type": "stream",
     "text": [
      "relative error = 1.528114e-07\n"
     ]
    }
   ],
   "source": [
    "# check `in_channels`\n",
    "check_conv2d_grad(batch_size=1, in_channels=8, in_height=8, in_width=8,\n",
    "                  out_channels=1, kernel_size=1, stride=1, padding=0, use_bias=True,\n",
    "                  variable='weight')"
   ]
  },
  {
   "cell_type": "code",
   "execution_count": 21,
   "id": "dominant-presence",
   "metadata": {
    "colab": {
     "base_uri": "https://localhost:8080/"
    },
    "deletable": false,
    "editable": false,
    "id": "dominant-presence",
    "nbgrader": {
     "cell_type": "code",
     "checksum": "2f84c1c742e1fb50d62c3c69aaed7d07",
     "grade": true,
     "grade_id": "cell-22d17a84fd588b6b",
     "locked": true,
     "points": 1,
     "schema_version": 3,
     "solution": false,
     "task": false
    },
    "outputId": "8e3e6869-e815-4233-fa9e-81877eaa9523"
   },
   "outputs": [
    {
     "name": "stdout",
     "output_type": "stream",
     "text": [
      "relative error = 0.000000e+00\n"
     ]
    }
   ],
   "source": [
    "# check `in_channels`\n",
    "check_conv2d_grad(batch_size=1, in_channels=8, in_height=8, in_width=8,\n",
    "                  out_channels=1, kernel_size=1, stride=1, padding=0, use_bias=True,\n",
    "                  variable='bias')"
   ]
  },
  {
   "cell_type": "code",
   "execution_count": 22,
   "id": "mathematical-philadelphia",
   "metadata": {
    "colab": {
     "base_uri": "https://localhost:8080/"
    },
    "deletable": false,
    "editable": false,
    "id": "mathematical-philadelphia",
    "nbgrader": {
     "cell_type": "code",
     "checksum": "be9d325d9191b26100c5bac56a32002a",
     "grade": true,
     "grade_id": "cell-72bab9f4cfb37050",
     "locked": true,
     "points": 2,
     "schema_version": 3,
     "solution": false,
     "task": false
    },
    "outputId": "38fc7227-868e-4130-f375-7238a6f726b8"
   },
   "outputs": [
    {
     "name": "stdout",
     "output_type": "stream",
     "text": [
      "relative error = 3.020955e-06\n"
     ]
    }
   ],
   "source": [
    "# check `out_channels`\n",
    "check_conv2d_grad(batch_size=1, in_channels=1, in_height=32, in_width=32,\n",
    "                  out_channels=2, kernel_size=9, stride=1, padding=2, use_bias=True,\n",
    "                  variable='input')"
   ]
  },
  {
   "cell_type": "code",
   "execution_count": 23,
   "id": "offensive-christian",
   "metadata": {
    "colab": {
     "base_uri": "https://localhost:8080/"
    },
    "deletable": false,
    "editable": false,
    "id": "offensive-christian",
    "nbgrader": {
     "cell_type": "code",
     "checksum": "a92d9d915741a8d735d3ee0f4397d240",
     "grade": true,
     "grade_id": "cell-1aa88d792e62a919",
     "locked": true,
     "points": 2,
     "schema_version": 3,
     "solution": false,
     "task": false
    },
    "outputId": "e2814c7f-2487-4da5-f622-956b6b246606"
   },
   "outputs": [
    {
     "name": "stdout",
     "output_type": "stream",
     "text": [
      "relative error = 1.284888e-06\n"
     ]
    }
   ],
   "source": [
    "# check `out_channels`\n",
    "check_conv2d_grad(batch_size=1, in_channels=1, in_height=32, in_width=32,\n",
    "                  out_channels=2, kernel_size=9, stride=1, padding=2, use_bias=True,\n",
    "                  variable='weight')"
   ]
  },
  {
   "cell_type": "code",
   "execution_count": 24,
   "id": "basic-fiber",
   "metadata": {
    "colab": {
     "base_uri": "https://localhost:8080/"
    },
    "deletable": false,
    "editable": false,
    "id": "basic-fiber",
    "nbgrader": {
     "cell_type": "code",
     "checksum": "04e019c13d8c2671a8013cf16fa8dc3a",
     "grade": true,
     "grade_id": "cell-e1730da18da44d61",
     "locked": true,
     "points": 1,
     "schema_version": 3,
     "solution": false,
     "task": false
    },
    "outputId": "1bdbd4af-f4e1-4db5-f4f2-a0871b83677a"
   },
   "outputs": [
    {
     "name": "stdout",
     "output_type": "stream",
     "text": [
      "relative error = 0.000000e+00\n"
     ]
    }
   ],
   "source": [
    "# check `out_channels`\n",
    "check_conv2d_grad(batch_size=1, in_channels=1, in_height=32, in_width=32,\n",
    "                  out_channels=2, kernel_size=9, stride=1, padding=2, use_bias=True,\n",
    "                  variable='bias')"
   ]
  },
  {
   "cell_type": "code",
   "execution_count": 25,
   "id": "adjusted-chart",
   "metadata": {
    "colab": {
     "base_uri": "https://localhost:8080/"
    },
    "deletable": false,
    "editable": false,
    "id": "adjusted-chart",
    "nbgrader": {
     "cell_type": "code",
     "checksum": "a1664a3f2ec1a2f90e7b715c46cc16f2",
     "grade": true,
     "grade_id": "cell-723b558a132a75a3",
     "locked": true,
     "points": 2,
     "schema_version": 3,
     "solution": false,
     "task": false
    },
    "outputId": "7e350fd4-5d36-44ec-cfd8-b6a3c57d051b"
   },
   "outputs": [
    {
     "name": "stdout",
     "output_type": "stream",
     "text": [
      "relative error = 0.000000e+00\n"
     ]
    }
   ],
   "source": [
    "# check `batch_size`\n",
    "check_conv2d_grad(batch_size=8, in_channels=1, in_height=16, in_width=16,\n",
    "                  out_channels=1, kernel_size=5, stride=1, padding=3, use_bias=True,\n",
    "                  variable='input')"
   ]
  },
  {
   "cell_type": "code",
   "execution_count": 26,
   "id": "static-hopkins",
   "metadata": {
    "colab": {
     "base_uri": "https://localhost:8080/"
    },
    "deletable": false,
    "editable": false,
    "id": "static-hopkins",
    "nbgrader": {
     "cell_type": "code",
     "checksum": "7af6f5384f84c07ae29cbd7e748cabe6",
     "grade": true,
     "grade_id": "cell-1a5d7e9537db4632",
     "locked": true,
     "points": 2,
     "schema_version": 3,
     "solution": false,
     "task": false
    },
    "outputId": "73911da0-b931-4905-e7e2-cbc34c8e9867"
   },
   "outputs": [
    {
     "name": "stdout",
     "output_type": "stream",
     "text": [
      "relative error = 1.159864e-06\n"
     ]
    }
   ],
   "source": [
    "# check `batch_size`\n",
    "check_conv2d_grad(batch_size=8, in_channels=1, in_height=16, in_width=16,\n",
    "                  out_channels=1, kernel_size=5, stride=1, padding=3, use_bias=True,\n",
    "                  variable='weight')"
   ]
  },
  {
   "cell_type": "code",
   "execution_count": 27,
   "id": "inappropriate-location",
   "metadata": {
    "colab": {
     "base_uri": "https://localhost:8080/"
    },
    "deletable": false,
    "editable": false,
    "id": "inappropriate-location",
    "nbgrader": {
     "cell_type": "code",
     "checksum": "7b458c740b8a8a7e1e9a535efb18b874",
     "grade": true,
     "grade_id": "cell-7fa8371f43538291",
     "locked": true,
     "points": 1,
     "schema_version": 3,
     "solution": false,
     "task": false
    },
    "outputId": "e23d92f4-010c-43e8-aff1-59986e16e0bc"
   },
   "outputs": [
    {
     "name": "stdout",
     "output_type": "stream",
     "text": [
      "relative error = 0.000000e+00\n"
     ]
    }
   ],
   "source": [
    "# check `batch_size`\n",
    "check_conv2d_grad(batch_size=8, in_channels=1, in_height=16, in_width=16,\n",
    "                  out_channels=1, kernel_size=5, stride=1, padding=3, use_bias=True,\n",
    "                  variable='bias')"
   ]
  },
  {
   "cell_type": "code",
   "execution_count": 28,
   "id": "intense-wireless",
   "metadata": {
    "colab": {
     "base_uri": "https://localhost:8080/"
    },
    "deletable": false,
    "editable": false,
    "id": "intense-wireless",
    "nbgrader": {
     "cell_type": "code",
     "checksum": "0b41fead94cc307921f34c1711eaf17a",
     "grade": true,
     "grade_id": "cell-c5c0eee462672ab7",
     "locked": true,
     "points": 2,
     "schema_version": 3,
     "solution": false,
     "task": false
    },
    "outputId": "c7eb9558-f290-4abb-f282-be27f269b57f"
   },
   "outputs": [
    {
     "name": "stdout",
     "output_type": "stream",
     "text": [
      "relative error = 0.000000e+00\n"
     ]
    }
   ],
   "source": [
    "# check tuple arguments\n",
    "check_conv2d_grad(batch_size=16, in_channels=4, in_height=4, in_width=8,\n",
    "                  out_channels=8, kernel_size=(1, 3), stride=1, padding=1, use_bias=True,\n",
    "                  variable='input')"
   ]
  },
  {
   "cell_type": "code",
   "execution_count": 29,
   "id": "dynamic-webmaster",
   "metadata": {
    "colab": {
     "base_uri": "https://localhost:8080/"
    },
    "deletable": false,
    "editable": false,
    "id": "dynamic-webmaster",
    "nbgrader": {
     "cell_type": "code",
     "checksum": "d562436c69df1e13d020dcd960f6300e",
     "grade": true,
     "grade_id": "cell-7c94baa251ace3bd",
     "locked": true,
     "points": 2,
     "schema_version": 3,
     "solution": false,
     "task": false
    },
    "outputId": "2bca3f94-69e7-4460-b7e8-bd46c8c02081"
   },
   "outputs": [
    {
     "name": "stdout",
     "output_type": "stream",
     "text": [
      "relative error = 1.197636e-05\n"
     ]
    }
   ],
   "source": [
    "# check tuple arguments\n",
    "check_conv2d_grad(batch_size=16, in_channels=4, in_height=4, in_width=8,\n",
    "                  out_channels=8, kernel_size=(1, 3), stride=1, padding=1, use_bias=True,\n",
    "                  variable='weight')"
   ]
  },
  {
   "cell_type": "code",
   "execution_count": 30,
   "id": "upset-fellowship",
   "metadata": {
    "colab": {
     "base_uri": "https://localhost:8080/"
    },
    "deletable": false,
    "editable": false,
    "id": "upset-fellowship",
    "nbgrader": {
     "cell_type": "code",
     "checksum": "7fc5abd9f623002fa3c1c6a52ae4e688",
     "grade": true,
     "grade_id": "cell-153442a921a5a2f6",
     "locked": true,
     "points": 1,
     "schema_version": 3,
     "solution": false,
     "task": false
    },
    "outputId": "68466276-947a-49de-d621-675e855e79fa"
   },
   "outputs": [
    {
     "name": "stdout",
     "output_type": "stream",
     "text": [
      "relative error = 0.000000e+00\n"
     ]
    }
   ],
   "source": [
    "# check tuple arguments\n",
    "check_conv2d_grad(batch_size=16, in_channels=4, in_height=4, in_width=8,\n",
    "                  out_channels=8, kernel_size=(1, 3), stride=1, padding=1, use_bias=True,\n",
    "                  variable='bias')"
   ]
  },
  {
   "cell_type": "markdown",
   "id": "center-compensation",
   "metadata": {
    "id": "center-compensation"
   },
   "source": [
    "BONUS: `stride > 1`:"
   ]
  },
  {
   "cell_type": "code",
   "execution_count": 31,
   "id": "excellent-devil",
   "metadata": {
    "colab": {
     "base_uri": "https://localhost:8080/"
    },
    "deletable": false,
    "editable": false,
    "id": "excellent-devil",
    "nbgrader": {
     "cell_type": "code",
     "checksum": "e7ecbb084cf4c750e3cc1d6100fc8f89",
     "grade": true,
     "grade_id": "cell-8279eb351843834a",
     "locked": true,
     "points": 5,
     "schema_version": 3,
     "solution": false,
     "task": false
    },
    "outputId": "3277fbf5-c71a-4810-b58f-29f876f59242"
   },
   "outputs": [
    {
     "name": "stdout",
     "output_type": "stream",
     "text": [
      "relative error = 3.424135e-07\n"
     ]
    }
   ],
   "source": [
    "# check `stride`\n",
    "check_conv2d_grad(batch_size=16, in_channels=4, in_height=4, in_width=8,\n",
    "                  out_channels=8, kernel_size=(1, 3), stride=(1, 2), padding=1, use_bias=True,\n",
    "                  variable='input')"
   ]
  },
  {
   "cell_type": "code",
   "execution_count": 32,
   "id": "ready-grain",
   "metadata": {
    "colab": {
     "base_uri": "https://localhost:8080/"
    },
    "deletable": false,
    "editable": false,
    "id": "ready-grain",
    "nbgrader": {
     "cell_type": "code",
     "checksum": "2eeca5956b6d76e6570e1495b8658efe",
     "grade": true,
     "grade_id": "cell-9402e9681a8ccd08",
     "locked": true,
     "points": 5,
     "schema_version": 3,
     "solution": false,
     "task": false
    },
    "outputId": "879d2025-1f62-4260-9c73-ec7c870568c7"
   },
   "outputs": [
    {
     "name": "stdout",
     "output_type": "stream",
     "text": [
      "relative error = 6.547677e-07\n"
     ]
    }
   ],
   "source": [
    "# check `stride`\n",
    "check_conv2d_grad(batch_size=16, in_channels=4, in_height=4, in_width=8,\n",
    "                  out_channels=8, kernel_size=(1, 3), stride=(1, 2), padding=1, use_bias=True,\n",
    "                  variable='weight')"
   ]
  },
  {
   "cell_type": "markdown",
   "id": "entitled-scheduling",
   "metadata": {
    "id": "entitled-scheduling"
   },
   "source": [
    "## CIFAR-10 Open-Ended Challenge\n",
    "\n",
    "In this section, you can experiment with whatever CNN architecture you'd like on CIFAR-10. Your model should be able to **achieve at least 75% validation accuracy** within 10-20 epochs.\n",
    "\n",
    "This [tutorial](https://pytorch.org/tutorials/beginner/blitz/cifar10_tutorial.html#sphx-glr-beginner-blitz-cifar10-tutorial-py) will walk you through the process of training a CNN classifier using PyTorch. The model used in this tutorial, however, is too simple for our purpose. To conveniently create a deeper model, you can use [`nn.Sequential()`](https://pytorch.org/docs/1.7.0/generated/torch.nn.Sequential.html#torch.nn.Sequential) to stack multiple layers together. You can use built-in layers in the [`torch.nn`](https://pytorch.org/docs/1.7.0/nn.html) package, or you can develop custom layers. All custom layers should subclass [`nn.Module`](https://pytorch.org/docs/1.7.0/generated/torch.nn.Module.html#torch.nn.Module).\n",
    "\n",
    "### Things you might try\n",
    "- **Network architecture**: [VGG](https://arxiv.org/abs/1409.1556) can be a good starting point. Keep in mind that this model is designed for ImageNet, which is much larger and have a different image resolution than CIFAR-10. You need to make some adaptations. For example, you may tweak the number of layers and number of channels. [ResNet](https://arxiv.org/abs/1512.03385) and [DenseNet](https://arxiv.org/abs/1608.06993) are also good architectures to try.\n",
    "- **Batch normalization**: You can conveniently add batch normalization layers using [`nn.BatchNorm2d()`](https://pytorch.org/docs/1.7.0/generated/torch.nn.BatchNorm2d.html#torch.nn.BatchNorm2d). Does your model train faster with batch normalization?\n",
    "- **Optimizer**: The [`torch.optim`](https://pytorch.org/docs/1.7.0/optim.html) package implements many optimization algorithms that you can try, such as [SGD](https://pytorch.org/docs/1.7.0/optim.html#torch.optim.SGD), [Adam](https://pytorch.org/docs/1.7.0/optim.html#torch.optim.Adam), and [RMSprop](https://pytorch.org/docs/1.7.0/optim.html#torch.optim.RMSprop).\n",
    "- **Regularization**: You may use weight decay or [Dropout](https://pytorch.org/docs/1.7.0/generated/torch.nn.Dropout.html#torch.nn.Dropout) to reduce overfitting.\n",
    "- **Activation**: In addition to [ReLU](https://pytorch.org/docs/1.7.0/generated/torch.nn.ReLU.html#torch.nn.ReLU), some recent papers also use [ELU](https://pytorch.org/docs/1.7.0/generated/torch.nn.ELU.html#torch.nn.ELU) and [GELU](https://pytorch.org/docs/1.7.0/generated/torch.nn.GELU.html#torch.nn.GELU). Can they improve your model's performance?\n",
    "- **Pooling vs Strided Convolution**: Similar to pooling, strided convolution can reduce the spatial size of feature maps. However, strided convolution contains learnable parameters, which make the model more flexible. Does strided convolution lead to improved performance?\n",
    "- **Flattening vs Global Average Pooling**: [GoogLeNet](https://static.googleusercontent.com/media/research.google.com/en//pubs/archive/43022.pdf), [ResNet](https://arxiv.org/abs/1512.03385), and [DenseNet](https://arxiv.org/abs/1608.06993) all use global average pooling followed by a single linear layer to produce the class probabilities from the last feature map. How does this compare to the traditional approach of flattening the last feature map and then having several fully connected layers?\n",
    "\n",
    "### Tips for training\n",
    "For each network architecture that you try, you should tune the learning rate and other hyperparameters using the validation set. Remember the coarse-to-fine strategy.\n",
    "\n",
    "### Have fun and happy training!"
   ]
  },
  {
   "cell_type": "markdown",
   "id": "static-algebra",
   "metadata": {
    "id": "static-algebra"
   },
   "source": [
    "### Data Preprocessing\n",
    "\n",
    "We will use the precomputed RGB mean and standard deviation to normalize the images. We then use PyTorch's built-in [`DataLoader`](https://pytorch.org/docs/1.7.0/data.html#torch.utils.data.DataLoader) for automatic mini-batch sampling."
   ]
  },
  {
   "cell_type": "code",
   "execution_count": 33,
   "id": "found-aspect",
   "metadata": {
    "deletable": false,
    "editable": false,
    "id": "found-aspect",
    "nbgrader": {
     "cell_type": "code",
     "checksum": "65d8c9b86d59f02931ede7a34a91568d",
     "grade": false,
     "grade_id": "cell-37df95f191c6272e",
     "locked": true,
     "schema_version": 3,
     "solution": false,
     "task": false
    }
   },
   "outputs": [],
   "source": [
    "def get_data_loaders():\n",
    "  \"\"\"\n",
    "  Normalize the data and split into (train 40K)/(val 10K)/(test 10K).\n",
    "  \n",
    "  Returns:\n",
    "  - PyTorch DataLoaders that can automatically sample mini-batches.\n",
    "  \"\"\"\n",
    "  loader_kwargs = {\n",
    "    'batch_size': 100,\n",
    "    'shuffle': True,\n",
    "    'num_workers': 4,\n",
    "    'pin_memory': True,\n",
    "    'drop_last': True,\n",
    "  }\n",
    "  \n",
    "  transform = transforms.Compose([\n",
    "    transforms.ToTensor(),\n",
    "    transforms.Normalize([0.4914, 0.4822, 0.4465], [0.2470, 0.2435, 0.2616]),\n",
    "  ])\n",
    "  \n",
    "  CIFAR10_train = CIFAR10(root='.', train=True, transform=transform, download=True)\n",
    "  CIFAR10_test = CIFAR10(root='.', train=False, transform=transform, download=True)\n",
    "  \n",
    "  train_set, val_set = random_split(CIFAR10_train, [40000, 10000],\n",
    "                                    generator=torch.Generator().manual_seed(0))\n",
    "  \n",
    "  train_loader = DataLoader(train_set, **loader_kwargs)\n",
    "  val_loader = DataLoader(val_set, **loader_kwargs)\n",
    "  test_loader = DataLoader(CIFAR10_test, **loader_kwargs)\n",
    "  \n",
    "  return train_loader, val_loader, test_loader"
   ]
  },
  {
   "cell_type": "markdown",
   "id": "architectural-conducting",
   "metadata": {
    "id": "architectural-conducting"
   },
   "source": [
    "### Model\n",
    "\n",
    "Implement your CNN model below. If you implemented multiple models, you only need to show the best one. You may add helper functions and custom modules as necessary."
   ]
  },
  {
   "cell_type": "code",
   "execution_count": 34,
   "id": "furnished-anchor",
   "metadata": {
    "deletable": false,
    "id": "furnished-anchor",
    "nbgrader": {
     "cell_type": "code",
     "checksum": "aaa4037c0d5f3e6dfc74cbfe66c5f8c5",
     "grade": false,
     "grade_id": "cell-e5e9f791f46ad5e1",
     "locked": false,
     "schema_version": 3,
     "solution": true,
     "task": false
    }
   },
   "outputs": [],
   "source": [
    "class Net(nn.Module):\n",
    "  \n",
    "  def __init__(self):\n",
    "    super().__init__()\n",
    "    #########################################################################\n",
    "    # TODO:                                                                 #\n",
    "    # Specify your model architecture.                                      #\n",
    "    #########################################################################\n",
    "    # Replace \"pass\" statement with your code\n",
    "    self.conv = nn.Sequential(\n",
    "        nn.Conv2d(in_channels = 3, out_channels = 32, kernel_size = 3, padding = 1),\n",
    "        nn.BatchNorm2d(32),\n",
    "        nn.ReLU(),\n",
    "        nn.Conv2d(in_channels = 32, out_channels = 64, kernel_size = 3, padding = 1),\n",
    "        nn.ReLU(),\n",
    "        nn.MaxPool2d(kernel_size = 2, stride = 2),\n",
    "        nn.Conv2d(in_channels = 64, out_channels = 128, kernel_size = 3, padding = 1),\n",
    "        nn.BatchNorm2d(128),\n",
    "        nn.ReLU(),\n",
    "        nn.Conv2d(in_channels = 128, out_channels = 128, kernel_size = 3, padding = 1),\n",
    "        nn.ReLU(),\n",
    "        nn.MaxPool2d(kernel_size = 2, stride = 2),\n",
    "        nn.Dropout(p = 0.05),\n",
    "        nn.Conv2d(in_channels = 128, out_channels = 256, kernel_size = 3, padding = 1),\n",
    "        nn.BatchNorm2d(256),\n",
    "        nn.ReLU(),\n",
    "        nn.MaxPool2d(kernel_size = 2, stride = 2),\n",
    "    )\n",
    "\n",
    "    self.linear = nn.Sequential(\n",
    "        nn.Dropout(p = 0.1),\n",
    "        nn.Linear(256*4*4, 1024),\n",
    "        nn.ReLU(),\n",
    "        nn.Linear(1024, 512),\n",
    "        nn.ReLU(),\n",
    "        nn.Linear(512, 128),\n",
    "        nn.ReLU(),\n",
    "        nn.Dropout(p = 0.1),\n",
    "        nn.Linear(128, 10)\n",
    "    )\n",
    "    # END OF YOUR CODE\n",
    "  \n",
    "  \n",
    "  def forward(self, images, labels):\n",
    "    \"\"\"\n",
    "    Compute the loss for a mini-batch of training samples.\n",
    "    \n",
    "    Inputs:\n",
    "    - images: A PyTorch tensor of shape (B, 3, 32, 32) containing\n",
    "      a mini-batch of B training images.\n",
    "    - labels: A PyTorch tensor of shape (B,) containing the corresponding\n",
    "      training labels; labels[i] = k means that images[i] has label k,\n",
    "      where 0 <= k < 10.\n",
    "    \n",
    "    Returns:\n",
    "    - loss: A PyTorch scalar giving the training loss of this mini-batch.\n",
    "    \"\"\"\n",
    "    loss = None\n",
    "    #########################################################################\n",
    "    # TODO:                                                                 #\n",
    "    # Implement the forward pass.                                           #\n",
    "    #########################################################################\n",
    "    # Replace \"pass\" statement with your code\n",
    "    x = self.conv(images)\n",
    "    x = x.view(x.size(0), -1)\n",
    "    x = self.linear(x)\n",
    "\n",
    "    criterion = nn.CrossEntropyLoss()\n",
    "    loss = criterion(x, labels)\n",
    "    # END OF YOUR CODE\n",
    "    return loss\n",
    "  \n",
    "  \n",
    "  def predict(self, images):\n",
    "    \"\"\"\n",
    "    Predict the labels for a mini-batch of images.\n",
    "    \n",
    "    Inputs:\n",
    "    - images: A PyTorch tensor of shape (B, 3, 32, 32) containing\n",
    "      a mini-batch of B images.\n",
    "    \n",
    "    Returns:\n",
    "    - labels_pred: A PyTorch tensor of shape (B,) containing the predicted\n",
    "      labels; labels_pred[i] = k means that k is the predicted label for\n",
    "      images[i], where 0 <= k < 10.\n",
    "    \"\"\"\n",
    "    labels_pred = None\n",
    "    #########################################################################\n",
    "    # TODO:                                                                 #\n",
    "    # Implement the prediction phase.                                       #\n",
    "    #########################################################################\n",
    "    # Replace \"pass\" statement with your code\n",
    "    x = self.conv(images)\n",
    "    x = x.view(x.size(0), -1)\n",
    "    x = self.linear(x)\n",
    "    _, labels_pred = torch.max(x, 1)\n",
    "\n",
    "    # END OF YOUR CODE\n",
    "    return labels_pred"
   ]
  },
  {
   "cell_type": "markdown",
   "id": "straight-silicon",
   "metadata": {
    "id": "straight-silicon"
   },
   "source": [
    "## Evaluation\n",
    "\n",
    "We will use the following function to evaluate the classification accuracy:"
   ]
  },
  {
   "cell_type": "code",
   "execution_count": 35,
   "id": "optical-minute",
   "metadata": {
    "deletable": false,
    "editable": false,
    "id": "optical-minute",
    "nbgrader": {
     "cell_type": "code",
     "checksum": "a0506d61454a231c261204096aecb66b",
     "grade": false,
     "grade_id": "cell-8ea391396f07eb1a",
     "locked": true,
     "schema_version": 3,
     "solution": false,
     "task": false
    }
   },
   "outputs": [],
   "source": [
    "def eval_acc(model, data_loader):\n",
    "  \n",
    "  with torch.no_grad():\n",
    "    model.eval()\n",
    "    \n",
    "    total = 0\n",
    "    correct = 0\n",
    "    \n",
    "    for (images, labels) in data_loader:\n",
    "      images = images.cuda()\n",
    "      labels = labels.cuda()\n",
    "      \n",
    "      labels_pred = model.predict(images)\n",
    "      \n",
    "      total += labels.shape[0]\n",
    "      correct += (labels_pred == labels).sum().item()\n",
    "    \n",
    "    acc = 100 * correct / total\n",
    "  \n",
    "  return acc"
   ]
  },
  {
   "cell_type": "markdown",
   "id": "inappropriate-fitting",
   "metadata": {
    "id": "inappropriate-fitting"
   },
   "source": [
    "## Training\n",
    "\n",
    "A basic training script is provided below. You can make modifications as appropriate. For example, you can save the model that achieves the best validation accuracy (instead of always using the latest model). Also, you may use learning rate schedules and gradient clipping. Only keep the best hyperparameters that you found."
   ]
  },
  {
   "cell_type": "code",
   "execution_count": 36,
   "id": "deluxe-russell",
   "metadata": {
    "colab": {
     "base_uri": "https://localhost:8080/",
     "height": 532,
     "referenced_widgets": [
      "9e959739cfb14f59aa299dc24d60a119",
      "8144666873074fb0961473889682c191",
      "326e487cecff4587a6ca99e0a863eea3",
      "1d24d68b2a894e55a4717aec840f1b43",
      "4d783097c30a46f093a4979a9d9c0933",
      "e5f9e2e1d1e74e5983cd234069ffbe6f",
      "259c7ed6f68a4611b4170652b2d27bdb",
      "5449e4af6cd642259dd60566bda4d7d2"
     ]
    },
    "id": "deluxe-russell",
    "outputId": "adb20587-849d-4ef4-be79-56db547401e8"
   },
   "outputs": [
    {
     "name": "stdout",
     "output_type": "stream",
     "text": [
      "Downloading https://www.cs.toronto.edu/~kriz/cifar-10-python.tar.gz to ./cifar-10-python.tar.gz\n"
     ]
    },
    {
     "data": {
      "application/vnd.jupyter.widget-view+json": {
       "model_id": "9e959739cfb14f59aa299dc24d60a119",
       "version_major": 2,
       "version_minor": 0
      },
      "text/plain": [
       "HBox(children=(FloatProgress(value=1.0, bar_style='info', max=1.0), HTML(value='')))"
      ]
     },
     "metadata": {
      "tags": []
     },
     "output_type": "display_data"
    },
    {
     "name": "stdout",
     "output_type": "stream",
     "text": [
      "Extracting ./cifar-10-python.tar.gz to .\n",
      "Files already downloaded and verified\n",
      "Train Epoch:   0 \t Loss: 2.297526 \t Val Acc: 9.840000\n",
      "Train Epoch:   1 \t Loss: 1.066963 \t Val Acc: 54.150000\n",
      "Train Epoch:   2 \t Loss: 0.976521 \t Val Acc: 67.420000\n",
      "Train Epoch:   3 \t Loss: 0.560964 \t Val Acc: 69.430000\n",
      "Train Epoch:   4 \t Loss: 0.584446 \t Val Acc: 74.840000\n",
      "Train Epoch:   5 \t Loss: 0.620449 \t Val Acc: 77.050000\n",
      "Train Epoch:   6 \t Loss: 0.470049 \t Val Acc: 72.430000\n",
      "Train Epoch:   7 \t Loss: 0.377722 \t Val Acc: 77.080000\n",
      "Train Epoch:   8 \t Loss: 0.387754 \t Val Acc: 75.780000\n",
      "Train Epoch:   9 \t Loss: 0.423144 \t Val Acc: 79.170000\n"
     ]
    },
    {
     "data": {
      "image/png": "[encoded data removed]",
      "text/plain": [
       "<Figure size 432x288 with 1 Axes>"
      ]
     },
     "metadata": {
      "needs_background": "light",
      "tags": []
     },
     "output_type": "display_data"
    }
   ],
   "source": [
    "train_loader, val_loader, test_loader = get_data_loaders()\n",
    "\n",
    "torch.manual_seed(0)\n",
    "model = Net()\n",
    "model = model.cuda()\n",
    "\n",
    "num_epochs = 10\n",
    "optimizer = optim.Adam(model.parameters(), lr = 0.001, weight_decay = 0.002)  # TODO: choose an optimizer\n",
    "\n",
    "loss_history = []\n",
    "for epoch in range(num_epochs):\n",
    "  val_acc = eval_acc(model, val_loader)\n",
    "  \n",
    "  model.train()\n",
    "  \n",
    "  for batch, (images, labels) in enumerate(train_loader):\n",
    "    images = images.cuda()\n",
    "    labels = labels.cuda()\n",
    "    \n",
    "    optimizer.zero_grad()\n",
    "    loss = model(images, labels)\n",
    "    loss.backward()\n",
    "    optimizer.step()\n",
    "    \n",
    "    with torch.no_grad():\n",
    "      loss_history.append(loss.item())\n",
    "      if batch == 0:\n",
    "        print('Train Epoch: {:3} \\t Loss: {:F} \\t Val Acc: {:F}'.format(\n",
    "          epoch, loss.item(), val_acc))\n",
    "\n",
    "with torch.no_grad():\n",
    "  plt.plot(loss_history, 'o')\n",
    "  plt.xlabel('Iteration number')\n",
    "  plt.ylabel('Loss value')\n",
    "  plt.show()"
   ]
  },
  {
   "cell_type": "markdown",
   "id": "warming-pencil",
   "metadata": {
    "id": "warming-pencil"
   },
   "source": [
    "## Results"
   ]
  },
  {
   "cell_type": "code",
   "execution_count": 37,
   "id": "manual-scratch",
   "metadata": {
    "colab": {
     "base_uri": "https://localhost:8080/"
    },
    "id": "manual-scratch",
    "outputId": "5e649299-3639-445e-9199-ebc8cac3bf85"
   },
   "outputs": [
    {
     "name": "stdout",
     "output_type": "stream",
     "text": [
      "Training Accuracy: 84.84\n"
     ]
    }
   ],
   "source": [
    "train_acc = eval_acc(model, train_loader)\n",
    "print('Training Accuracy:', train_acc)"
   ]
  },
  {
   "cell_type": "code",
   "execution_count": 38,
   "id": "deadly-surgeon",
   "metadata": {
    "colab": {
     "base_uri": "https://localhost:8080/"
    },
    "deletable": false,
    "editable": false,
    "id": "deadly-surgeon",
    "nbgrader": {
     "cell_type": "code",
     "checksum": "82cb53992b3b46214bbd489d98dbdfa1",
     "grade": true,
     "grade_id": "cell-e1a810a12e065ec6",
     "locked": true,
     "points": 30,
     "schema_version": 3,
     "solution": false,
     "task": false
    },
    "outputId": "229409c4-960e-48fa-b38b-5ea80f8ea53e"
   },
   "outputs": [
    {
     "name": "stdout",
     "output_type": "stream",
     "text": [
      "Validation Accuracy: 78.13\n"
     ]
    }
   ],
   "source": [
    "val_acc = eval_acc(model, val_loader)\n",
    "print('Validation Accuracy:', val_acc)\n",
    "assert val_acc >= 75"
   ]
  },
  {
   "cell_type": "code",
   "execution_count": 39,
   "id": "heard-produce",
   "metadata": {
    "colab": {
     "base_uri": "https://localhost:8080/"
    },
    "id": "heard-produce",
    "outputId": "fa2c4743-6cbd-4ac7-ae53-0ac09ddc33f7"
   },
   "outputs": [
    {
     "name": "stdout",
     "output_type": "stream",
     "text": [
      "Test Accuracy: 77.74\n"
     ]
    }
   ],
   "source": [
    "test_acc = eval_acc(model, test_loader)\n",
    "print('Test Accuracy:', test_acc)"
   ]
  },
  {
   "cell_type": "code",
   "execution_count": null,
   "id": "9Wffgvw6HdSV",
   "metadata": {
    "id": "9Wffgvw6HdSV"
   },
   "outputs": [],
   "source": []
  }
 ],
 "metadata": {
  "accelerator": "GPU",
  "colab": {
   "collapsed_sections": [],
   "name": "ys688.ipynb",
   "provenance": []
  },
  "kernelspec": {
   "display_name": "Python 3",
   "language": "python",
   "name": "python3"
  },
  "language_info": {
   "codemirror_mode": {
    "name": "ipython",
    "version": 3
   },
   "file_extension": ".py",
   "mimetype": "text/x-python",
   "name": "python",
   "nbconvert_exporter": "python",
   "pygments_lexer": "ipython3",
   "version": "3.7.9"
  },
  "widgets": {
   "application/vnd.jupyter.widget-state+json": {
    "1d24d68b2a894e55a4717aec840f1b43": {
     "model_module": "@jupyter-widgets/controls",
     "model_name": "HTMLModel",
     "state": {
      "_dom_classes": [],
      "_model_module": "@jupyter-widgets/controls",
      "_model_module_version": "1.5.0",
      "_model_name": "HTMLModel",
      "_view_count": null,
      "_view_module": "@jupyter-widgets/controls",
      "_view_module_version": "1.5.0",
      "_view_name": "HTMLView",
      "description": "",
      "description_tooltip": null,
      "layout": "IPY_MODEL_5449e4af6cd642259dd60566bda4d7d2",
      "placeholder": "​",
      "style": "IPY_MODEL_259c7ed6f68a4611b4170652b2d27bdb",
      "value": " 170500096/? [00:20&lt;00:00, 98791256.55it/s]"
     }
    },
    "259c7ed6f68a4611b4170652b2d27bdb": {
     "model_module": "@jupyter-widgets/controls",
     "model_name": "DescriptionStyleModel",
     "state": {
      "_model_module": "@jupyter-widgets/controls",
      "_model_module_version": "1.5.0",
      "_model_name": "DescriptionStyleModel",
      "_view_count": null,
      "_view_module": "@jupyter-widgets/base",
      "_view_module_version": "1.2.0",
      "_view_name": "StyleView",
      "description_width": ""
     }
    },
    "326e487cecff4587a6ca99e0a863eea3": {
     "model_module": "@jupyter-widgets/controls",
     "model_name": "FloatProgressModel",
     "state": {
      "_dom_classes": [],
      "_model_module": "@jupyter-widgets/controls",
      "_model_module_version": "1.5.0",
      "_model_name": "FloatProgressModel",
      "_view_count": null,
      "_view_module": "@jupyter-widgets/controls",
      "_view_module_version": "1.5.0",
      "_view_name": "ProgressView",
      "bar_style": "info",
      "description": "",
      "description_tooltip": null,
      "layout": "IPY_MODEL_e5f9e2e1d1e74e5983cd234069ffbe6f",
      "max": 1,
      "min": 0,
      "orientation": "horizontal",
      "style": "IPY_MODEL_4d783097c30a46f093a4979a9d9c0933",
      "value": 1
     }
    },
    "4d783097c30a46f093a4979a9d9c0933": {
     "model_module": "@jupyter-widgets/controls",
     "model_name": "ProgressStyleModel",
     "state": {
      "_model_module": "@jupyter-widgets/controls",
      "_model_module_version": "1.5.0",
      "_model_name": "ProgressStyleModel",
      "_view_count": null,
      "_view_module": "@jupyter-widgets/base",
      "_view_module_version": "1.2.0",
      "_view_name": "StyleView",
      "bar_color": null,
      "description_width": "initial"
     }
    },
    "5449e4af6cd642259dd60566bda4d7d2": {
     "model_module": "@jupyter-widgets/base",
     "model_name": "LayoutModel",
     "state": {
      "_model_module": "@jupyter-widgets/base",
      "_model_module_version": "1.2.0",
      "_model_name": "LayoutModel",
      "_view_count": null,
      "_view_module": "@jupyter-widgets/base",
      "_view_module_version": "1.2.0",
      "_view_name": "LayoutView",
      "align_content": null,
      "align_items": null,
      "align_self": null,
      "border": null,
      "bottom": null,
      "display": null,
      "flex": null,
      "flex_flow": null,
      "grid_area": null,
      "grid_auto_columns": null,
      "grid_auto_flow": null,
      "grid_auto_rows": null,
      "grid_column": null,
      "grid_gap": null,
      "grid_row": null,
      "grid_template_areas": null,
      "grid_template_columns": null,
      "grid_template_rows": null,
      "height": null,
      "justify_content": null,
      "justify_items": null,
      "left": null,
      "margin": null,
      "max_height": null,
      "max_width": null,
      "min_height": null,
      "min_width": null,
      "object_fit": null,
      "object_position": null,
      "order": null,
      "overflow": null,
      "overflow_x": null,
      "overflow_y": null,
      "padding": null,
      "right": null,
      "top": null,
      "visibility": null,
      "width": null
     }
    },
    "8144666873074fb0961473889682c191": {
     "model_module": "@jupyter-widgets/base",
     "model_name": "LayoutModel",
     "state": {
      "_model_module": "@jupyter-widgets/base",
      "_model_module_version": "1.2.0",
      "_model_name": "LayoutModel",
      "_view_count": null,
      "_view_module": "@jupyter-widgets/base",
      "_view_module_version": "1.2.0",
      "_view_name": "LayoutView",
      "align_content": null,
      "align_items": null,
      "align_self": null,
      "border": null,
      "bottom": null,
      "display": null,
      "flex": null,
      "flex_flow": null,
      "grid_area": null,
      "grid_auto_columns": null,
      "grid_auto_flow": null,
      "grid_auto_rows": null,
      "grid_column": null,
      "grid_gap": null,
      "grid_row": null,
      "grid_template_areas": null,
      "grid_template_columns": null,
      "grid_template_rows": null,
      "height": null,
      "justify_content": null,
      "justify_items": null,
      "left": null,
      "margin": null,
      "max_height": null,
      "max_width": null,
      "min_height": null,
      "min_width": null,
      "object_fit": null,
      "object_position": null,
      "order": null,
      "overflow": null,
      "overflow_x": null,
      "overflow_y": null,
      "padding": null,
      "right": null,
      "top": null,
      "visibility": null,
      "width": null
     }
    },
    "9e959739cfb14f59aa299dc24d60a119": {
     "model_module": "@jupyter-widgets/controls",
     "model_name": "HBoxModel",
     "state": {
      "_dom_classes": [],
      "_model_module": "@jupyter-widgets/controls",
      "_model_module_version": "1.5.0",
      "_model_name": "HBoxModel",
      "_view_count": null,
      "_view_module": "@jupyter-widgets/controls",
      "_view_module_version": "1.5.0",
      "_view_name": "HBoxView",
      "box_style": "",
      "children": [
       "IPY_MODEL_326e487cecff4587a6ca99e0a863eea3",
       "IPY_MODEL_1d24d68b2a894e55a4717aec840f1b43"
      ],
      "layout": "IPY_MODEL_8144666873074fb0961473889682c191"
     }
    },
    "e5f9e2e1d1e74e5983cd234069ffbe6f": {
     "model_module": "@jupyter-widgets/base",
     "model_name": "LayoutModel",
     "state": {
      "_model_module": "@jupyter-widgets/base",
      "_model_module_version": "1.2.0",
      "_model_name": "LayoutModel",
      "_view_count": null,
      "_view_module": "@jupyter-widgets/base",
      "_view_module_version": "1.2.0",
      "_view_name": "LayoutView",
      "align_content": null,
      "align_items": null,
      "align_self": null,
      "border": null,
      "bottom": null,
      "display": null,
      "flex": null,
      "flex_flow": null,
      "grid_area": null,
      "grid_auto_columns": null,
      "grid_auto_flow": null,
      "grid_auto_rows": null,
      "grid_column": null,
      "grid_gap": null,
      "grid_row": null,
      "grid_template_areas": null,
      "grid_template_columns": null,
      "grid_template_rows": null,
      "height": null,
      "justify_content": null,
      "justify_items": null,
      "left": null,
      "margin": null,
      "max_height": null,
      "max_width": null,
      "min_height": null,
      "min_width": null,
      "object_fit": null,
      "object_position": null,
      "order": null,
      "overflow": null,
      "overflow_x": null,
      "overflow_y": null,
      "padding": null,
      "right": null,
      "top": null,
      "visibility": null,
      "width": null
     }
    }
   }
  }
 },
 "nbformat": 4,
 "nbformat_minor": 5
}
