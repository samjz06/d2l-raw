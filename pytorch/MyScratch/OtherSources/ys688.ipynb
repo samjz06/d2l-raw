{
 "cells": [
  {
   "cell_type": "markdown",
   "metadata": {
    "id": "eohl8eRYCmaL"
   },
   "source": [
    "---\n",
    "# Introduction\n",
    "\n",
    "This assignment will cover the basics of PyTorch. It is largely adapted (with permission) from https://web.eecs.umich.edu/~justincj/teaching/eecs498/FA2019/assignment1.html. PyTorch will be used throughout the semester for homework assignments and your final projects, so it is important to become familiar with it.\n",
    "\n",
    "This notebook will walk you through many of the important features of PyTorch that you will need to use throughout the semester. In some cells you will see code blocks that look like this:\n",
    "\n",
    "```python\n",
    "###############################################################################\n",
    "# TODO: Create a variable x with value 536.                                   #\n",
    "###############################################################################\n",
    "# Replace \"pass\" statement with your code\n",
    "pass\n",
    "# END OF YOUR CODE\n",
    "```\n",
    "\n",
    "You should replace the `pass` statement with your own code and leave the blocks intact, like this:\n",
    "```python\n",
    "###############################################################################\n",
    "# TODO: Create a variable x with value 536.                                   #\n",
    "###############################################################################\n",
    "# Replace \"pass\" statement with your code\n",
    "x = 536\n",
    "# END OF YOUR CODE\n",
    "```\n",
    "\n",
    "\n",
    "When completing the notebook, please adhere to the following rules:\n",
    "- Do not write or modify any code outside of code blocks.\n",
    "- Do not add or delete any cells from the notebook. You may add new cells to perform scratch work, but delete them before submitting.\n",
    "- Run all cells before submitting. You will only get credit for code that has been run.\n",
    "- Submit your notebook as `netid.ipynb`, where `netid` is your actual netid."
   ]
  },
  {
   "cell_type": "markdown",
   "metadata": {
    "id": "eh_ow_TnCmaN"
   },
   "source": [
    "# PyTorch"
   ]
  },
  {
   "cell_type": "markdown",
   "metadata": {
    "id": "U6yjOpKMCmaN",
    "nbgrader": {
     "grade": false,
     "grade_id": "squares",
     "locked": false,
     "schema_version": 3,
     "solution": false,
     "task": false
    }
   },
   "source": [
    "[PyTorch](https://pytorch.org/) is an open source machine learning framework. At its core, PyTorch provides a few key features:\n",
    "\n",
    "- A multidimensional **Tensor** object, similar to [NumPy](https://numpy.org/) but with GPU acceleration.\n",
    "- An optimized **autograd** engine for automatically computing derivatives.\n",
    "- A clean, modular API for building and deploying **deep learning models**.\n",
    "\n",
    "We will use PyTorch for all programming assignments throughout the semester. This notebook will focus on the **Tensor API**.\n",
    "\n",
    "You can find more information about PyTorch by following one of the [official tutorials](https://pytorch.org/tutorials/) or by reading the [documentation](https://pytorch.org/docs/1.7.0/)."
   ]
  },
  {
   "cell_type": "markdown",
   "metadata": {
    "id": "aW_aK07ECmaO"
   },
   "source": [
    "To use PyTorch, we first need to import the `torch` package.\n",
    "\n",
    "We also check the version; the assignments in this course will use PyTorch version 1.7.0, since this is the default version in Google Colab."
   ]
  },
  {
   "cell_type": "code",
   "execution_count": 1,
   "metadata": {
    "colab": {
     "base_uri": "https://localhost:8080/"
    },
    "deletable": false,
    "editable": false,
    "id": "qQClZwgSCmaO",
    "nbgrader": {
     "cell_type": "code",
     "checksum": "dfb7778c8ed8efde3ed483091ed2ca17",
     "grade": false,
     "grade_id": "cell-34b8eff364d37f4f",
     "locked": true,
     "schema_version": 3,
     "solution": false,
     "task": false
    },
    "outputId": "a1f63a7e-8bfe-4dc0-fc1c-c15eb7d4bb42"
   },
   "outputs": [
    {
     "name": "stdout",
     "output_type": "stream",
     "text": [
      "1.7.0+cu101\n"
     ]
    }
   ],
   "source": [
    "import torch\n",
    "print(torch.__version__)"
   ]
  },
  {
   "cell_type": "markdown",
   "metadata": {
    "id": "xy6wGmz3CmaO",
    "nbgrader": {
     "grade": false,
     "grade_id": "correct_squares",
     "locked": false,
     "schema_version": 3,
     "solution": false,
     "task": false
    }
   },
   "source": [
    "## Tensor Basics"
   ]
  },
  {
   "cell_type": "markdown",
   "metadata": {
    "id": "0tVwOwNiCmaO",
    "nbgrader": {
     "grade": false,
     "grade_id": "squares_invalid_input",
     "locked": false,
     "schema_version": 3,
     "solution": false,
     "task": false
    }
   },
   "source": [
    "### Creating and accessing tensors"
   ]
  },
  {
   "cell_type": "markdown",
   "metadata": {
    "id": "YU9vohsOCmaP"
   },
   "source": [
    "A PyTorch **tensor** is a multidimensional grid of values, all of the same type, and is indexed by a tuple of integers.\n",
    "\n",
    "The number of dimensions is the **rank** of the tensor; the **shape** of a tensor is a tuple of integers giving the size of the tensor along each dimension.\n",
    "\n",
    "We can initialize a PyTorch tensor from nested Python lists:"
   ]
  },
  {
   "cell_type": "code",
   "execution_count": 2,
   "metadata": {
    "colab": {
     "base_uri": "https://localhost:8080/"
    },
    "id": "D2sp_i2fCmaP",
    "outputId": "3c70df9a-c741-430c-a2b4-3a6160792740"
   },
   "outputs": [
    {
     "name": "stdout",
     "output_type": "stream",
     "text": [
      "Here is a:\n",
      "tensor([1, 2, 3])\n",
      "type of a: <class 'torch.Tensor'>\n",
      "rank of a: 1\n",
      "shape of a: torch.Size([3])\n"
     ]
    }
   ],
   "source": [
    "# Create a rank 1 tensor from a Python list\n",
    "a = torch.tensor([1, 2, 3])\n",
    "print('Here is a:')\n",
    "print(a)\n",
    "print('type of a:', type(a))\n",
    "print('rank of a:', a.dim())\n",
    "print('shape of a:', a.shape)"
   ]
  },
  {
   "cell_type": "markdown",
   "metadata": {
    "id": "FZ-HxlZfCmaP"
   },
   "source": [
    "We can access or mutate elements of a PyTorch tensor using square brackets.\n",
    "\n",
    "Accessing an element from a PyTorch tensor returns a PyTorch scalar; we can convert this to a Python scalar using the `.item()` method:"
   ]
  },
  {
   "cell_type": "code",
   "execution_count": 3,
   "metadata": {
    "colab": {
     "base_uri": "https://localhost:8080/"
    },
    "id": "QhUy3_6FCmaQ",
    "outputId": "ca541dae-71e6-4c0d-ec9f-50533f261b61"
   },
   "outputs": [
    {
     "name": "stdout",
     "output_type": "stream",
     "text": [
      "a[0]: tensor(1)\n",
      "type(a[0]): <class 'torch.Tensor'>\n",
      "type(a[0].item()): <class 'int'>\n"
     ]
    }
   ],
   "source": [
    "# Access elements using square brackets\n",
    "print('a[0]:', a[0])\n",
    "print('type(a[0]):', type(a[0]))\n",
    "print('type(a[0].item()):', type(a[0].item()))"
   ]
  },
  {
   "cell_type": "code",
   "execution_count": 4,
   "metadata": {
    "colab": {
     "base_uri": "https://localhost:8080/"
    },
    "id": "pv38SCJFCmaQ",
    "outputId": "e0f74f52-e500-4275-efb3-0ee59d481b45"
   },
   "outputs": [
    {
     "name": "stdout",
     "output_type": "stream",
     "text": [
      "a after mutating:\n",
      "tensor([ 1, 10,  3])\n"
     ]
    }
   ],
   "source": [
    "# Mutate elements using square brackets\n",
    "a[1] = 10\n",
    "print('a after mutating:')\n",
    "print(a)"
   ]
  },
  {
   "cell_type": "markdown",
   "metadata": {
    "id": "xaPtrKfqCmaQ"
   },
   "source": [
    "The example above shows a one-dimensional tensor; we can similarly create tensors with two or more dimensions:"
   ]
  },
  {
   "cell_type": "code",
   "execution_count": 5,
   "metadata": {
    "colab": {
     "base_uri": "https://localhost:8080/"
    },
    "id": "-pE08o2JCmaQ",
    "outputId": "ab97af11-0e48-45eb-92fc-47cb168db3cb"
   },
   "outputs": [
    {
     "name": "stdout",
     "output_type": "stream",
     "text": [
      "Here is b:\n",
      "tensor([[1, 2, 3],\n",
      "        [4, 5, 6]])\n",
      "rank of b: 2\n",
      "shape of b: torch.Size([2, 3])\n"
     ]
    }
   ],
   "source": [
    "# Create a two-dimensional tensor\n",
    "b = torch.tensor([[1, 2, 3], [4, 5, 6]])\n",
    "print('Here is b:')\n",
    "print(b)\n",
    "print('rank of b:', b.dim())\n",
    "print('shape of b:', b.shape)"
   ]
  },
  {
   "cell_type": "code",
   "execution_count": 6,
   "metadata": {
    "colab": {
     "base_uri": "https://localhost:8080/"
    },
    "id": "YYQloXH0CmaR",
    "outputId": "3d2bdfe4-806f-4366-9c20-645987717ce0"
   },
   "outputs": [
    {
     "name": "stdout",
     "output_type": "stream",
     "text": [
      "b[0, 1]: tensor(2)\n",
      "b[1, 2]: tensor(6)\n"
     ]
    }
   ],
   "source": [
    "# Access elements from a multidimensional tensor\n",
    "print('b[0, 1]:', b[0, 1])\n",
    "print('b[1, 2]:', b[1, 2])"
   ]
  },
  {
   "cell_type": "code",
   "execution_count": 7,
   "metadata": {
    "colab": {
     "base_uri": "https://localhost:8080/"
    },
    "id": "bR9BaxxvCmaR",
    "outputId": "cc7fc334-0378-4719-f593-55992b63c3ae"
   },
   "outputs": [
    {
     "name": "stdout",
     "output_type": "stream",
     "text": [
      "b after mutating:\n",
      "tensor([[  1,   2,   3],\n",
      "        [  4, 100,   6]])\n"
     ]
    }
   ],
   "source": [
    "# Mutate elements of a multidimensional tensor\n",
    "b[1, 1] = 100\n",
    "print('b after mutating:')\n",
    "print(b)"
   ]
  },
  {
   "cell_type": "markdown",
   "metadata": {
    "id": "0RxGTM5NCmaR"
   },
   "source": [
    "Now it's your turn:\n",
    "\n",
    "1. Construct a tensor `c` of shape `(3, 2)` filled with zeros by initializing from nested Python lists.\n",
    "2. Then set element `(0, 1)` to 10, and element `(1, 0)` to 100."
   ]
  },
  {
   "cell_type": "code",
   "execution_count": 11,
   "metadata": {
    "colab": {
     "base_uri": "https://localhost:8080/"
    },
    "deletable": false,
    "id": "Lhxdf8OGCmaR",
    "nbgrader": {
     "cell_type": "code",
     "checksum": "8f13a50e301452cf11c7c8c33316acf3",
     "grade": false,
     "grade_id": "cell-c0dca73b3a1ee0a3",
     "locked": false,
     "schema_version": 3,
     "solution": true,
     "task": false
    },
    "outputId": "ce2ef3cc-6d7e-4ea3-9b80-f50724a5df7b"
   },
   "outputs": [
    {
     "name": "stdout",
     "output_type": "stream",
     "text": [
      "Here is c:\n",
      "tensor([[0., 0.],\n",
      "        [0., 0.],\n",
      "        [0., 0.]])\n"
     ]
    }
   ],
   "source": [
    "c = None\n",
    "################################################################################\n",
    "# TODO: Construct a tensor c filled with all zeros, initializing from nested   #\n",
    "# Python lists.                                                                #\n",
    "################################################################################\n",
    "# Replace \"pass\" statement with your code\n",
    "start = [[0, 0], [0, 0], [0, 0]]\n",
    "c = torch.Tensor(start)\n",
    "print('Here is c:')\n",
    "print(c)\n",
    "# END OF YOUR CODE"
   ]
  },
  {
   "cell_type": "code",
   "execution_count": 12,
   "metadata": {
    "deletable": false,
    "editable": false,
    "id": "qcOabWyvCmaS",
    "nbgrader": {
     "cell_type": "code",
     "checksum": "e2f56c4fbc1acf650c6ba9f8bcf6bf28",
     "grade": true,
     "grade_id": "cell-c3973d716da6920e",
     "locked": true,
     "points": 1,
     "schema_version": 3,
     "solution": false,
     "task": false
    }
   },
   "outputs": [],
   "source": [
    "assert torch.is_tensor(c), 'c is a tensor'\n",
    "assert c.shape == (3, 2), 'c has correct shape'\n",
    "assert (c == 0).all(), 'c is filled with all zeros'"
   ]
  },
  {
   "cell_type": "code",
   "execution_count": 13,
   "metadata": {
    "colab": {
     "base_uri": "https://localhost:8080/"
    },
    "deletable": false,
    "id": "3m2UQ1vLCmaS",
    "nbgrader": {
     "cell_type": "code",
     "checksum": "ccb9460f9b5ffec739c047f2548aefea",
     "grade": false,
     "grade_id": "cell-f4f4c831e10da6b6",
     "locked": false,
     "schema_version": 3,
     "solution": true,
     "task": false
    },
    "outputId": "ed648b78-403d-4a46-b646-880c8ad9d10a"
   },
   "outputs": [
    {
     "name": "stdout",
     "output_type": "stream",
     "text": [
      "c after mutating:\n",
      "tensor([[  0.,  10.],\n",
      "        [100.,   0.],\n",
      "        [  0.,   0.]])\n"
     ]
    }
   ],
   "source": [
    "################################################################################\n",
    "# TODO: Set element (0, 1) of c to 10, and element (1, 0) of c to 100.         #\n",
    "################################################################################\n",
    "# Replace \"pass\" statement with your code\n",
    "c[0, 1] = 10\n",
    "c[1, 0] = 100\n",
    "print('c after mutating:')\n",
    "print(c)\n",
    "# END OF YOUR CODE"
   ]
  },
  {
   "cell_type": "code",
   "execution_count": 14,
   "metadata": {
    "deletable": false,
    "editable": false,
    "id": "q3g2uC2mCmaS",
    "nbgrader": {
     "cell_type": "code",
     "checksum": "be91fccdb1f637e6af1bbbbcca42a450",
     "grade": true,
     "grade_id": "cell-f7b29b68fa9fbe8b",
     "locked": true,
     "points": 1,
     "schema_version": 3,
     "solution": false,
     "task": false
    }
   },
   "outputs": [],
   "source": [
    "assert torch.is_tensor(c), 'c is a tensor'\n",
    "assert c.shape == (3, 2), 'c has correct shape'\n",
    "assert c[0, 1] == 10, 'c[0, 1] correct'\n",
    "assert c[1, 0] == 100, 'c[1, 0] correct'"
   ]
  },
  {
   "cell_type": "markdown",
   "metadata": {
    "id": "f_7X9BMTCmaS"
   },
   "source": [
    "### Tensor constructors"
   ]
  },
  {
   "cell_type": "markdown",
   "metadata": {
    "id": "nQumPcDHCmaS"
   },
   "source": [
    "PyTorch provides many convenience methods for constructing tensors; this avoids the need to use Python lists. For example:\n",
    "\n",
    "- [`torch.zeros()`](https://pytorch.org/docs/1.7.0/generated/torch.zeros.html#torch.zeros): Creates a tensor of all zeros.\n",
    "- [`torch.ones()`](https://pytorch.org/docs/1.7.0/generated/torch.ones.html#torch.ones): Creates a tensor of all ones.\n",
    "- [`torch.rand()`](https://pytorch.org/docs/1.7.0/generated/torch.rand.html#torch.rand): Creates a tensor with uniform random numbers.\n",
    "\n",
    "You can find a full list of tensor creation operations [here](https://pytorch.org/docs/1.7.0/torch.html#creation-ops) and [here](https://pytorch.org/docs/1.7.0/torch.html#torch.torch.default_generator)."
   ]
  },
  {
   "cell_type": "code",
   "execution_count": 17,
   "metadata": {
    "colab": {
     "base_uri": "https://localhost:8080/"
    },
    "id": "JsseXerPCmaT",
    "outputId": "a51a6a88-ee28-4648-a22f-521c0256bb50"
   },
   "outputs": [
    {
     "name": "stdout",
     "output_type": "stream",
     "text": [
      "tensor of zeros:\n",
      "tensor([[0., 0., 0.],\n",
      "        [0., 0., 0.]])\n",
      "\n",
      "tensor of ones:\n",
      "tensor([[1., 1.]])\n",
      "\n",
      "identity matrix:\n",
      "tensor([[1., 0., 0.],\n",
      "        [0., 1., 0.],\n",
      "        [0., 0., 1.]])\n",
      "\n",
      "random tensor:\n",
      "tensor([[0.0586, 0.5054, 0.1277, 0.7184, 0.3947],\n",
      "        [0.4013, 0.9105, 0.9345, 0.0187, 0.6280],\n",
      "        [0.4440, 0.2133, 0.5801, 0.2999, 0.0200],\n",
      "        [0.7531, 0.2776, 0.4876, 0.8555, 0.6873]])\n"
     ]
    }
   ],
   "source": [
    "# Create a tensor of all zeros\n",
    "a = torch.zeros(2, 3)\n",
    "print('tensor of zeros:')\n",
    "print(a)\n",
    "\n",
    "# Create a tensor of all ones\n",
    "b = torch.ones(1, 2)\n",
    "print('\\ntensor of ones:')\n",
    "print(b)\n",
    "\n",
    "# Create a 3x3 identity matrix\n",
    "c = torch.eye(3)\n",
    "print('\\nidentity matrix:')\n",
    "print(c)\n",
    "\n",
    "# Tensor of random values\n",
    "d = torch.rand(4, 5)\n",
    "print('\\nrandom tensor:')\n",
    "print(d)"
   ]
  },
  {
   "cell_type": "markdown",
   "metadata": {
    "id": "XzKI90IlCmaU"
   },
   "source": [
    "### Data types"
   ]
  },
  {
   "cell_type": "markdown",
   "metadata": {
    "id": "EusYHNiiCmaV"
   },
   "source": [
    "PyTorch provides [a large set of numeric data types](https://pytorch.org/docs/1.7.0/tensor_attributes.html#torch-dtype) that you can use to construct tensors, of which the most commonly used are:\n",
    "\n",
    "- `torch.float32`: Standard floating-point type; used to store learnable parameters, network activations, etc. Nearly all arithmetic is done using this type.\n",
    "- `torch.int64`: Typically used to store indices.\n",
    "\n",
    "PyTorch tries to guess a data type when you create a tensor; functions that construct tensors typically have a `dtype` argument that you can use to explicitly specify a data type.\n",
    "\n",
    "Each tensor has a `dtype` attribute that you can use to check its data type:"
   ]
  },
  {
   "cell_type": "code",
   "execution_count": 18,
   "metadata": {
    "colab": {
     "base_uri": "https://localhost:8080/"
    },
    "id": "CYs13l1CCmaV",
    "outputId": "4a1e629d-8730-4a75-c3e4-b74748804481"
   },
   "outputs": [
    {
     "name": "stdout",
     "output_type": "stream",
     "text": [
      "dtype when torch chooses for us:\n",
      "List of integers: torch.int64\n",
      "List of floats: torch.float32\n",
      "Mixed list: torch.float32\n",
      "\n",
      "dtype when we force a data type:\n",
      "32-bit float: torch.float32\n",
      "32-bit integer: torch.int32\n",
      "64-bit integer: torch.int64\n",
      "\n",
      "torch.ones with different dtypes:\n",
      "default dtype: torch.float32\n",
      "16-bit integer: torch.int16\n",
      "8-bit unsigned integer: torch.uint8\n"
     ]
    }
   ],
   "source": [
    "# Let torch choose the data type\n",
    "x0 = torch.tensor([1, 2])   # List of integers\n",
    "x1 = torch.tensor([1., 2.]) # List of floats\n",
    "x2 = torch.tensor([1., 2])  # Mixed list\n",
    "print('dtype when torch chooses for us:')\n",
    "print('List of integers:', x0.dtype)\n",
    "print('List of floats:', x1.dtype)\n",
    "print('Mixed list:', x2.dtype)\n",
    "\n",
    "# Force a particular data type\n",
    "y0 = torch.tensor([1, 2], dtype=torch.float32)  # 32-bit float\n",
    "y1 = torch.tensor([1, 2], dtype=torch.int32)    # 32-bit (signed) integer\n",
    "y2 = torch.tensor([1, 2], dtype=torch.int64)    # 64-bit (signed) integer\n",
    "print('\\ndtype when we force a data type:')\n",
    "print('32-bit float:', y0.dtype)\n",
    "print('32-bit integer:', y1.dtype)\n",
    "print('64-bit integer:', y2.dtype)\n",
    "\n",
    "# Other creation ops also take a dtype argument\n",
    "z0 = torch.ones(1, 2)  # Let torch choose for us\n",
    "z1 = torch.ones(1, 2, dtype=torch.int16) # 16-bit (signed) integer\n",
    "z2 = torch.ones(1, 2, dtype=torch.uint8) # 8-bit (unsigned) integer\n",
    "print('\\ntorch.ones with different dtypes:')\n",
    "print('default dtype:', z0.dtype)\n",
    "print('16-bit integer:', z1.dtype)\n",
    "print('8-bit unsigned integer:', z2.dtype)"
   ]
  },
  {
   "cell_type": "markdown",
   "metadata": {
    "id": "npEf8kLgCmaV"
   },
   "source": [
    "We can **cast** a tensor to another data type using the [`.to()`](https://pytorch.org/docs/1.7.0/tensors.html#torch.Tensor.to) method; there are also convenience methods like [`.float()`](https://pytorch.org/docs/1.7.0/tensors.html#torch.Tensor.float) and [`.long()`](https://pytorch.org/docs/1.7.0/tensors.html#torch.Tensor.long) that cast to particular data types:\n"
   ]
  },
  {
   "cell_type": "code",
   "execution_count": 19,
   "metadata": {
    "colab": {
     "base_uri": "https://localhost:8080/"
    },
    "id": "nD_OC9PgCmaV",
    "outputId": "0bf36472-2a96-4b6f-bdf2-59c2f6877e7a"
   },
   "outputs": [
    {
     "name": "stdout",
     "output_type": "stream",
     "text": [
      "x0: torch.int64\n",
      "x1: torch.float32\n",
      "x2: torch.float64\n",
      "x3: torch.float32\n",
      "x4: torch.float64\n"
     ]
    }
   ],
   "source": [
    "x0 = torch.eye(3, dtype=torch.int64)\n",
    "x1 = x0.float()  # Cast to 32-bit float\n",
    "x2 = x0.double() # Cast to 64-bit float\n",
    "x3 = x0.to(torch.float32) # Alternate way to cast to 32-bit float\n",
    "x4 = x0.to(torch.float64) # Alternate way to cast to 64-bit float\n",
    "print('x0:', x0.dtype)\n",
    "print('x1:', x1.dtype)\n",
    "print('x2:', x2.dtype)\n",
    "print('x3:', x3.dtype)\n",
    "print('x4:', x4.dtype)"
   ]
  },
  {
   "cell_type": "markdown",
   "metadata": {
    "id": "S0U_NCoPCmaW"
   },
   "source": [
    "PyTorch provides several ways to create a tensor with the same data type as another tensor:\n",
    "\n",
    "- PyTorch provides tensor constructors such as [`torch.zeros_like()`](https://pytorch.org/docs/1.7.0/generated/torch.zeros_like.html#torch.zeros_like) that create new tensors with the **same shape and type** as a given tensor.\n",
    "- Tensor objects have instance methods such as [`.new_zeros()`](https://pytorch.org/docs/1.7.0/tensors.html#torch.Tensor.new_ones) that create tensors the **same type but possibly different shapes**.\n",
    "- The tensor instance method [`.to()`](https://pytorch.org/docs/1.7.0/tensors.html#torch.Tensor.to) can take a tensor as an argument, in which case it casts to the data type of the argument."
   ]
  },
  {
   "cell_type": "code",
   "execution_count": 20,
   "metadata": {
    "colab": {
     "base_uri": "https://localhost:8080/"
    },
    "id": "5SSZbzhBCmaW",
    "outputId": "8b177b97-f0b2-461c-dea5-ae349d573c4b"
   },
   "outputs": [
    {
     "name": "stdout",
     "output_type": "stream",
     "text": [
      "x0 shape is torch.Size([3, 3]), dtype is torch.float64\n",
      "x1 shape is torch.Size([3, 3]), dtype is torch.float64\n",
      "x2 shape is torch.Size([4, 5]), dtype is torch.float64\n",
      "x3 shape is torch.Size([6, 7]), dtype is torch.float64\n"
     ]
    }
   ],
   "source": [
    "x0 = torch.eye(3, dtype=torch.float64)  # Shape (3, 3), dtype torch.float64\n",
    "x1 = torch.zeros_like(x0)               # Shape (3, 3), dtype torch.float64\n",
    "x2 = x0.new_zeros(4, 5)                 # Shape (4, 5), dtype torch.float64\n",
    "x3 = torch.ones(6, 7).to(x0)            # Shape (6, 7), dtype torch.float64\n",
    "print('x0 shape is %r, dtype is %r' % (x0.shape, x0.dtype))\n",
    "print('x1 shape is %r, dtype is %r' % (x1.shape, x1.dtype))\n",
    "print('x2 shape is %r, dtype is %r' % (x2.shape, x2.dtype))\n",
    "print('x3 shape is %r, dtype is %r' % (x3.shape, x3.dtype))"
   ]
  },
  {
   "cell_type": "markdown",
   "metadata": {
    "id": "eEVxsxTgCmaW"
   },
   "source": [
    "Your turn: Use a tensor creation operation to create a tensor of shape (2, 3, 4) filled entirely with the integer 7.\n",
    "\n",
    "Hint: [`torch.full()`](https://pytorch.org/docs/1.7.0/generated/torch.full.html#torch.full)"
   ]
  },
  {
   "cell_type": "code",
   "execution_count": 26,
   "metadata": {
    "colab": {
     "base_uri": "https://localhost:8080/"
    },
    "deletable": false,
    "id": "HPm9duETCmaX",
    "nbgrader": {
     "cell_type": "code",
     "checksum": "d79ce3f77dd7c7daaa8b606c76b584d8",
     "grade": false,
     "grade_id": "cell-2682de71dcbcdd63",
     "locked": false,
     "schema_version": 3,
     "solution": true,
     "task": false
    },
    "outputId": "e300c7b7-e91b-456f-cdf3-d33a66dd05eb"
   },
   "outputs": [
    {
     "name": "stdout",
     "output_type": "stream",
     "text": [
      "Here is e:\n",
      "tensor([[[7, 7, 7, 7],\n",
      "         [7, 7, 7, 7],\n",
      "         [7, 7, 7, 7]],\n",
      "\n",
      "        [[7, 7, 7, 7],\n",
      "         [7, 7, 7, 7],\n",
      "         [7, 7, 7, 7]]])\n"
     ]
    }
   ],
   "source": [
    "e = None\n",
    "################################################################################\n",
    "# TODO: Create a tensor of shape (2, 3, 4) filled entirely with the integer 7, #\n",
    "# stored in e. Use 64-bit integers.                                            #\n",
    "################################################################################\n",
    "# Replace \"pass\" statement with your code\n",
    "e = torch.full((2, 3, 4), 7, dtype = torch.int64)\n",
    "print('Here is e:')\n",
    "print(e)\n",
    "# END OF YOUR CODE"
   ]
  },
  {
   "cell_type": "code",
   "execution_count": 27,
   "metadata": {
    "deletable": false,
    "editable": false,
    "id": "vqrTT0sOCmaX",
    "nbgrader": {
     "cell_type": "code",
     "checksum": "dc07def2ecd7ed710a91dc81e189643a",
     "grade": true,
     "grade_id": "cell-51811caa7dcddf9f",
     "locked": true,
     "points": 2,
     "schema_version": 3,
     "solution": false,
     "task": false
    }
   },
   "outputs": [],
   "source": [
    "assert torch.is_tensor(e), 'e is a tensor'\n",
    "assert e.shape == (2, 3, 4), 'e has correct shape'\n",
    "assert (e == 7).all(), 'e is filled with sevens'"
   ]
  },
  {
   "cell_type": "markdown",
   "metadata": {
    "id": "k-7Vjzx6CmaX"
   },
   "source": [
    "Your turn: Create a 64-bit floating-point tensor of shape (6,) (six-element vector) filled with evenly-spaced values between 10 (inclusive) and 20 (inclusive).\n",
    "\n",
    "Hint: [`torch.linspace()`](https://pytorch.org/docs/1.7.0/generated/torch.linspace.html#torch.linspace)"
   ]
  },
  {
   "cell_type": "code",
   "execution_count": 28,
   "metadata": {
    "colab": {
     "base_uri": "https://localhost:8080/"
    },
    "deletable": false,
    "id": "RG2gOW9GCmaX",
    "nbgrader": {
     "cell_type": "code",
     "checksum": "410e75106483664774e2f0480111bd1b",
     "grade": false,
     "grade_id": "cell-44f41fa361f9a831",
     "locked": false,
     "schema_version": 3,
     "solution": true,
     "task": false
    },
    "outputId": "bf6209ab-6b61-4c35-9a3e-b48e3b4e8f55"
   },
   "outputs": [
    {
     "name": "stdout",
     "output_type": "stream",
     "text": [
      "Here is x:\n",
      "tensor([10., 12., 14., 16., 18., 20.], dtype=torch.float64)\n"
     ]
    }
   ],
   "source": [
    "x = None\n",
    "##############################################################################\n",
    "# TODO: Make x contain a six-element vector of 64-bit floating-bit values,   #\n",
    "# evenly spaced between 10 (inclusive) and 20 (inclusive).                   #\n",
    "##############################################################################\n",
    "# Replace \"pass\" statement with your code\n",
    "x = torch.linspace(10, 20, steps = 6, dtype = torch.float64)\n",
    "print('Here is x:')\n",
    "print(x)\n",
    "# END OF YOUR CODE"
   ]
  },
  {
   "cell_type": "code",
   "execution_count": 29,
   "metadata": {
    "deletable": false,
    "editable": false,
    "id": "Qd8oBaW1CmaY",
    "nbgrader": {
     "cell_type": "code",
     "checksum": "0863dd6e897e6f28081f16866558db8e",
     "grade": true,
     "grade_id": "cell-24ec4d9f00f65df7",
     "locked": true,
     "points": 2,
     "schema_version": 3,
     "solution": false,
     "task": false
    }
   },
   "outputs": [],
   "source": [
    "assert torch.is_tensor(x), 'x is a tensor'\n",
    "assert x.shape == (6,), 'x has correct shape'\n",
    "assert x.dtype == torch.float64, 'x has correct dtype'"
   ]
  },
  {
   "cell_type": "markdown",
   "metadata": {
    "id": "jbcktKMRCmaY"
   },
   "source": [
    "## Tensor Indexing"
   ]
  },
  {
   "cell_type": "markdown",
   "metadata": {
    "id": "L61mYkuhCmaY"
   },
   "source": [
    "We have already seen how to get and set individual elements of PyTorch tensors. PyTorch also provides many other ways of indexing into tensors. Getting comfortable with these different options will make it easy to modify different parts of tensors."
   ]
  },
  {
   "cell_type": "markdown",
   "metadata": {
    "id": "JVBKcVtiCmaY"
   },
   "source": [
    "### Slice indexing"
   ]
  },
  {
   "cell_type": "markdown",
   "metadata": {
    "id": "he6PWsLsCmaY"
   },
   "source": [
    "Similar to Python lists and NumPy arrays, PyTorch tensors can be **sliced** using the syntax `start:stop` or `start:stop:step`. The `stop` index is always non-inclusive: it is the first element not to be included in the slice.\n",
    "\n",
    "Start and stop indices can be negative, in which case they count backward from the end of the tensor:"
   ]
  },
  {
   "cell_type": "code",
   "execution_count": 30,
   "metadata": {
    "colab": {
     "base_uri": "https://localhost:8080/"
    },
    "id": "5zV4X_sfCmaY",
    "outputId": "cd35f935-1e57-47f6-f1dc-e45322de6705"
   },
   "outputs": [
    {
     "name": "stdout",
     "output_type": "stream",
     "text": [
      "0 tensor([ 0, 11, 22, 33, 44, 55, 66])\n",
      "1 tensor([22, 33, 44])\n",
      "2 tensor([22, 33, 44, 55, 66])\n",
      "3 tensor([ 0, 11, 22, 33, 44])\n",
      "4 tensor([ 0, 11, 22, 33, 44, 55, 66])\n",
      "5 tensor([11, 33])\n",
      "6 tensor([ 0, 11, 22, 33, 44, 55])\n",
      "7 tensor([33, 55])\n"
     ]
    }
   ],
   "source": [
    "a = torch.tensor([0, 11, 22, 33, 44, 55, 66])\n",
    "print(0, a)        # (0) Original tensor\n",
    "print(1, a[2:5])   # (1) Elements between index 2 and 5\n",
    "print(2, a[2:])    # (2) Elements after index 2\n",
    "print(3, a[:5])    # (3) Elements before index 5\n",
    "print(4, a[:])     # (4) All elements\n",
    "print(5, a[1:5:2]) # (5) Every second element between indices 1 and 5\n",
    "print(6, a[:-1])   # (6) All but the last element\n",
    "print(7, a[-4::2]) # (7) Every second element, starting from the fourth-last"
   ]
  },
  {
   "cell_type": "markdown",
   "metadata": {
    "id": "WwA1204lCmaZ"
   },
   "source": [
    "For multidimensional tensors, you can provide a slice or integer for each dimension of the tensor:"
   ]
  },
  {
   "cell_type": "code",
   "execution_count": 31,
   "metadata": {
    "colab": {
     "base_uri": "https://localhost:8080/"
    },
    "id": "GaKuMLWuCmaZ",
    "outputId": "a7e59092-6f15-4d74-bac6-33dcf3c09bcc"
   },
   "outputs": [
    {
     "name": "stdout",
     "output_type": "stream",
     "text": [
      "Original tensor:\n",
      "tensor([[ 1,  2,  3,  4],\n",
      "        [ 5,  6,  7,  8],\n",
      "        [ 9, 10, 11, 12]])\n",
      "shape: torch.Size([3, 4])\n",
      "\n",
      "Single row:\n",
      "tensor([5, 6, 7, 8])\n",
      "tensor([5, 6, 7, 8])\n",
      "shape: torch.Size([4])\n",
      "\n",
      "Single column:\n",
      "tensor([ 2,  6, 10])\n",
      "shape: torch.Size([3])\n",
      "\n",
      "First two rows, last two columns:\n",
      "tensor([[2, 3, 4],\n",
      "        [6, 7, 8]])\n",
      "shape: torch.Size([2, 3])\n",
      "\n",
      "Every other row, middle columns:\n",
      "tensor([[ 2,  3],\n",
      "        [10, 11]])\n",
      "shape: torch.Size([2, 2])\n"
     ]
    }
   ],
   "source": [
    "# Create the following rank 2 tensor with shape (3, 4)\n",
    "# [[ 1  2  3  4]\n",
    "#  [ 5  6  7  8]\n",
    "#  [ 9 10 11 12]]\n",
    "a = torch.tensor([[1,2,3,4], [5,6,7,8], [9,10,11,12]])\n",
    "print('Original tensor:')\n",
    "print(a)\n",
    "print('shape:', a.shape)\n",
    "\n",
    "# Get row 1, and all columns. \n",
    "print('\\nSingle row:')\n",
    "print(a[1, :])\n",
    "print(a[1])  # Gives the same result; we can omit : for trailing dimensions\n",
    "print('shape:', a[1].shape)\n",
    "\n",
    "print('\\nSingle column:')\n",
    "print(a[:, 1])\n",
    "print('shape:', a[:, 1].shape)\n",
    "\n",
    "# Get the first two rows and the last three columns\n",
    "print('\\nFirst two rows, last two columns:')\n",
    "print(a[:2, -3:])\n",
    "print('shape:', a[:2, -3:].shape)\n",
    "\n",
    "# Get every other row, and columns at index 1 and 2\n",
    "print('\\nEvery other row, middle columns:')\n",
    "print(a[::2, 1:3])\n",
    "print('shape:', a[::2, 1:3].shape)"
   ]
  },
  {
   "cell_type": "markdown",
   "metadata": {
    "id": "nSdGPiFvCmaZ"
   },
   "source": [
    "There are two common ways to access a single row or column of a tensor: using an integer will reduce the rank by one, and using a length-one slice will keep the rank unchanged:"
   ]
  },
  {
   "cell_type": "code",
   "execution_count": 32,
   "metadata": {
    "colab": {
     "base_uri": "https://localhost:8080/"
    },
    "id": "VnS_9X-fCmaZ",
    "outputId": "0951fbab-b0f4-4ccb-a4e5-d5e6f7fb7340"
   },
   "outputs": [
    {
     "name": "stdout",
     "output_type": "stream",
     "text": [
      "Original tensor\n",
      "tensor([[ 1,  2,  3,  4],\n",
      "        [ 5,  6,  7,  8],\n",
      "        [ 9, 10, 11, 12]])\n",
      "\n",
      "Two ways of accessing a single row:\n",
      "tensor([5, 6, 7, 8]) torch.Size([4])\n",
      "tensor([[5, 6, 7, 8]]) torch.Size([1, 4])\n",
      "\n",
      "Two ways of accessing a single column:\n",
      "tensor([ 2,  6, 10]) torch.Size([3])\n",
      "tensor([[ 2],\n",
      "        [ 6],\n",
      "        [10]]) torch.Size([3, 1])\n"
     ]
    }
   ],
   "source": [
    "# Create the following rank 2 tensor with shape (3, 4)\n",
    "a = torch.tensor([[1,2,3,4], [5,6,7,8], [9,10,11,12]])\n",
    "print('Original tensor')\n",
    "print(a)\n",
    "\n",
    "row_r1 = a[1, :]    # Rank 1 view of the second row of a  \n",
    "row_r2 = a[1:2, :]  # Rank 2 view of the second row of a\n",
    "print('\\nTwo ways of accessing a single row:')\n",
    "print(row_r1, row_r1.shape)\n",
    "print(row_r2, row_r2.shape)\n",
    "\n",
    "# We can make the same distinction when accessing columns\n",
    "col_r1 = a[:, 1]\n",
    "col_r2 = a[:, 1:2]\n",
    "print('\\nTwo ways of accessing a single column:')\n",
    "print(col_r1, col_r1.shape)\n",
    "print(col_r2, col_r2.shape)"
   ]
  },
  {
   "cell_type": "markdown",
   "metadata": {
    "id": "13qKLYp9CmaZ"
   },
   "source": [
    "Slicing a tensor returns a **view** into the same data, so modifying it will also modify the original tensor. To avoid this, you can use the [`.clone()`](https://pytorch.org/docs/1.7.0/generated/torch.clone.html#torch.clone) method to make a copy of the tensor:"
   ]
  },
  {
   "cell_type": "code",
   "execution_count": 33,
   "metadata": {
    "colab": {
     "base_uri": "https://localhost:8080/"
    },
    "id": "ZQOwITCDCmaa",
    "outputId": "e7af4f23-d188-4c93-8581-c8a773a6887d"
   },
   "outputs": [
    {
     "name": "stdout",
     "output_type": "stream",
     "text": [
      "Before mutating:\n",
      "tensor([[1, 2, 3, 4],\n",
      "        [5, 6, 7, 8]])\n",
      "tensor([2, 3, 4])\n",
      "tensor([2, 3, 4])\n",
      "\n",
      "After mutating:\n",
      "tensor([[ 1, 20, 30,  4],\n",
      "        [ 5,  6,  7,  8]])\n",
      "tensor([20, 30,  4])\n",
      "tensor([ 2,  3, 40])\n",
      "False\n"
     ]
    }
   ],
   "source": [
    "# Create a tensor, a slice, and a clone of a slice\n",
    "a = torch.tensor([[1, 2, 3, 4], [5, 6, 7, 8]])\n",
    "b = a[0, 1:]\n",
    "c = a[0, 1:].clone()\n",
    "print('Before mutating:')\n",
    "print(a)\n",
    "print(b)\n",
    "print(c)\n",
    "\n",
    "a[0, 1] = 20  # a[0, 1] and b[0] point to the same element\n",
    "b[1] = 30     # b[1] and a[0, 2] point to the same element\n",
    "c[2] = 40     # c is a clone, so it has its own data\n",
    "print('\\nAfter mutating:')\n",
    "print(a)\n",
    "print(b)\n",
    "print(c)\n",
    "\n",
    "print(a.storage().data_ptr() == c.storage().data_ptr())"
   ]
  },
  {
   "cell_type": "markdown",
   "metadata": {
    "id": "YO28Jq2DCmaa"
   },
   "source": [
    "Your turn: Practice indexing tensors with slices."
   ]
  },
  {
   "cell_type": "code",
   "execution_count": 34,
   "metadata": {
    "deletable": false,
    "editable": false,
    "id": "IpKk1LNgCmaa",
    "nbgrader": {
     "cell_type": "code",
     "checksum": "989366faf17ff91cc7cabb07036e530c",
     "grade": false,
     "grade_id": "cell-035dd96ffb926894",
     "locked": true,
     "schema_version": 3,
     "solution": false,
     "task": false
    }
   },
   "outputs": [],
   "source": [
    "# We will use this helper function to check your results\n",
    "def check(orig, actual, expected):\n",
    "  expected = torch.tensor(expected)\n",
    "  same_elements = (actual == expected).all()\n",
    "  same_storage = (orig.storage().data_ptr() == actual.storage().data_ptr())\n",
    "  return same_elements and same_storage"
   ]
  },
  {
   "cell_type": "code",
   "execution_count": 35,
   "metadata": {
    "deletable": false,
    "editable": false,
    "id": "CkAIOe8vCmaa",
    "nbgrader": {
     "cell_type": "code",
     "checksum": "146670c42e1c829404bf193e97abf624",
     "grade": false,
     "grade_id": "cell-2ebd5fe4e47a3904",
     "locked": true,
     "schema_version": 3,
     "solution": false,
     "task": false
    }
   },
   "outputs": [],
   "source": [
    "# Create the following rank 2 tensor of shape (3, 5)\n",
    "# [[ 1  2  3  4  5]\n",
    "#  [ 6  7  8  9 10]\n",
    "#  [11 12 13 14 15]]\n",
    "a = torch.tensor([[1, 2, 3, 4, 5], [6, 7, 8, 9, 10], [11, 12, 13, 14, 15]])\n",
    "\n",
    "b, c, d, e = None, None, None, None"
   ]
  },
  {
   "cell_type": "code",
   "execution_count": 37,
   "metadata": {
    "colab": {
     "base_uri": "https://localhost:8080/"
    },
    "deletable": false,
    "id": "ReP27s5ECmaa",
    "nbgrader": {
     "cell_type": "code",
     "checksum": "905ab136d9f72861af24a3fdd4811225",
     "grade": false,
     "grade_id": "cell-174969e75b59f9af",
     "locked": false,
     "schema_version": 3,
     "solution": true,
     "task": false
    },
    "outputId": "f8dcf30e-f2a7-4df4-dd31-6a397c466113"
   },
   "outputs": [
    {
     "name": "stdout",
     "output_type": "stream",
     "text": [
      "tensor([11, 12, 13, 14, 15])\n"
     ]
    }
   ],
   "source": [
    "##############################################################################\n",
    "# TODO: Extract the last row of a, and store it in b; it should have rank 1. #\n",
    "##############################################################################\n",
    "# Replace \"pass\" statement with your code\n",
    "b = a[-1, :]\n",
    "print(b)\n",
    "# END OF YOUR CODE"
   ]
  },
  {
   "cell_type": "code",
   "execution_count": 38,
   "metadata": {
    "deletable": false,
    "editable": false,
    "id": "Y6RREZ1fCmab",
    "nbgrader": {
     "cell_type": "code",
     "checksum": "226d4ea387230fd05271fc0119ace1bf",
     "grade": true,
     "grade_id": "cell-50a8481ff97fac5a",
     "locked": true,
     "points": 1,
     "schema_version": 3,
     "solution": false,
     "task": false
    }
   },
   "outputs": [],
   "source": [
    "assert check(a, b, [11, 12, 13, 14, 15]), 'b correct'"
   ]
  },
  {
   "cell_type": "code",
   "execution_count": 41,
   "metadata": {
    "colab": {
     "base_uri": "https://localhost:8080/"
    },
    "deletable": false,
    "id": "vVOspVaFCmab",
    "nbgrader": {
     "cell_type": "code",
     "checksum": "99c13fcc33d9e5b854f4f662c4ea7ba6",
     "grade": false,
     "grade_id": "cell-c4873e3813ef19d3",
     "locked": false,
     "schema_version": 3,
     "solution": true,
     "task": false
    },
    "outputId": "7c19593c-d6d0-44b8-e422-9fb07642dbf0"
   },
   "outputs": [
    {
     "name": "stdout",
     "output_type": "stream",
     "text": [
      "tensor([[ 3],\n",
      "        [ 8],\n",
      "        [13]])\n"
     ]
    }
   ],
   "source": [
    "##############################################################################\n",
    "# TODO: Extract the third col of a, and store it in c; it should have rank 2 #\n",
    "##############################################################################\n",
    "# Replace \"pass\" statement with your code\n",
    "c = a[:, 2:3]\n",
    "print(c)\n",
    "# END OF YOUR CODE"
   ]
  },
  {
   "cell_type": "code",
   "execution_count": 42,
   "metadata": {
    "deletable": false,
    "editable": false,
    "id": "djCdH00ICmab",
    "nbgrader": {
     "cell_type": "code",
     "checksum": "c7a05eeedcbbcf8a86154991c8e3b6c2",
     "grade": true,
     "grade_id": "cell-abf0fb4fcc6c8b2e",
     "locked": true,
     "points": 2,
     "schema_version": 3,
     "solution": false,
     "task": false
    }
   },
   "outputs": [],
   "source": [
    "assert check(a, c, [[3], [8], [13]]), 'c correct'"
   ]
  },
  {
   "cell_type": "code",
   "execution_count": 43,
   "metadata": {
    "colab": {
     "base_uri": "https://localhost:8080/"
    },
    "deletable": false,
    "id": "DogI8WVVCmab",
    "nbgrader": {
     "cell_type": "code",
     "checksum": "86cb693c9eb656c741c914c04dd8c233",
     "grade": false,
     "grade_id": "cell-6617d8049e6c1017",
     "locked": false,
     "schema_version": 3,
     "solution": true,
     "task": false
    },
    "outputId": "97b85992-eeaa-4280-cd6e-469e5eb419a4"
   },
   "outputs": [
    {
     "name": "stdout",
     "output_type": "stream",
     "text": [
      "tensor([[1, 2, 3],\n",
      "        [6, 7, 8]])\n"
     ]
    }
   ],
   "source": [
    "##############################################################################\n",
    "# TODO: Use slicing to extract the first two rows and first three columns    #\n",
    "# from a; store the result into d.                                           #\n",
    "##############################################################################\n",
    "# Replace \"pass\" statement with your code\n",
    "d = a[:2, :3]\n",
    "print(d)\n",
    "# END OF YOUR CODE"
   ]
  },
  {
   "cell_type": "code",
   "execution_count": 44,
   "metadata": {
    "deletable": false,
    "editable": false,
    "id": "psR4ByOhCmab",
    "nbgrader": {
     "cell_type": "code",
     "checksum": "9ea496ba120f54665aac938f131f8ff0",
     "grade": true,
     "grade_id": "cell-f9acdb37254c7c48",
     "locked": true,
     "points": 1,
     "schema_version": 3,
     "solution": false,
     "task": false
    }
   },
   "outputs": [],
   "source": [
    "assert check(a, d, [[1, 2, 3], [6, 7, 8]]), 'd correct'"
   ]
  },
  {
   "cell_type": "code",
   "execution_count": 45,
   "metadata": {
    "colab": {
     "base_uri": "https://localhost:8080/"
    },
    "deletable": false,
    "id": "IO42aR_ICmac",
    "nbgrader": {
     "cell_type": "code",
     "checksum": "5019c4992ea29c54f1845b318b5b85d9",
     "grade": false,
     "grade_id": "cell-8112f5ed7a56dc4f",
     "locked": false,
     "schema_version": 3,
     "solution": true,
     "task": false
    },
    "outputId": "617e9107-2c14-4513-f3f9-88a84f5fe29f"
   },
   "outputs": [
    {
     "name": "stdout",
     "output_type": "stream",
     "text": [
      "tensor([[ 2,  5],\n",
      "        [12, 15]])\n"
     ]
    }
   ],
   "source": [
    "##############################################################################\n",
    "# TODO: Use slicing to extract a subtensor of a consisting of rows with      #\n",
    "# index 0 and 2 and columns with index 1 and 4; store the result into e.     #\n",
    "#                                                                            #\n",
    "# HINT: Get every other row and every 3rd column starting with index 1.      #\n",
    "# If you get the right solution, but check() returns False, this means       #\n",
    "# your solution is copying values (instead of pointing to the original       #\n",
    "# values), which we do not want here.                                        #\n",
    "##############################################################################\n",
    "# Replace \"pass\" statement with your code\n",
    "e = a[::2, 1::3]\n",
    "print(e)\n",
    "# END OF YOUR CODE"
   ]
  },
  {
   "cell_type": "code",
   "execution_count": 46,
   "metadata": {
    "deletable": false,
    "editable": false,
    "id": "Fo-mViCvCmac",
    "nbgrader": {
     "cell_type": "code",
     "checksum": "a3be5865ec6cdf9a0799020c12b177b0",
     "grade": true,
     "grade_id": "cell-b5ddde197ff37b6e",
     "locked": true,
     "points": 2,
     "schema_version": 3,
     "solution": false,
     "task": false
    }
   },
   "outputs": [],
   "source": [
    "assert check(a, e, [[2, 5], [12, 15]]), 'e correct'"
   ]
  },
  {
   "cell_type": "markdown",
   "metadata": {
    "id": "RYBu5B_aCmac"
   },
   "source": [
    "So far we have used slicing to **access** subtensors; we can also use slicing to **modify** subtensors by writing assignment expressions where the left-hand side is a slice expression, and the right-hand side is a constant or a tensor of the correct shape:"
   ]
  },
  {
   "cell_type": "code",
   "execution_count": 47,
   "metadata": {
    "colab": {
     "base_uri": "https://localhost:8080/"
    },
    "id": "HwkFWnGECmac",
    "outputId": "7137efc3-6a86-4a40-bb8e-21d7f9985d45"
   },
   "outputs": [
    {
     "name": "stdout",
     "output_type": "stream",
     "text": [
      "tensor([[1, 1, 2, 3],\n",
      "        [1, 1, 4, 5]])\n"
     ]
    }
   ],
   "source": [
    "f = torch.zeros(2, 4, dtype=torch.int64)\n",
    "f[:, :2] = 1\n",
    "f[:, 2:] = torch.tensor([[2, 3], [4, 5]])\n",
    "print(f)"
   ]
  },
  {
   "cell_type": "markdown",
   "metadata": {
    "id": "nrz6KHbwCmac"
   },
   "source": [
    "Your turn: Use slicing to modify a tensor."
   ]
  },
  {
   "cell_type": "code",
   "execution_count": 48,
   "metadata": {
    "deletable": false,
    "editable": false,
    "id": "UXorO-fZCmac",
    "nbgrader": {
     "cell_type": "code",
     "checksum": "329ec131c6caa77d8fa7b36b13700bc4",
     "grade": false,
     "grade_id": "cell-a22cae45c0bf060c",
     "locked": true,
     "schema_version": 3,
     "solution": false,
     "task": false
    }
   },
   "outputs": [],
   "source": [
    "x = torch.zeros(4, 6, dtype=torch.int64)"
   ]
  },
  {
   "cell_type": "code",
   "execution_count": 49,
   "metadata": {
    "deletable": false,
    "id": "C6uFw4ChCmad",
    "nbgrader": {
     "cell_type": "code",
     "checksum": "2424d28c0df5aff6c920f30602f4b2bd",
     "grade": false,
     "grade_id": "cell-063a7e7249049008",
     "locked": false,
     "schema_version": 3,
     "solution": true,
     "task": false
    }
   },
   "outputs": [],
   "source": [
    "def modify(x):\n",
    "  ##############################################################################\n",
    "  # TODO: Use slicing to modify the tensor x so it has the following contents: #\n",
    "  #     [[1, 0, 2, 2, 2, 2],                                                   #\n",
    "  #      [0, 1, 2, 2, 2, 2],                                                   #\n",
    "  #      [3, 4, 3, 4, 5, 5],                                                   #\n",
    "  #      [3, 4, 3, 4, 5, 5]]                                                   #\n",
    "  # This can be achieved using 5 slicing assignment operations (next section   #\n",
    "  # may be helpful), but you will still get full credit if you use more than 5.#\n",
    "  ##############################################################################\n",
    "  # Replace \"pass\" statement with your code\n",
    "  x[:2, :2] = torch.eye(2)\n",
    "  x[:2, 2:] = 2\n",
    "  x[2:, 0:3:2] = 3\n",
    "  x[2:, 1:4:2] = 4\n",
    "  x[2:, -2:] = 5\n",
    "  # END OF YOUR CODE\n",
    "  return x"
   ]
  },
  {
   "cell_type": "code",
   "execution_count": 50,
   "metadata": {
    "deletable": false,
    "editable": false,
    "id": "mSsonZNbCmad",
    "nbgrader": {
     "cell_type": "code",
     "checksum": "413837f0a5a14fbe9144adcd88ad86c3",
     "grade": true,
     "grade_id": "cell-9d104042deb91720",
     "locked": true,
     "points": 3,
     "schema_version": 3,
     "solution": false,
     "task": false
    }
   },
   "outputs": [],
   "source": [
    "expected = [\n",
    "    [1, 0, 2, 2, 2, 2],\n",
    "    [0, 1, 2, 2, 2, 2],\n",
    "    [3, 4, 3, 4, 5, 5],\n",
    "    [3, 4, 3, 4, 5, 5],\n",
    "]\n",
    "y = modify(x)\n",
    "assert check(x, y, expected), 'slicing correct'"
   ]
  },
  {
   "cell_type": "markdown",
   "metadata": {
    "id": "_4mJRIQrCmad"
   },
   "source": [
    "### Integer array indexing"
   ]
  },
  {
   "cell_type": "markdown",
   "metadata": {
    "id": "9b4Uu1euCmad"
   },
   "source": [
    "When you index into a PyTorch tensor using slicing, the resulting tensor view will always be a subarray of the original tensor. This is powerful, but can be restrictive.\n",
    "\n",
    "We can also use **index arrays** to index tensors; this lets us construct new tensors with a lot more flexibility than using slices.\n",
    "\n",
    "As an example, we can use index arrays to reorder the rows or columns of a tensor:"
   ]
  },
  {
   "cell_type": "code",
   "execution_count": 51,
   "metadata": {
    "colab": {
     "base_uri": "https://localhost:8080/"
    },
    "id": "2N_smXptCmad",
    "outputId": "e604c7b1-d130-46f3-93ea-f4d338184a0c"
   },
   "outputs": [
    {
     "name": "stdout",
     "output_type": "stream",
     "text": [
      "Original tensor:\n",
      "tensor([[ 1,  2,  3,  4],\n",
      "        [ 5,  6,  7,  8],\n",
      "        [ 9, 10, 11, 12]])\n",
      "\n",
      "Reordered rows:\n",
      "tensor([[ 1,  2,  3,  4],\n",
      "        [ 1,  2,  3,  4],\n",
      "        [ 9, 10, 11, 12],\n",
      "        [ 5,  6,  7,  8],\n",
      "        [ 5,  6,  7,  8]])\n",
      "\n",
      "Reordered columns:\n",
      "tensor([[ 4,  3,  2,  1],\n",
      "        [ 8,  7,  6,  5],\n",
      "        [12, 11, 10,  9]])\n"
     ]
    }
   ],
   "source": [
    "# Create the following rank 2 tensor with shape (3, 4)\n",
    "# [[ 1  2  3  4]\n",
    "#  [ 5  6  7  8]\n",
    "#  [ 9 10 11 12]]\n",
    "a = torch.tensor([[1, 2, 3, 4], [5, 6, 7, 8], [9, 10, 11, 12]])\n",
    "print('Original tensor:')\n",
    "print(a)\n",
    "\n",
    "# Create a new tensor of shape (5, 4) by reordering rows from a:\n",
    "# - First two rows are the same as the first row of a\n",
    "# - Third row is the same as the last row of a\n",
    "# - Fourth and fifth rows are the same as the second row of a\n",
    "idx = [0, 0, 2, 1, 1]  # index arrays can be Python lists of integers\n",
    "print('\\nReordered rows:')\n",
    "print(a[idx])\n",
    "\n",
    "# Create a new tensor of shape (3, 4) by reversing the columns from a\n",
    "idx = torch.tensor([3, 2, 1, 0])  # Index arrays can be int64 torch tensors\n",
    "print('\\nReordered columns:')\n",
    "print(a[:, idx])"
   ]
  },
  {
   "cell_type": "markdown",
   "metadata": {
    "id": "5XUMnsn_Cmad"
   },
   "source": [
    "More generally, given index arrays `idx0` and `idx1` with `N` elements each, `a[idx0, idx1]` is equivalent to:\n",
    "\n",
    "```\n",
    "torch.tensor([\n",
    "  a[idx0[0], idx1[0]],\n",
    "  a[idx0[1], idx1[1]],\n",
    "  ...,\n",
    "  a[idx0[N - 1], idx1[N - 1]],\n",
    "])\n",
    "```\n",
    "\n",
    "(A similar pattern extends to tensors with more than two dimensions)\n",
    "\n",
    "We can for example use this to get or set the diagonal of a tensor:"
   ]
  },
  {
   "cell_type": "code",
   "execution_count": 52,
   "metadata": {
    "colab": {
     "base_uri": "https://localhost:8080/"
    },
    "id": "ale1UF0uCmad",
    "outputId": "ae952f21-6053-49dc-e234-dfaaca027e96"
   },
   "outputs": [
    {
     "name": "stdout",
     "output_type": "stream",
     "text": [
      "Original tensor:\n",
      "tensor([[1, 2, 3],\n",
      "        [4, 5, 6],\n",
      "        [7, 8, 9]])\n",
      "\n",
      "Get the diagonal:\n",
      "tensor([1, 5, 9])\n",
      "\n",
      "After setting the diagonal:\n",
      "tensor([[11,  2,  3],\n",
      "        [ 4, 22,  6],\n",
      "        [ 7,  8, 33]])\n"
     ]
    }
   ],
   "source": [
    "a = torch.tensor([[1, 2, 3], [4, 5, 6], [7, 8, 9]])\n",
    "print('Original tensor:')\n",
    "print(a)\n",
    "\n",
    "idx = [0, 1, 2]\n",
    "print('\\nGet the diagonal:')\n",
    "print(a[idx, idx])\n",
    "\n",
    "# Modify the diagonal\n",
    "a[idx, idx] = torch.tensor([11, 22, 33])\n",
    "print('\\nAfter setting the diagonal:')\n",
    "print(a)"
   ]
  },
  {
   "cell_type": "markdown",
   "metadata": {
    "id": "RUeRVpDvCmae"
   },
   "source": [
    "One useful trick with integer array indexing is selecting or mutating one element from each row or column of a matrix:"
   ]
  },
  {
   "cell_type": "code",
   "execution_count": 53,
   "metadata": {
    "colab": {
     "base_uri": "https://localhost:8080/"
    },
    "id": "54UQYnOhCmae",
    "outputId": "bb62b18d-2037-4a5d-d3e6-8eaccc534992"
   },
   "outputs": [
    {
     "name": "stdout",
     "output_type": "stream",
     "text": [
      "Original tensor:\n",
      "tensor([[ 1,  2,  3],\n",
      "        [ 4,  5,  6],\n",
      "        [ 7,  8,  9],\n",
      "        [10, 11, 12]])\n",
      "\n",
      "Select one element from each row:\n",
      "tensor([ 2,  6,  8, 10])\n",
      "\n",
      "After modifying one element from each row:\n",
      "tensor([[ 1,  0,  3],\n",
      "        [ 4,  5,  0],\n",
      "        [ 7,  0,  9],\n",
      "        [ 0, 11, 12]])\n"
     ]
    }
   ],
   "source": [
    "# Create a new tensor from which we will select elements\n",
    "a = torch.tensor([[1, 2, 3], [4, 5, 6], [7, 8, 9], [10, 11, 12]])\n",
    "print('Original tensor:')\n",
    "print(a)\n",
    "\n",
    "# Take one element from each row of a:\n",
    "# from row 0, take element 1;\n",
    "# from row 1, take element 2;\n",
    "# from row 2, take element 1;\n",
    "# from row 3, take element 0\n",
    "idx0 = torch.arange(a.shape[0])  # Quick way to build [0, 1, 2, 3]\n",
    "idx1 = torch.tensor([1, 2, 1, 0])\n",
    "print('\\nSelect one element from each row:')\n",
    "print(a[idx0, idx1])\n",
    "\n",
    "# Now set each of those elements to zero\n",
    "a[idx0, idx1] = 0\n",
    "print('\\nAfter modifying one element from each row:')\n",
    "print(a)"
   ]
  },
  {
   "cell_type": "markdown",
   "metadata": {
    "id": "Wx_dvDCqCmae"
   },
   "source": [
    "Your turn: Practice with integer array indexing."
   ]
  },
  {
   "cell_type": "code",
   "execution_count": 54,
   "metadata": {
    "colab": {
     "base_uri": "https://localhost:8080/"
    },
    "deletable": false,
    "editable": false,
    "id": "K8RXkrIICmae",
    "nbgrader": {
     "cell_type": "code",
     "checksum": "6ff18efd373172f0c029c5110540434a",
     "grade": false,
     "grade_id": "cell-4ab62b9c63438f9e",
     "locked": true,
     "schema_version": 3,
     "solution": false,
     "task": false
    },
    "outputId": "1db1673d-af74-4f77-d8f5-80e0596ccf89"
   },
   "outputs": [
    {
     "name": "stdout",
     "output_type": "stream",
     "text": [
      "Here is a:\n",
      "tensor([[ 1,  2,  3],\n",
      "        [ 4,  5,  6],\n",
      "        [ 7,  8,  9],\n",
      "        [10, 11, 12]])\n"
     ]
    }
   ],
   "source": [
    "# Build a tensor of shape (4, 3):\n",
    "# [[ 1,  2,  3],\n",
    "#  [ 4,  5,  6],\n",
    "#  [ 7,  8,  9],\n",
    "#  [10, 11, 12]]\n",
    "a = torch.tensor([[1, 2, 3], [4, 5, 6], [7, 8, 9], [10, 11, 12]])\n",
    "print('Here is a:')\n",
    "print(a)\n",
    "\n",
    "b, c, d = None, None, None"
   ]
  },
  {
   "cell_type": "code",
   "execution_count": 56,
   "metadata": {
    "deletable": false,
    "id": "6-dCAyNJCmae",
    "nbgrader": {
     "cell_type": "code",
     "checksum": "5e9b4d5f0aaca56aa422b585fbd20c5e",
     "grade": false,
     "grade_id": "cell-c2a944a777948f15",
     "locked": false,
     "schema_version": 3,
     "solution": true,
     "task": false
    }
   },
   "outputs": [],
   "source": [
    "##############################################################################\n",
    "# TODO: Use integer array indexing to create a tensor of shape (4, 4) where: #\n",
    "# - The first two columns are the same as the first column of a.             #\n",
    "# - The next column is the same as the third column of a.                    #\n",
    "# - The last column is the same as the second column of a.                   #\n",
    "# Store the resulting tensor in b.                                           #\n",
    "##############################################################################\n",
    "# Replace \"pass\" statement with your code\n",
    "b = a[:, [0, 0, 2, 1]]\n",
    "# END OF YOUR CODE"
   ]
  },
  {
   "cell_type": "code",
   "execution_count": 57,
   "metadata": {
    "colab": {
     "base_uri": "https://localhost:8080/"
    },
    "deletable": false,
    "editable": false,
    "id": "-BOiOSmPCmae",
    "nbgrader": {
     "cell_type": "code",
     "checksum": "e9f44d6778f920ac2993866e86ba036b",
     "grade": true,
     "grade_id": "cell-8cfcc158ce381e2c",
     "locked": true,
     "points": 2,
     "schema_version": 3,
     "solution": false,
     "task": false
    },
    "outputId": "5acd3207-7ff1-4624-d6b9-6397b3808264"
   },
   "outputs": [
    {
     "name": "stdout",
     "output_type": "stream",
     "text": [
      "Here is b:\n",
      "tensor([[ 1,  1,  3,  2],\n",
      "        [ 4,  4,  6,  5],\n",
      "        [ 7,  7,  9,  8],\n",
      "        [10, 10, 12, 11]])\n"
     ]
    }
   ],
   "source": [
    "print('Here is b:')\n",
    "print(b)"
   ]
  },
  {
   "cell_type": "code",
   "execution_count": 58,
   "metadata": {
    "deletable": false,
    "id": "P7eLdk-yCmae",
    "nbgrader": {
     "cell_type": "code",
     "checksum": "afcfe32e662cfd8c41c0e06b722f6b5b",
     "grade": false,
     "grade_id": "cell-4685c7e726f5746e",
     "locked": false,
     "schema_version": 3,
     "solution": true,
     "task": false
    }
   },
   "outputs": [],
   "source": [
    "##############################################################################\n",
    "# TODO: Use integer array indexing to create a new tensor which is the same  #\n",
    "# as a, but has its rows reversed. Store the result in c.                    #\n",
    "##############################################################################\n",
    "# Replace \"pass\" statement with your code\n",
    "c = a[[3, 2, 1, 0]]\n",
    "# END OF YOUR CODE"
   ]
  },
  {
   "cell_type": "code",
   "execution_count": 59,
   "metadata": {
    "colab": {
     "base_uri": "https://localhost:8080/"
    },
    "deletable": false,
    "editable": false,
    "id": "qJN_nye2Cmaf",
    "nbgrader": {
     "cell_type": "code",
     "checksum": "16894819feb32429a72ef49948c8966c",
     "grade": true,
     "grade_id": "cell-328444f47e252f32",
     "locked": true,
     "points": 2,
     "schema_version": 3,
     "solution": false,
     "task": false
    },
    "outputId": "ccca90c1-d3a7-4a35-b8b8-7f767225d09f"
   },
   "outputs": [
    {
     "name": "stdout",
     "output_type": "stream",
     "text": [
      "Here is c:\n",
      "tensor([[10, 11, 12],\n",
      "        [ 7,  8,  9],\n",
      "        [ 4,  5,  6],\n",
      "        [ 1,  2,  3]])\n"
     ]
    }
   ],
   "source": [
    "print('Here is c:')\n",
    "print(c)"
   ]
  },
  {
   "cell_type": "code",
   "execution_count": 60,
   "metadata": {
    "deletable": false,
    "id": "PfOJYja4Cmaf",
    "nbgrader": {
     "cell_type": "code",
     "checksum": "2b8c84fd5bfe55eb682172c9a9a9016c",
     "grade": false,
     "grade_id": "cell-b80caabfaf608e19",
     "locked": false,
     "schema_version": 3,
     "solution": true,
     "task": false
    }
   },
   "outputs": [],
   "source": [
    "##############################################################################\n",
    "# TODO: Use integer array indexing to create a new tensor by selecting one   #\n",
    "# element from each column of a:                                             #\n",
    "# - From the first column, take the second element.                          #\n",
    "# - From the second column, take the first element.                          #\n",
    "# - From the third column, take the fourth element.                          #\n",
    "# Store the result in d.                                                     #\n",
    "##############################################################################\n",
    "# Replace \"pass\" statement with your code\n",
    "d = a[[1, 0, 3], [0, 1, 2]]\n",
    "# END OF YOUR CODE"
   ]
  },
  {
   "cell_type": "code",
   "execution_count": 61,
   "metadata": {
    "colab": {
     "base_uri": "https://localhost:8080/"
    },
    "deletable": false,
    "editable": false,
    "id": "E1Q03tFzCmaf",
    "nbgrader": {
     "cell_type": "code",
     "checksum": "d9844188829138a02a86ce294686f994",
     "grade": true,
     "grade_id": "cell-21d156dbd820a7b9",
     "locked": true,
     "points": 2,
     "schema_version": 3,
     "solution": false,
     "task": false
    },
    "outputId": "b1aee9b7-8b83-414d-c042-ef6428f1b6a6"
   },
   "outputs": [
    {
     "name": "stdout",
     "output_type": "stream",
     "text": [
      "Here is d:\n",
      "tensor([ 4,  2, 12])\n"
     ]
    }
   ],
   "source": [
    "print('Here is d:')\n",
    "print(d)"
   ]
  },
  {
   "cell_type": "markdown",
   "metadata": {
    "id": "tPjQY8bACmaf"
   },
   "source": [
    "### Boolean mask indexing"
   ]
  },
  {
   "cell_type": "markdown",
   "metadata": {
    "id": "kdKw4jovCmaf"
   },
   "source": [
    "Boolean mask indexing lets you pick out arbitrary elements of a tensor according to a boolean mask. Frequently this type of indexing is used to select or modify the elements of a tensor that satisfy some condition:\n"
   ]
  },
  {
   "cell_type": "code",
   "execution_count": 62,
   "metadata": {
    "colab": {
     "base_uri": "https://localhost:8080/"
    },
    "id": "IGfEUDRmCmaf",
    "outputId": "23eed08f-78e6-4281-de2b-9ac3e8d34a5a"
   },
   "outputs": [
    {
     "name": "stdout",
     "output_type": "stream",
     "text": [
      "Original tensor:\n",
      "tensor([[1, 2],\n",
      "        [3, 4],\n",
      "        [5, 6]])\n",
      "\n",
      "Mask tensor:\n",
      "tensor([[False, False],\n",
      "        [False,  True],\n",
      "        [ True,  True]])\n",
      "\n",
      "Selecting elements with the mask:\n",
      "tensor([4, 5, 6])\n",
      "\n",
      "After modifying with a mask:\n",
      "tensor([[0, 0],\n",
      "        [0, 4],\n",
      "        [5, 6]])\n"
     ]
    }
   ],
   "source": [
    "a = torch.tensor([[1, 2], [3, 4], [5, 6]])\n",
    "print('Original tensor:')\n",
    "print(a)\n",
    "\n",
    "# Find the elements of a that are bigger than 3. The mask has the same shape as\n",
    "# a, where each element of the mask tells whether the corresponding element of a\n",
    "# is greater than 3.\n",
    "mask = (a > 3)\n",
    "print('\\nMask tensor:')\n",
    "print(mask)\n",
    "\n",
    "# We can use the mask to construct a rank-1 tensor containing the elements of a\n",
    "# that are selected by the mask\n",
    "print('\\nSelecting elements with the mask:')\n",
    "print(a[mask])\n",
    "\n",
    "# We can also use boolean masks to modify tensors; for example this sets all\n",
    "# elements <= 3 to zero:\n",
    "a[a <= 3] = 0\n",
    "print('\\nAfter modifying with a mask:')\n",
    "print(a)"
   ]
  },
  {
   "cell_type": "markdown",
   "metadata": {
    "id": "f3KoyFUzCmag"
   },
   "source": [
    "Your turn: Practice with boolean masks by implementing the following function."
   ]
  },
  {
   "cell_type": "code",
   "execution_count": 73,
   "metadata": {
    "deletable": false,
    "id": "rdZYPGHPCmag",
    "nbgrader": {
     "cell_type": "code",
     "checksum": "6c53d7dddbe776422e9c582d3b412a73",
     "grade": false,
     "grade_id": "cell-0a58e1e2261de3d1",
     "locked": false,
     "schema_version": 3,
     "solution": true,
     "task": false
    }
   },
   "outputs": [],
   "source": [
    "def num_negative(x):\n",
    "  \"\"\"\n",
    "  Return the number of negative values in the tensor x.\n",
    "\n",
    "  Inputs:\n",
    "  - x: A tensor of any shape.\n",
    "\n",
    "  Returns:\n",
    "  - num_neg: Number of negative values in x.\n",
    "  \"\"\"\n",
    "  num_neg = 0\n",
    "  ##############################################################################\n",
    "  # TODO: Use boolean masks to count the number of negative elements in x.     #\n",
    "  ##############################################################################\n",
    "  # Replace \"pass\" statement with your code\n",
    "  num_neg = list((x[x < 0]).shape)[0]\n",
    "  # END OF YOUR CODE\n",
    "  return num_neg"
   ]
  },
  {
   "cell_type": "code",
   "execution_count": 74,
   "metadata": {
    "deletable": false,
    "editable": false,
    "id": "5ZXWySuhCmag",
    "nbgrader": {
     "cell_type": "code",
     "checksum": "04627644899d14528dc3506e1d65e399",
     "grade": true,
     "grade_id": "cell-c256897fe7ba89af",
     "locked": true,
     "points": 3,
     "schema_version": 3,
     "solution": false,
     "task": false
    }
   },
   "outputs": [],
   "source": [
    "# Make a few test cases\n",
    "torch.manual_seed(536)\n",
    "x0 = torch.tensor([[-1, -1, 0], [0, 1, 2], [3, 4, 5]])\n",
    "x1 = torch.tensor([0, 1, 2, 3])\n",
    "x2 = torch.randn(100, 100)\n",
    "assert num_negative(x0) == 2\n",
    "assert num_negative(x1) == 0\n",
    "assert num_negative(x2) == 4955"
   ]
  },
  {
   "cell_type": "markdown",
   "metadata": {
    "id": "XI04ADAfCmag"
   },
   "source": [
    "Now implement a function that creates a tensor of **one-hot vectors** from a list of Python integers.\n",
    "\n",
    "A one-hot vector for an integer $n$ is a vector that has a one in its $n$th slot, and zeros in all other slots. One-hot vectors are commonly used to represent categorical variables in machine learning models.\n",
    "\n",
    "For example, given a list of integers `[1, 4, 3, 2]`, your function should produce the tensor:\n",
    "\n",
    "```\n",
    "[[0 1 0 0 0],\n",
    " [0 0 0 0 1],\n",
    " [0 0 0 1 0],\n",
    " [0 0 1 0 0]]\n",
    "```\n",
    "\n",
    "Here the first row corresponds to the first element of the list: it has a one at index 1, and zeros at all other indices. The second row corresponds to the second element of the list: it has a one at index 4, and zeros at all other indices. The other rows follow the same pattern. "
   ]
  },
  {
   "cell_type": "code",
   "execution_count": 75,
   "metadata": {
    "deletable": false,
    "id": "rQ19cKSVCmag",
    "nbgrader": {
     "cell_type": "code",
     "checksum": "c960927a33f4e3fddcda919a8929d58b",
     "grade": false,
     "grade_id": "cell-a8e0ab54de906b75",
     "locked": false,
     "schema_version": 3,
     "solution": true,
     "task": false
    }
   },
   "outputs": [],
   "source": [
    "def make_one_hot(x):\n",
    "  \"\"\"\n",
    "  Construct a LongTensor of one-hot-vectors from a list of Python non-negative\n",
    "  integers.\n",
    "\n",
    "  Inputs:\n",
    "  - x: A list of N ints (non-negative).\n",
    "\n",
    "  Returns:\n",
    "  - y: A tensor of shape (N, C) where C = 1 + max(x) is one more than the max\n",
    "       value in x. The n-th row of y is a one-hot-vector representation of x[n].\n",
    "       In other words, if x[n] = c then y[n, c] = 1; all other elements of y are\n",
    "       zeros. The ones and zeros in y should be 64-bit integers.\n",
    "  \"\"\"\n",
    "  y = None\n",
    "  ##############################################################################\n",
    "  # TODO: Complete the implementation of this function. You are NOT allowed to #\n",
    "  # use PyTorch's built-in one_hot functions.                                  #\n",
    "  ##############################################################################\n",
    "  # Replace \"pass\" statement with your code\n",
    "  y = torch.zeros(len(x), max(x) + 1)\n",
    "  for i, j in enumerate(x):\n",
    "    y[i, j] = 1\n",
    "  # END OF YOUR CODE\n",
    "  return y"
   ]
  },
  {
   "cell_type": "code",
   "execution_count": 76,
   "metadata": {
    "colab": {
     "base_uri": "https://localhost:8080/"
    },
    "deletable": false,
    "editable": false,
    "id": "-BlDzbdrCmag",
    "nbgrader": {
     "cell_type": "code",
     "checksum": "7fc1eef1a1b5d6ea86469571b7ba79a2",
     "grade": true,
     "grade_id": "cell-6a0131ce869875ca",
     "locked": true,
     "points": 5,
     "schema_version": 3,
     "solution": false,
     "task": false
    },
    "outputId": "244d96b9-80e8-48a6-908e-672dc94bcd4c"
   },
   "outputs": [
    {
     "name": "stdout",
     "output_type": "stream",
     "text": [
      "Here is y0:\n",
      "tensor([[0., 1., 0., 0., 0.],\n",
      "        [0., 0., 0., 0., 1.],\n",
      "        [0., 0., 0., 1., 0.],\n",
      "        [0., 0., 1., 0., 0.]])\n"
     ]
    }
   ],
   "source": [
    "def check_one_hot(x, y):\n",
    "  C = y.shape[1]\n",
    "  for i, n in enumerate(x):\n",
    "    if n >= C: return False\n",
    "    for j in range(C):\n",
    "      expected = 1 if j == n else 0\n",
    "      if y[i, j].item() != expected: return False\n",
    "  return True\n",
    "\n",
    "x0 = [1, 4, 3, 2]\n",
    "y0 = make_one_hot(x0)\n",
    "print('Here is y0:')\n",
    "print(y0)\n",
    "assert check_one_hot(x0, y0), 'y0 correct'"
   ]
  },
  {
   "cell_type": "markdown",
   "metadata": {
    "id": "JzSI3D9ECmah"
   },
   "source": [
    "## Reshape Operations"
   ]
  },
  {
   "cell_type": "markdown",
   "metadata": {
    "id": "wZmkaLPzCmah"
   },
   "source": [
    "### View"
   ]
  },
  {
   "cell_type": "markdown",
   "metadata": {
    "id": "VkIyGuKfCmah"
   },
   "source": [
    "PyTorch provides many ways to manipulate the shape of tensors. The simplest example is [`.view()`](https://pytorch.org/docs/1.7.0/tensors.html#torch.Tensor.view): This returns a new tensor with the same number of elements as its input, but with a different shape.\n",
    "\n",
    "We can use `.view()` to flatten matrices into vectors, and to convert rank-1 vectors into rank-2 row or column matrices:"
   ]
  },
  {
   "cell_type": "code",
   "execution_count": 77,
   "metadata": {
    "colab": {
     "base_uri": "https://localhost:8080/"
    },
    "id": "Bdy-6UaBCmah",
    "outputId": "9667aec6-3e86-471f-dce3-c2e5c9ea598c"
   },
   "outputs": [
    {
     "name": "stdout",
     "output_type": "stream",
     "text": [
      "Original tensor:\n",
      "tensor([[1, 2, 3, 4],\n",
      "        [5, 6, 7, 8]])\n",
      "shape: torch.Size([2, 4])\n",
      "\n",
      "Flattened tensor:\n",
      "tensor([1, 2, 3, 4, 5, 6, 7, 8])\n",
      "shape: torch.Size([8])\n",
      "\n",
      "Row vector:\n",
      "tensor([[1, 2, 3, 4, 5, 6, 7, 8]])\n",
      "shape: torch.Size([1, 8])\n",
      "\n",
      "Column vector:\n",
      "tensor([[1],\n",
      "        [2],\n",
      "        [3],\n",
      "        [4],\n",
      "        [5],\n",
      "        [6],\n",
      "        [7],\n",
      "        [8]])\n",
      "shape: torch.Size([8, 1])\n",
      "\n",
      "Rank 3 tensor:\n",
      "tensor([[[1, 2],\n",
      "         [3, 4]],\n",
      "\n",
      "        [[5, 6],\n",
      "         [7, 8]]])\n",
      "shape: torch.Size([2, 2, 2])\n"
     ]
    }
   ],
   "source": [
    "x0 = torch.tensor([[1, 2, 3, 4], [5, 6, 7, 8]])\n",
    "print('Original tensor:')\n",
    "print(x0)\n",
    "print('shape:', x0.shape)\n",
    "\n",
    "# Flatten x0 into a rank 1 vector of shape (8,)\n",
    "x1 = x0.view(8)\n",
    "print('\\nFlattened tensor:')\n",
    "print(x1)\n",
    "print('shape:', x1.shape)\n",
    "\n",
    "# Convert x1 to a rank 2 \"row vector\" of shape (1, 8)\n",
    "x2 = x1.view(1, 8)\n",
    "print('\\nRow vector:')\n",
    "print(x2)\n",
    "print('shape:', x2.shape)\n",
    "\n",
    "# Convert x1 to a rank 2 \"column vector\" of shape (8, 1)\n",
    "x3 = x1.view(8, 1)\n",
    "print('\\nColumn vector:')\n",
    "print(x3)\n",
    "print('shape:', x3.shape)\n",
    "\n",
    "# Convert x1 to a rank 3 tensor of shape (2, 2, 2):\n",
    "x4 = x1.view(2, 2, 2)\n",
    "print('\\nRank 3 tensor:')\n",
    "print(x4)\n",
    "print('shape:', x4.shape)"
   ]
  },
  {
   "cell_type": "markdown",
   "metadata": {
    "id": "FZtekX_1Cmah"
   },
   "source": [
    "As a convenience, calls to `.view()` may include a single -1 argument; this puts enough elements on that dimension so that the output has the same shape as the input. This makes it easy to write some reshape operations in a way that is agnostic to the shape of the tensor:"
   ]
  },
  {
   "cell_type": "code",
   "execution_count": 78,
   "metadata": {
    "colab": {
     "base_uri": "https://localhost:8080/"
    },
    "id": "fT99XqbJCmah",
    "outputId": "9877b86d-b123-4579-d122-b5f9a2d93603"
   },
   "outputs": [
    {
     "name": "stdout",
     "output_type": "stream",
     "text": [
      "x0:\n",
      "tensor([[1, 2, 3],\n",
      "        [4, 5, 6]])\n",
      "x0_flat:\n",
      "tensor([1, 2, 3, 4, 5, 6])\n",
      "x0_row:\n",
      "tensor([[1, 2, 3, 4, 5, 6]])\n",
      "\n",
      "x1:\n",
      "tensor([[1, 2],\n",
      "        [3, 4]])\n",
      "x1_flat:\n",
      "tensor([1, 2, 3, 4])\n",
      "x1_row:\n",
      "tensor([[1, 2, 3, 4]])\n"
     ]
    }
   ],
   "source": [
    "# We can reuse these functions for tensors of different shapes\n",
    "def flatten(x):\n",
    "  return x.view(-1)\n",
    "\n",
    "def make_row_vec(x):\n",
    "  return x.view(1, -1)\n",
    "\n",
    "x0 = torch.tensor([[1, 2, 3], [4, 5, 6]])\n",
    "x0_flat = flatten(x0)\n",
    "x0_row = make_row_vec(x0)\n",
    "print('x0:')\n",
    "print(x0)\n",
    "print('x0_flat:')\n",
    "print(x0_flat)\n",
    "print('x0_row:')\n",
    "print(x0_row)\n",
    "\n",
    "x1 = torch.tensor([[1, 2], [3, 4]])\n",
    "x1_flat = flatten(x1)\n",
    "x1_row = make_row_vec(x1)\n",
    "print('\\nx1:')\n",
    "print(x1)\n",
    "print('x1_flat:')\n",
    "print(x1_flat)\n",
    "print('x1_row:')\n",
    "print(x1_row)"
   ]
  },
  {
   "cell_type": "markdown",
   "metadata": {
    "id": "FHIGkVgyCmah"
   },
   "source": [
    "As its name implies, a tensor returned by `.view()` shares the same data as the input, so changes to one will affect the other:"
   ]
  },
  {
   "cell_type": "code",
   "execution_count": 79,
   "metadata": {
    "colab": {
     "base_uri": "https://localhost:8080/"
    },
    "id": "fNSkP9v1Cmai",
    "outputId": "c8835c77-4d49-4940-8ec8-9dca1adbb097"
   },
   "outputs": [
    {
     "name": "stdout",
     "output_type": "stream",
     "text": [
      "x before modifying:\n",
      "tensor([[1, 2, 3],\n",
      "        [4, 5, 6]])\n",
      "x_flat before modifying:\n",
      "tensor([1, 2, 3, 4, 5, 6])\n",
      "\n",
      "x after modifying:\n",
      "tensor([[10, 20,  3],\n",
      "        [ 4,  5,  6]])\n",
      "x_flat after modifying:\n",
      "tensor([10, 20,  3,  4,  5,  6])\n"
     ]
    }
   ],
   "source": [
    "x = torch.tensor([[1, 2, 3], [4, 5, 6]])\n",
    "x_flat = x.view(-1)\n",
    "print('x before modifying:')\n",
    "print(x)\n",
    "print('x_flat before modifying:')\n",
    "print(x_flat)\n",
    "\n",
    "x[0, 0] = 10   # x[0, 0] and x_flat[0] point to the same data\n",
    "x_flat[1] = 20 # x_flat[1] and x[0, 1] point to the same data\n",
    "\n",
    "print('\\nx after modifying:')\n",
    "print(x)\n",
    "print('x_flat after modifying:')\n",
    "print(x_flat)"
   ]
  },
  {
   "cell_type": "markdown",
   "metadata": {
    "id": "TMipRy8VCmai"
   },
   "source": [
    "### Swapping axes"
   ]
  },
  {
   "cell_type": "markdown",
   "metadata": {
    "id": "iK1iTbbtCmai"
   },
   "source": [
    "Another common reshape operation you might want to perform is transposing a matrix. You might be surprised if you try to transpose a matrix with `.view()`: The `view()` function takes elements in row-major order, so **you cannot transpose matrices with `.view()`**.\n",
    "\n",
    "In general, you should only use `.view()` to add new dimensions to a tensor, or to collapse adjacent dimensions of a tensor.\n",
    "\n",
    "For other types of reshape operations, you usually need to use a function that can swap axes of a tensor. The simplest such function is `.t()`, specificially for transposing matrices. It is available both as a [function in the `torch` module](https://pytorch.org/docs/1.7.0/generated/torch.t.html#torch.t), and as a [tensor instance method](https://pytorch.org/docs/1.7.0/tensors.html#torch.Tensor.t):"
   ]
  },
  {
   "cell_type": "code",
   "execution_count": 80,
   "metadata": {
    "colab": {
     "base_uri": "https://localhost:8080/"
    },
    "id": "za6LK9GQCmai",
    "outputId": "ba86fca9-51f2-4a18-ea9a-56200d0fe569"
   },
   "outputs": [
    {
     "name": "stdout",
     "output_type": "stream",
     "text": [
      "Original matrix:\n",
      "tensor([[1, 2, 3],\n",
      "        [4, 5, 6]])\n",
      "\n",
      "Transposing with .view() DOES NOT WORK!\n",
      "tensor([[1, 2],\n",
      "        [3, 4],\n",
      "        [5, 6]])\n",
      "\n",
      "Transposed matrix:\n",
      "tensor([[1, 4],\n",
      "        [2, 5],\n",
      "        [3, 6]])\n",
      "tensor([[1, 4],\n",
      "        [2, 5],\n",
      "        [3, 6]])\n"
     ]
    }
   ],
   "source": [
    "x = torch.tensor([[1, 2, 3], [4, 5, 6]])\n",
    "print('Original matrix:')\n",
    "print(x)\n",
    "print('\\nTransposing with .view() DOES NOT WORK!')\n",
    "print(x.view(3, 2))\n",
    "print('\\nTransposed matrix:')\n",
    "print(torch.t(x))\n",
    "print(x.t())"
   ]
  },
  {
   "cell_type": "markdown",
   "metadata": {
    "id": "R3WR3JHcCmai"
   },
   "source": [
    "For tensors with more than two dimensions, we can use the function [`torch.transpose()`](https://pytorch.org/docs/1.7.0/generated/torch.transpose.html#torch.transpose) to swap arbitrary dimensions, or the [`.permute()`](https://pytorch.org/docs/1.7.0/tensors.html#torch.Tensor.permute) method to arbitrarily permute dimensions:"
   ]
  },
  {
   "cell_type": "code",
   "execution_count": 81,
   "metadata": {
    "colab": {
     "base_uri": "https://localhost:8080/"
    },
    "id": "EGD1hSMeCmai",
    "outputId": "4a4b77d2-8950-4f69-f283-af84ef158a87"
   },
   "outputs": [
    {
     "name": "stdout",
     "output_type": "stream",
     "text": [
      "Original tensor:\n",
      "tensor([[[ 1,  2,  3,  4],\n",
      "         [ 5,  6,  7,  8],\n",
      "         [ 9, 10, 11, 12]],\n",
      "\n",
      "        [[13, 14, 15, 16],\n",
      "         [17, 18, 19, 20],\n",
      "         [21, 22, 23, 24]]])\n",
      "shape: torch.Size([2, 3, 4])\n",
      "\n",
      "Swap axes 1 and 2:\n",
      "tensor([[[ 1,  5,  9],\n",
      "         [ 2,  6, 10],\n",
      "         [ 3,  7, 11],\n",
      "         [ 4,  8, 12]],\n",
      "\n",
      "        [[13, 17, 21],\n",
      "         [14, 18, 22],\n",
      "         [15, 19, 23],\n",
      "         [16, 20, 24]]])\n",
      "torch.Size([2, 4, 3])\n",
      "\n",
      "Permute axes\n",
      "tensor([[[ 1, 13],\n",
      "         [ 2, 14],\n",
      "         [ 3, 15],\n",
      "         [ 4, 16]],\n",
      "\n",
      "        [[ 5, 17],\n",
      "         [ 6, 18],\n",
      "         [ 7, 19],\n",
      "         [ 8, 20]],\n",
      "\n",
      "        [[ 9, 21],\n",
      "         [10, 22],\n",
      "         [11, 23],\n",
      "         [12, 24]]])\n",
      "shape: torch.Size([3, 4, 2])\n"
     ]
    }
   ],
   "source": [
    "# Create a tensor of shape (2, 3, 4)\n",
    "x0 = torch.tensor([\n",
    "     [[1,  2,  3,  4],\n",
    "      [5,  6,  7,  8],\n",
    "      [9, 10, 11, 12]],\n",
    "     [[13, 14, 15, 16],\n",
    "      [17, 18, 19, 20],\n",
    "      [21, 22, 23, 24]]])\n",
    "print('Original tensor:')\n",
    "print(x0)\n",
    "print('shape:', x0.shape)\n",
    "\n",
    "# Swap axes 1 and 2; shape is (2, 4, 3)\n",
    "x1 = x0.transpose(1, 2)\n",
    "print('\\nSwap axes 1 and 2:')\n",
    "print(x1)\n",
    "print(x1.shape)\n",
    "\n",
    "# Permute axes; the argument (1, 2, 0) means:\n",
    "# - Make the old dimension 1 appear at dimension 0;\n",
    "# - Make the old dimension 2 appear at dimension 1;\n",
    "# - Make the old dimension 0 appear at dimension 2\n",
    "# This results in a tensor of shape (3, 4, 2)\n",
    "x2 = x0.permute(1, 2, 0)\n",
    "print('\\nPermute axes')\n",
    "print(x2)\n",
    "print('shape:', x2.shape)"
   ]
  },
  {
   "cell_type": "markdown",
   "metadata": {
    "id": "bdLO54OHCmai"
   },
   "source": [
    "### Contiguous tensors"
   ]
  },
  {
   "cell_type": "markdown",
   "metadata": {
    "id": "h3IflazxCmaj"
   },
   "source": [
    "Some combinations of reshape operations will fail with cryptic errors. The exact reasons for this have to do with the way that tensors and views of tensors are implemented, and are beyond the scope of this assignment. However if you're curious, [this blog post by Edward Yang](http://blog.ezyang.com/2019/05/pytorch-internals/) gives a clear explanation of the problem.\n",
    "\n",
    "What you need to know is that you can typically overcome these sorts of errors by either calling [`.contiguous()`](https://pytorch.org/docs/1.7.0/tensors.html#torch.Tensor.contiguous) before `.view()`, or using [`.reshape()`](https://pytorch.org/docs/1.7.0/tensors.html#torch.Tensor.reshape) instead of `.view()`:"
   ]
  },
  {
   "cell_type": "code",
   "execution_count": 82,
   "metadata": {
    "colab": {
     "base_uri": "https://localhost:8080/"
    },
    "id": "dRlYp_d2Cmaj",
    "outputId": "b51b11d2-bce4-4914-f65d-3645187aefc7"
   },
   "outputs": [
    {
     "name": "stdout",
     "output_type": "stream",
     "text": [
      "<class 'RuntimeError'> view size is not compatible with input tensor's size and stride (at least one dimension spans across two contiguous subspaces). Use .reshape(...) instead.\n",
      "x1 shape: torch.Size([8, 3])\n",
      "x2 shape: torch.Size([8, 3])\n"
     ]
    }
   ],
   "source": [
    "x0 = torch.randn(2, 3, 4)\n",
    "\n",
    "try:\n",
    "  # This sequence of reshape operations will crash\n",
    "  x1 = x0.transpose(1, 2).view(8, 3)\n",
    "except RuntimeError as e:\n",
    "  print(type(e), e)\n",
    "  \n",
    "# We can solve the problem using either .contiguous() or .reshape()\n",
    "x1 = x0.transpose(1, 2).contiguous().view(8, 3)\n",
    "x2 = x0.transpose(1, 2).reshape(8, 3)\n",
    "print('x1 shape:', x1.shape)\n",
    "print('x2 shape:', x2.shape)"
   ]
  },
  {
   "cell_type": "markdown",
   "metadata": {
    "id": "_Kpcj_FbCmaj"
   },
   "source": [
    "Your turn: Given the 1-dimensional input tensor `x0` containing the numbers 0 through 23 in order, apply a sequence of reshape operations to `x0` to create the following tensor:\n",
    "\n",
    "```\n",
    "x1 = tensor([[ 0,  1,  2,  3, 12, 13, 14, 15],\n",
    "             [ 4,  5,  6,  7, 16, 17, 18, 19],\n",
    "             [ 8,  9, 10, 11, 20, 21, 22, 23]])\n",
    "```\n",
    "\n",
    "Hint: You will need to create an intermediate tensor of rank 3."
   ]
  },
  {
   "cell_type": "code",
   "execution_count": 85,
   "metadata": {
    "colab": {
     "base_uri": "https://localhost:8080/"
    },
    "deletable": false,
    "id": "bCNrYBlwCmaj",
    "nbgrader": {
     "cell_type": "code",
     "checksum": "81cc95d7fc9452ebc28908f6fb77fb5a",
     "grade": false,
     "grade_id": "cell-235e1ad42f26611b",
     "locked": false,
     "schema_version": 3,
     "solution": true,
     "task": false
    },
    "outputId": "a9282ddb-5523-4610-bbe1-6d3a3a3eb4df"
   },
   "outputs": [
    {
     "name": "stdout",
     "output_type": "stream",
     "text": [
      "Here is x0:\n",
      "tensor([ 0,  1,  2,  3,  4,  5,  6,  7,  8,  9, 10, 11, 12, 13, 14, 15, 16, 17,\n",
      "        18, 19, 20, 21, 22, 23])\n"
     ]
    }
   ],
   "source": [
    "x0 = torch.arange(24)\n",
    "print('Here is x0:')\n",
    "print(x0)\n",
    "\n",
    "x1 = None\n",
    "##############################################################################\n",
    "# TODO: Use reshape operations to create x1 from x0.                         #\n",
    "##############################################################################\n",
    "# Replace \"pass\" statement with your code\n",
    "x1 = x0.reshape(3, 8)\n",
    "# END OF YOUR CODE"
   ]
  },
  {
   "cell_type": "code",
   "execution_count": 86,
   "metadata": {
    "colab": {
     "base_uri": "https://localhost:8080/"
    },
    "deletable": false,
    "editable": false,
    "id": "gGB-srYZCmaj",
    "nbgrader": {
     "cell_type": "code",
     "checksum": "1a2c828f3daa2c64d3c4665aa58fc19f",
     "grade": true,
     "grade_id": "cell-c3de561c2e8ee685",
     "locked": true,
     "points": 3,
     "schema_version": 3,
     "solution": false,
     "task": false
    },
    "outputId": "5ecef93c-2135-47a0-c13e-65d619977ade"
   },
   "outputs": [
    {
     "name": "stdout",
     "output_type": "stream",
     "text": [
      "Here is x1:\n",
      "tensor([[ 0,  1,  2,  3,  4,  5,  6,  7],\n",
      "        [ 8,  9, 10, 11, 12, 13, 14, 15],\n",
      "        [16, 17, 18, 19, 20, 21, 22, 23]])\n"
     ]
    }
   ],
   "source": [
    "print('Here is x1:')\n",
    "print(x1)"
   ]
  },
  {
   "cell_type": "markdown",
   "metadata": {
    "id": "k7IHAJcICmaj"
   },
   "source": [
    "## Tensor Operations"
   ]
  },
  {
   "cell_type": "markdown",
   "metadata": {
    "id": "3CgD7hQxCmaj"
   },
   "source": [
    "### Elementwise operations"
   ]
  },
  {
   "cell_type": "markdown",
   "metadata": {
    "id": "pZT1K_YACmak"
   },
   "source": [
    "Basic mathematical functions operate elementwise on tensors, and are available as operator overloads, as functions in the `torch` module, and as instance methods on tensor objects; all produce the same results:"
   ]
  },
  {
   "cell_type": "code",
   "execution_count": 87,
   "metadata": {
    "colab": {
     "base_uri": "https://localhost:8080/"
    },
    "id": "ZvrGSrDBCmak",
    "outputId": "6dbebcf5-4532-468e-d99e-e612987cc681"
   },
   "outputs": [
    {
     "name": "stdout",
     "output_type": "stream",
     "text": [
      "Elementwise sum:\n",
      "tensor([[ 6.,  8., 10., 12.]])\n",
      "tensor([[ 6.,  8., 10., 12.]])\n",
      "tensor([[ 6.,  8., 10., 12.]])\n",
      "\n",
      "Elementwise difference:\n",
      "tensor([[-4., -4., -4., -4.]])\n",
      "tensor([[-4., -4., -4., -4.]])\n",
      "tensor([[-4., -4., -4., -4.]])\n",
      "\n",
      "Elementwise product:\n",
      "tensor([[ 5., 12., 21., 32.]])\n",
      "tensor([[ 5., 12., 21., 32.]])\n",
      "tensor([[ 5., 12., 21., 32.]])\n",
      "\n",
      "Elementwise division\n",
      "tensor([[0.2000, 0.3333, 0.4286, 0.5000]])\n",
      "tensor([[0.2000, 0.3333, 0.4286, 0.5000]])\n",
      "tensor([[0.2000, 0.3333, 0.4286, 0.5000]])\n",
      "\n",
      "Elementwise power\n",
      "tensor([[1.0000e+00, 6.4000e+01, 2.1870e+03, 6.5536e+04]])\n",
      "tensor([[1.0000e+00, 6.4000e+01, 2.1870e+03, 6.5536e+04]])\n",
      "tensor([[1.0000e+00, 6.4000e+01, 2.1870e+03, 6.5536e+04]])\n"
     ]
    }
   ],
   "source": [
    "x = torch.tensor([[1, 2, 3, 4]], dtype=torch.float32)\n",
    "y = torch.tensor([[5, 6, 7, 8]], dtype=torch.float32)\n",
    "\n",
    "# Elementwise sum; all give the same result\n",
    "print('Elementwise sum:')\n",
    "print(x + y)\n",
    "print(torch.add(x, y))\n",
    "print(x.add(y))\n",
    "\n",
    "# Elementwise difference\n",
    "print('\\nElementwise difference:')\n",
    "print(x - y)\n",
    "print(torch.sub(x, y))\n",
    "print(x.sub(y))\n",
    "\n",
    "# Elementwise product\n",
    "print('\\nElementwise product:')\n",
    "print(x * y)\n",
    "print(torch.mul(x, y))\n",
    "print(x.mul(y))\n",
    "\n",
    "# Elementwise division\n",
    "print('\\nElementwise division')\n",
    "print(x / y)\n",
    "print(torch.div(x, y))\n",
    "print(x.div(y))\n",
    "\n",
    "# Elementwise power\n",
    "print('\\nElementwise power')\n",
    "print(x ** y)\n",
    "print(torch.pow(x, y))\n",
    "print(x.pow(y))"
   ]
  },
  {
   "cell_type": "markdown",
   "metadata": {
    "id": "6Ix5U9wmCmak"
   },
   "source": [
    "PyTorch also provides many standard mathematical functions; these are available both as functions in the `torch` module and as instance methods on tensors.\n",
    "\n",
    "You can find a full list of all available mathematical functions in the [documentation](https://pytorch.org/docs/1.7.0/torch.html#pointwise-ops); many functions in the `torch` module have corresponding instance methods [on tensor objects](https://pytorch.org/docs/1.7.0/tensors.html):"
   ]
  },
  {
   "cell_type": "code",
   "execution_count": 88,
   "metadata": {
    "colab": {
     "base_uri": "https://localhost:8080/"
    },
    "id": "hjlei3dYCmak",
    "outputId": "0537a760-8981-4871-989d-c077ea1ade82"
   },
   "outputs": [
    {
     "name": "stdout",
     "output_type": "stream",
     "text": [
      "Square root:\n",
      "tensor([[1.0000, 1.4142, 1.7321, 2.0000]])\n",
      "tensor([[1.0000, 1.4142, 1.7321, 2.0000]])\n",
      "\n",
      "Trig functions:\n",
      "tensor([[ 0.8415,  0.9093,  0.1411, -0.7568]])\n",
      "tensor([[ 0.8415,  0.9093,  0.1411, -0.7568]])\n",
      "tensor([[ 0.5403, -0.4161, -0.9900, -0.6536]])\n",
      "tensor([[ 0.5403, -0.4161, -0.9900, -0.6536]])\n"
     ]
    }
   ],
   "source": [
    "x = torch.tensor([[1, 2, 3, 4]], dtype=torch.float32)\n",
    "\n",
    "print('Square root:')\n",
    "print(torch.sqrt(x))\n",
    "print(x.sqrt())\n",
    "\n",
    "print('\\nTrig functions:')\n",
    "print(torch.sin(x))\n",
    "print(x.sin())\n",
    "print(torch.cos(x))\n",
    "print(x.cos())"
   ]
  },
  {
   "cell_type": "markdown",
   "metadata": {
    "id": "sIirhwLVCmak"
   },
   "source": [
    "### Reduction operations"
   ]
  },
  {
   "cell_type": "markdown",
   "metadata": {
    "id": "8I-GJ7AYCmak"
   },
   "source": [
    "So far we've seen basic arithmetic operations on tensors that operate elementwise. We may sometimes want to perform operations that aggregate over part or all of a tensor, such as a summation; these are called **reduction** operations.\n",
    "\n",
    "Like the elementwise operations above, most reduction operations are available both as functions in the `torch` module and as instance methods on tensor objects.\n",
    "\n",
    "The simplest reduction operation is summation. We can use the [`.sum()`](https://pytorch.org/docs/1.7.0/generated/torch.sum.html#torch.sum) function to reduce a tensor. We can also specify one or several dimensions along which to reduce using the `dim` argument:"
   ]
  },
  {
   "cell_type": "code",
   "execution_count": 89,
   "metadata": {
    "colab": {
     "base_uri": "https://localhost:8080/"
    },
    "id": "aKfopub-Cmal",
    "outputId": "f33b56be-7604-4aee-b20c-3042f77a0302"
   },
   "outputs": [
    {
     "name": "stdout",
     "output_type": "stream",
     "text": [
      "Original tensor:\n",
      "tensor([[1., 2., 3.],\n",
      "        [4., 5., 6.]])\n",
      "\n",
      "Sum over entire tensor:\n",
      "tensor(21.)\n",
      "tensor(21.)\n",
      "\n",
      "Sum of each row:\n",
      "tensor([5., 7., 9.])\n",
      "tensor([5., 7., 9.])\n",
      "\n",
      "Sum of each column:\n",
      "tensor([ 6., 15.])\n",
      "tensor([ 6., 15.])\n"
     ]
    }
   ],
   "source": [
    "x = torch.tensor([[1, 2, 3], \n",
    "                  [4, 5, 6]], dtype=torch.float32)\n",
    "print('Original tensor:')\n",
    "print(x)\n",
    "\n",
    "print('\\nSum over entire tensor:')\n",
    "print(torch.sum(x))\n",
    "print(x.sum())\n",
    "\n",
    "# We can sum over each row:\n",
    "print('\\nSum of each row:')\n",
    "print(torch.sum(x, dim=0))\n",
    "print(x.sum(dim=0))\n",
    "\n",
    "# Sum over each column:\n",
    "print('\\nSum of each column:')\n",
    "print(torch.sum(x, dim=1))\n",
    "print(x.sum(dim=1))"
   ]
  },
  {
   "cell_type": "markdown",
   "metadata": {
    "id": "Do2XjKjPCmal"
   },
   "source": [
    "Other useful reduction operations include [`.mean()`](https://pytorch.org/docs/1.7.0/generated/torch.mean.html#torch.mean), [`.min()`](https://pytorch.org/docs/1.7.0/generated/torch.min.html#torch.min), and [`.max()`](https://pytorch.org/docs/1.7.0/generated/torch.max.html#torch.max). You can find a full list of all available reduction operations in the [documentation](https://pytorch.org/docs/1.7.0/torch.html#reduction-ops).\n",
    "\n",
    "Some reduction operations return more than one value; for example `.min()` returns both the minimum value over the specified dimension, as well as the index where the minimum value occurs:"
   ]
  },
  {
   "cell_type": "code",
   "execution_count": 90,
   "metadata": {
    "colab": {
     "base_uri": "https://localhost:8080/"
    },
    "id": "GtvId3oOCmal",
    "outputId": "f80d2a2d-5df1-4841-d318-9609576323e9"
   },
   "outputs": [
    {
     "name": "stdout",
     "output_type": "stream",
     "text": [
      "Original tensor:\n",
      "tensor([[2., 4., 3., 5.],\n",
      "        [3., 3., 5., 2.]]) torch.Size([2, 4])\n",
      "\n",
      "Overall minimum: tensor(2.)\n",
      "\n",
      "Minimum along each column:\n",
      "values: tensor([2., 3., 3., 2.])\n",
      "idxs: tensor([0, 1, 0, 1])\n",
      "\n",
      "Minimum along each row:\n",
      "values: tensor([2., 2.])\n",
      "idxs: tensor([0, 3])\n"
     ]
    }
   ],
   "source": [
    "x = torch.tensor([[2, 4, 3, 5], [3, 3, 5, 2]], dtype=torch.float32)\n",
    "print('Original tensor:')\n",
    "print(x, x.shape)\n",
    "\n",
    "# Finding the overall minimum only returns a single value\n",
    "print('\\nOverall minimum:', x.min())\n",
    "\n",
    "# Compute the minimum along each column; we get both the value and location:\n",
    "# The minimum of the first column is 2, and it appears at index 0;\n",
    "# the minimum of the second column is 3 and it appears at index 1; etc\n",
    "col_min_vals, col_min_idxs = x.min(dim=0)\n",
    "print('\\nMinimum along each column:')\n",
    "print('values:', col_min_vals)\n",
    "print('idxs:', col_min_idxs)\n",
    "\n",
    "# Compute the minimum along each row; we get both the value and the minimum\n",
    "row_min_vals, row_min_idxs = x.min(dim=1)\n",
    "print('\\nMinimum along each row:')\n",
    "print('values:', row_min_vals)\n",
    "print('idxs:', row_min_idxs)"
   ]
  },
  {
   "cell_type": "markdown",
   "metadata": {
    "id": "hxvFE4oRCmal"
   },
   "source": [
    "By default, reduction operations *reduce* the rank of tensors: the dimension over which you perform the reduction will be removed from the shape of the output. If you pass `keepdim=True` to a reduction operation, the specified dimension will not be removed; the output tensor will instead have a shape of 1 in that dimension.\n",
    "\n",
    "When you are working with multidimensional tensors, thinking about rows and columns can become confusing; instead it's more useful to think about the shape that will result from each operation. For example:"
   ]
  },
  {
   "cell_type": "code",
   "execution_count": 91,
   "metadata": {
    "colab": {
     "base_uri": "https://localhost:8080/"
    },
    "id": "9rXtWbThCmal",
    "outputId": "ee7e37c3-af28-44eb-f751-0947191b32f7"
   },
   "outputs": [
    {
     "name": "stdout",
     "output_type": "stream",
     "text": [
      "torch.Size([128, 10, 3, 64, 64])\n",
      "torch.Size([128, 3, 64, 64])\n",
      "torch.Size([128, 3, 64])\n",
      "torch.Size([128, 1, 64])\n"
     ]
    }
   ],
   "source": [
    "# Create a tensor of shape (128, 10, 3, 64, 64)\n",
    "x = torch.randn(128, 10, 3, 64, 64)\n",
    "print(x.shape)\n",
    "\n",
    "# Take the mean over dimension 1; shape is now (128, 3, 64, 64)\n",
    "x = x.mean(dim=1)\n",
    "print(x.shape)\n",
    "\n",
    "# Take the sum over dimension 2; shape is now (128, 3, 64)\n",
    "x = x.sum(dim=2)\n",
    "print(x.shape)\n",
    "\n",
    "# Take the mean over dimension 1, but keep the dimension from being eliminated\n",
    "# by passing keepdim=True; shape is now (128, 1, 64)\n",
    "x = x.mean(dim=1, keepdim=True)\n",
    "print(x.shape)"
   ]
  },
  {
   "cell_type": "markdown",
   "metadata": {
    "id": "HE_DeUnOCmal"
   },
   "source": [
    "Your turn: Use reduction and indexing operations to implement a function that sets the minimum value along each row of a tensor to zero.\n",
    "\n",
    "Hint: [`torch.argmin()`](https://pytorch.org/docs/1.7.0/generated/torch.argmin.html#torch.argmin)"
   ]
  },
  {
   "cell_type": "code",
   "execution_count": 92,
   "metadata": {
    "deletable": false,
    "id": "VaulHIzuCmal",
    "nbgrader": {
     "cell_type": "code",
     "checksum": "adc725e7306aab8a015b823f62264545",
     "grade": false,
     "grade_id": "cell-b59f7336d40bf911",
     "locked": false,
     "schema_version": 3,
     "solution": true,
     "task": false
    }
   },
   "outputs": [],
   "source": [
    "def zero_row_min(x):\n",
    "  \"\"\"\n",
    "  Return a copy of x, where the minimum value along each row has been set to 0.\n",
    "\n",
    "  For example, if x is:\n",
    "  x = torch.tensor([\n",
    "        [10, 20, 30],\n",
    "        [ 2,  5,  1],\n",
    "      ])\n",
    "\n",
    "  Then y = zero_row_min(x) should be:\n",
    "  torch.tensor([\n",
    "    [0, 20, 30],\n",
    "    [2,  5,  0],\n",
    "  ])\n",
    "\n",
    "  Inputs:\n",
    "  - x: Tensor of rank 2 with shape (N, M).\n",
    "\n",
    "  Returns:\n",
    "  - y: Tensor of rank 2 that is a copy of x, except the minimum value along each\n",
    "       row is replaced with 0.\n",
    "  \"\"\"\n",
    "  y = x.clone()\n",
    "  ##############################################################################\n",
    "  # TODO: Complete the implementation of this function.                        #\n",
    "  ##############################################################################\n",
    "  # Replace \"pass\" statement with your code\n",
    "  row_min_idx = x.argmin(dim = 1)\n",
    "  for i in range(len(row_min_idx)):\n",
    "    y[i, row_min_idx[i]] = 0\n",
    "  # END OF YOUR CODE\n",
    "  return y"
   ]
  },
  {
   "cell_type": "code",
   "execution_count": 93,
   "metadata": {
    "colab": {
     "base_uri": "https://localhost:8080/"
    },
    "deletable": false,
    "editable": false,
    "id": "pIEnw3VxCmam",
    "nbgrader": {
     "cell_type": "code",
     "checksum": "bd384f3fb19e681d32c5d4cde8349b8d",
     "grade": true,
     "grade_id": "cell-25dcd851e601e564",
     "locked": true,
     "points": 5,
     "schema_version": 3,
     "solution": false,
     "task": false
    },
    "outputId": "26fa7af9-02fe-4d3c-ac79-049cf8e0e580"
   },
   "outputs": [
    {
     "name": "stdout",
     "output_type": "stream",
     "text": [
      "Here is x0:\n",
      "tensor([[10, 20, 30],\n",
      "        [ 2,  5,  1]])\n",
      "Here is y0:\n",
      "tensor([[ 0, 20, 30],\n",
      "        [ 2,  5,  0]])\n"
     ]
    }
   ],
   "source": [
    "x0 = torch.tensor([[10, 20, 30], [2, 5, 1]])\n",
    "print('Here is x0:')\n",
    "print(x0)\n",
    "y0 = zero_row_min(x0)\n",
    "print('Here is y0:')\n",
    "print(y0)"
   ]
  },
  {
   "cell_type": "markdown",
   "metadata": {
    "id": "QgEDCfiVCmam"
   },
   "source": [
    "### Matrix operations"
   ]
  },
  {
   "cell_type": "markdown",
   "metadata": {
    "id": "YFWDAhdgCmam"
   },
   "source": [
    "Note that `*` is elementwise multiplication, not matrix multiplication. PyTorch provides a number of linear algebra functions that compute different types of vector and matrix products. The most commonly used are:\n",
    "\n",
    "- [`torch.dot()`](https://pytorch.org/docs/1.7.0/generated/torch.dot.html#torch.dot): Computes inner product of vectors.\n",
    "- [`torch.mm()`](https://pytorch.org/docs/1.7.0/generated/torch.mm.html#torch.mm): Computes matrix-matrix products.\n",
    "- [`torch.mv()`](https://pytorch.org/docs/1.7.0/generated/torch.mv.html#torch.mv): Computes matrix-vector products.\n",
    "- [`torch.addmm()`](https://pytorch.org/docs/1.7.0/generated/torch.addmm.html#torch.addmm) / [`torch.addmv()`](https://pytorch.org/docs/1.7.0/generated/torch.addmv.html#torch.addmv): Computes matrix-matrix and matrix-vector multiplications plus a bias.\n",
    "- [`torch.bmm()`](https://pytorch.org/docs/1.7.0/generated/torch.bmm.html#torch.bmm) / [`torch.baddmm()`](https://pytorch.org/docs/1.7.0/generated/torch.baddmm.html#torch.baddmm): Batched versions of `torch.mm()` and `torch.addmm()`, respectively.\n",
    "- [`torch.matmul()`](https://pytorch.org/docs/1.7.0/generated/torch.matmul.html#torch.matmul): General matrix product that performs different operations depending on the rank of the inputs.\n",
    "\n",
    "You can find a full list of the available linear algebra operators in the [documentation](https://pytorch.org/docs/1.7.0/torch.html#blas-and-lapack-operations).\n",
    "\n",
    "Here is an example of using `torch.dot()` to compute inner products. Like the other mathematical operators we've seen, most linear algebra operators are available both as functions in the `torch` module and as instance methods of tensors:"
   ]
  },
  {
   "cell_type": "code",
   "execution_count": 94,
   "metadata": {
    "colab": {
     "base_uri": "https://localhost:8080/"
    },
    "id": "OeqSYIjiCmam",
    "outputId": "6f1e3a45-d601-45c6-d93c-d50bd1a7d2f7"
   },
   "outputs": [
    {
     "name": "stdout",
     "output_type": "stream",
     "text": [
      "Dot products:\n",
      "tensor(219.)\n",
      "tensor(219.)\n",
      "1D tensors expected, but got 2D and 2D tensors\n",
      "\n",
      "Matrix-matrix product:\n",
      "tensor([[19., 22.],\n",
      "        [43., 50.]])\n",
      "tensor([[19., 22.],\n",
      "        [43., 50.]])\n"
     ]
    }
   ],
   "source": [
    "v = torch.tensor([9, 10], dtype=torch.float32)\n",
    "w = torch.tensor([11, 12], dtype=torch.float32)\n",
    "\n",
    "# Inner product of vectors\n",
    "print('Dot products:')\n",
    "print(torch.dot(v, w))\n",
    "print(v.dot(w))\n",
    "\n",
    "# .dot() only works for vectors -- it will give an error for tensors of rank > 1\n",
    "x = torch.tensor([[1, 2], [3, 4]], dtype=torch.float32)\n",
    "y = torch.tensor([[5, 6], [7, 8]], dtype=torch.float32)\n",
    "try:\n",
    "  print(x.dot(y))\n",
    "except RuntimeError as e:\n",
    "  print(e)\n",
    "  \n",
    "# Instead we use .mm() for matrix-matrix products:\n",
    "print('\\nMatrix-matrix product:')\n",
    "print(torch.mm(x, y))\n",
    "print(x.mm(y))"
   ]
  },
  {
   "cell_type": "markdown",
   "metadata": {
    "id": "cibtAxA_Cmam"
   },
   "source": [
    "With all the different linear algebra operators that PyTorch provides, there is usually more than one way to compute something. For example, to compute matrix-vector products we can use `torch.mv()`; we can reshape the vector to have rank 2 and use `torch.mm()`; or we can use `torch.matmul()`. All give the same results, but the outputs might have different ranks:"
   ]
  },
  {
   "cell_type": "code",
   "execution_count": 95,
   "metadata": {
    "colab": {
     "base_uri": "https://localhost:8080/"
    },
    "id": "f0CaILn-Cmam",
    "outputId": "d062e155-afaa-49fe-8cd7-dcddd3b2fbc5"
   },
   "outputs": [
    {
     "name": "stdout",
     "output_type": "stream",
     "text": [
      "Here is x (rank 2):\n",
      "tensor([[1., 2.],\n",
      "        [3., 4.]])\n",
      "\n",
      "Here is v (rank 1):\n",
      "tensor([ 9., 10.])\n",
      "\n",
      "Matrix-vector product with torch.mv() (rank 1 output):\n",
      "tensor([29., 67.])\n",
      "tensor([29., 67.])\n",
      "\n",
      "Matrix-vector product with torch.mm() (rank 2 output):\n",
      "tensor([[29.],\n",
      "        [67.]])\n",
      "tensor([[29.],\n",
      "        [67.]])\n",
      "\n",
      "Matrix-vector product with torch.matmul() (rank 1 output):\n",
      "tensor([29., 67.])\n",
      "tensor([29., 67.])\n"
     ]
    }
   ],
   "source": [
    "print('Here is x (rank 2):')\n",
    "print(x)\n",
    "print('\\nHere is v (rank 1):')\n",
    "print(v)\n",
    "\n",
    "# Matrix-vector multiply with torch.mv() produces a rank-1 output\n",
    "print('\\nMatrix-vector product with torch.mv() (rank 1 output):')\n",
    "print(torch.mv(x, v))\n",
    "print(x.mv(v))\n",
    "\n",
    "# We can reshape the vector to have rank 2 and use torch.mm() to perform\n",
    "# matrix-vector products, but the result will have rank 2\n",
    "print('\\nMatrix-vector product with torch.mm() (rank 2 output):')\n",
    "print(torch.mm(x, v.view(2, 1)))\n",
    "print(x.mm(v.view(2, 1)))\n",
    "\n",
    "print('\\nMatrix-vector product with torch.matmul() (rank 1 output):')\n",
    "print(torch.matmul(x, v))\n",
    "print(x.matmul(v))"
   ]
  },
  {
   "cell_type": "markdown",
   "metadata": {
    "id": "uxeVGO93Cmam"
   },
   "source": [
    "Your turn: Use [`torch.bmm()`](https://pytorch.org/docs/1.1.0/torch.html#torch.bmm) to perform a batched matrix multiply.\n",
    "\n",
    "\n"
   ]
  },
  {
   "cell_type": "code",
   "execution_count": 96,
   "metadata": {
    "colab": {
     "base_uri": "https://localhost:8080/"
    },
    "deletable": false,
    "editable": false,
    "id": "lkyBirpPCman",
    "nbgrader": {
     "cell_type": "code",
     "checksum": "0834ffd2390b3189e244388a1da83708",
     "grade": false,
     "grade_id": "cell-c074d305ad866298",
     "locked": true,
     "schema_version": 3,
     "solution": false,
     "task": false
    },
    "outputId": "8bb5ce3c-410c-4ace-be00-1d8a031107d6"
   },
   "outputs": [
    {
     "name": "stdout",
     "output_type": "stream",
     "text": [
      "Here is the result of batched matrix multiply with a loop:\n",
      "tensor([[[1.1163, 1.1587, 1.9690, 1.8232],\n",
      "         [1.4139, 1.6047, 2.7143, 2.7186]],\n",
      "\n",
      "        [[0.3707, 1.3418, 0.9090, 1.5271],\n",
      "         [0.5270, 1.6415, 0.8949, 1.6092]],\n",
      "\n",
      "        [[0.8863, 0.8614, 1.6273, 0.5403],\n",
      "         [1.0417, 0.4843, 0.6703, 0.9262]]])\n"
     ]
    }
   ],
   "source": [
    "B, N, M, P = 3, 2, 5, 4\n",
    "x = torch.rand(B, N, M)  # Random tensor of shape (B, N, M)\n",
    "y = torch.rand(B, M, P)  # Random tensor of shape (B, M, P)\n",
    "\n",
    "# We can use a for loop to (inefficiently) compute a batch of matrix multiply\n",
    "# operations\n",
    "z1 = torch.empty(B, N, P)  # Empty tensor of shape (B, N, P)\n",
    "for i in range(B):\n",
    "  z1[i] = x[i].mm(y[i])\n",
    "print('Here is the result of batched matrix multiply with a loop:')\n",
    "print(z1)"
   ]
  },
  {
   "cell_type": "code",
   "execution_count": 97,
   "metadata": {
    "deletable": false,
    "id": "GG8Hj2niCman",
    "nbgrader": {
     "cell_type": "code",
     "checksum": "f9063760dd183ce118bf85f62661d1ea",
     "grade": false,
     "grade_id": "cell-3eff6e900ec169fe",
     "locked": false,
     "schema_version": 3,
     "solution": true,
     "task": false
    }
   },
   "outputs": [],
   "source": [
    "z2 = None\n",
    "##############################################################################\n",
    "# TODO: Use torch.bmm() to compute a batched matrix multiply between x and   #\n",
    "# y; store the result in z2.                                                 #\n",
    "##############################################################################\n",
    "# Replace \"pass\" statement with your code\n",
    "z2 = torch.bmm(x, y)\n",
    "# END OF YOUR CODE"
   ]
  },
  {
   "cell_type": "code",
   "execution_count": 98,
   "metadata": {
    "colab": {
     "base_uri": "https://localhost:8080/"
    },
    "deletable": false,
    "editable": false,
    "id": "Lo6DFAa_Cman",
    "nbgrader": {
     "cell_type": "code",
     "checksum": "1cd6be4a134c831a33b1ad6e8b2bf2b8",
     "grade": true,
     "grade_id": "cell-bb56cd74af336c49",
     "locked": true,
     "points": 2,
     "schema_version": 3,
     "solution": false,
     "task": false
    },
    "outputId": "7df5df44-eb47-472e-865a-33b85fc237cf"
   },
   "outputs": [
    {
     "name": "stdout",
     "output_type": "stream",
     "text": [
      "Here is the result of batched matrix multiply with torch.bmm():\n",
      "tensor([[[1.1163, 1.1587, 1.9690, 1.8232],\n",
      "         [1.4139, 1.6047, 2.7143, 2.7186]],\n",
      "\n",
      "        [[0.3707, 1.3418, 0.9090, 1.5271],\n",
      "         [0.5270, 1.6415, 0.8949, 1.6092]],\n",
      "\n",
      "        [[0.8863, 0.8614, 1.6273, 0.5403],\n",
      "         [1.0417, 0.4843, 0.6703, 0.9262]]])\n",
      "\n",
      "Difference: 2.384185791015625e-07\n"
     ]
    }
   ],
   "source": [
    "print('Here is the result of batched matrix multiply with torch.bmm():')\n",
    "print(z2)\n",
    "\n",
    "# The two may not return exactly the same result; different linear algebra\n",
    "# routines often return slightly different results due to the fact that\n",
    "# floating-point math is non-exact and non-associative.\n",
    "diff = (z1 - z2).abs().max().item()\n",
    "print('\\nDifference:', diff)\n",
    "assert diff < 1e-6, 'Difference within threshold'"
   ]
  },
  {
   "cell_type": "markdown",
   "metadata": {
    "id": "kN3qIdoiCman"
   },
   "source": [
    "## Broadcasting"
   ]
  },
  {
   "cell_type": "markdown",
   "metadata": {
    "id": "llcalktSCman"
   },
   "source": [
    "Broadcasting is a powerful mechanism that allows PyTorch to work with arrays of different shapes when performing arithmetic operations. Frequently we have a smaller tensor and a larger tensor, and we want to use the smaller tensor multiple times to perform some operation on the larger tensor.\n",
    "\n",
    "For example, suppose that we want to add a constant vector to each row of a tensor. We could do it like this:\n"
   ]
  },
  {
   "cell_type": "code",
   "execution_count": 99,
   "metadata": {
    "colab": {
     "base_uri": "https://localhost:8080/"
    },
    "id": "yMM57p6YCman",
    "outputId": "bde9de20-c9df-48d0-8d22-5af75a558ffe"
   },
   "outputs": [
    {
     "name": "stdout",
     "output_type": "stream",
     "text": [
      "tensor([[ 2,  2,  4],\n",
      "        [ 5,  5,  7],\n",
      "        [ 8,  8, 10],\n",
      "        [11, 11, 13]])\n"
     ]
    }
   ],
   "source": [
    "# We will add the vector v to each row of the matrix x,\n",
    "# storing the result in the matrix y\n",
    "x = torch.tensor([[1, 2, 3], [4, 5, 6], [7, 8, 9], [10, 11, 12]])\n",
    "v = torch.tensor([1, 0, 1])\n",
    "y = torch.zeros_like(x)   # Create an empty matrix with the same shape as x\n",
    "\n",
    "# Add the vector v to each row of the matrix x with an explicit loop\n",
    "for i in range(4):\n",
    "    y[i, :] = x[i, :] + v\n",
    "\n",
    "print(y)"
   ]
  },
  {
   "cell_type": "markdown",
   "metadata": {
    "id": "6tn8e9YvCman"
   },
   "source": [
    "This works; however when the tensor `x` is very large, computing an explicit loop in Python could be slow. Note that adding the vector `v` to each row of the tensor `x` is equivalent to forming a tensor `vv` by stacking multiple copies of `v` vertically, then performing elementwise summation of `x` and `vv`. We could implement this approach like this:\n"
   ]
  },
  {
   "cell_type": "code",
   "execution_count": 100,
   "metadata": {
    "colab": {
     "base_uri": "https://localhost:8080/"
    },
    "id": "P7vbTIBwCmao",
    "outputId": "88a4747a-2bc2-4517-e539-d158f1e2ad8c"
   },
   "outputs": [
    {
     "name": "stdout",
     "output_type": "stream",
     "text": [
      "tensor([[1, 0, 1],\n",
      "        [1, 0, 1],\n",
      "        [1, 0, 1],\n",
      "        [1, 0, 1]])\n"
     ]
    }
   ],
   "source": [
    "vv = v.repeat((4, 1))  # Stack 4 copies of v on top of each other\n",
    "print(vv)              # Prints \"[[1 0 1]\n",
    "                       #          [1 0 1]\n",
    "                       #          [1 0 1]\n",
    "                       #          [1 0 1]]\""
   ]
  },
  {
   "cell_type": "code",
   "execution_count": 101,
   "metadata": {
    "colab": {
     "base_uri": "https://localhost:8080/"
    },
    "id": "nlH9Zt_4Cmao",
    "outputId": "332d0382-655b-4708-eb29-481d5446651d"
   },
   "outputs": [
    {
     "name": "stdout",
     "output_type": "stream",
     "text": [
      "tensor([[ 2,  2,  4],\n",
      "        [ 5,  5,  7],\n",
      "        [ 8,  8, 10],\n",
      "        [11, 11, 13]])\n"
     ]
    }
   ],
   "source": [
    "y = x + vv  # Add x and vv elementwise\n",
    "print(y)"
   ]
  },
  {
   "cell_type": "markdown",
   "metadata": {
    "id": "VmKaFFf1Cmao"
   },
   "source": [
    "PyTorch broadcasting allows us to perform this computation without actually creating multiple copies of `v`. Consider this version, using broadcasting:"
   ]
  },
  {
   "cell_type": "code",
   "execution_count": 102,
   "metadata": {
    "colab": {
     "base_uri": "https://localhost:8080/"
    },
    "id": "tUA8QfDxCmao",
    "outputId": "97007b8a-0dda-45c7-bea2-a66409abd832"
   },
   "outputs": [
    {
     "name": "stdout",
     "output_type": "stream",
     "text": [
      "tensor([[ 2,  2,  4],\n",
      "        [ 5,  5,  7],\n",
      "        [ 8,  8, 10],\n",
      "        [11, 11, 13]])\n"
     ]
    }
   ],
   "source": [
    "# We will add the vector v to each row of the matrix x,\n",
    "# storing the result in the matrix y\n",
    "x = torch.tensor([[1, 2, 3], [4, 5, 6], [7, 8, 9], [10, 11, 12]])\n",
    "v = torch.tensor([1, 0, 1])\n",
    "y = x + v  # Add v to each row of x using broadcasting\n",
    "print(y)"
   ]
  },
  {
   "cell_type": "markdown",
   "metadata": {
    "id": "u5GN61rcCmao"
   },
   "source": [
    "Due to broadcasting, the line `y = x + v` works even though `x` has shape (4, 3) and `v` has shape (3,); it works as if `v` actually had shape (4, 3), where each row was a copy of `v`, and the sum was performed elementwise.\n",
    "\n",
    "Broadcasting two tensors together follows these rules:\n",
    "\n",
    "1.   If the tensors do not have the same rank, prepend the shape of the lower rank tensor with 1's until both shapes have the same length.\n",
    "2.   The two tensors are said to be *compatible* in a dimension if they have the same size in the dimension, or if one of the tensors has size 1 in that dimension.\n",
    "3.   The tensors can be broadcast together if they are compatible in all dimensions.\n",
    "4.   After broadcasting, each tensor behaves as if it had shape equal to the elementwise maximum of shapes of the two input tensors.\n",
    "5.   In any dimension where one tensor had size 1 and the other tensor had size greater than 1, the first tensor behaves as if it were copied along that dimension.\n",
    "\n",
    "If this explanation does not make sense, try reading the explanation from the [documentation](https://pytorch.org/docs/1.7.0/notes/broadcasting.html).\n",
    "\n",
    "Not all functions support broadcasting. For example, [`torch.mm()`](https://pytorch.org/docs/1.7.0/generated/torch.mm.html#torch.mm) does not support broadcasting, but [`torch.matmul()`](https://pytorch.org/docs/1.7.0/generated/torch.matmul.html#torch.matmul) does.\n",
    "\n",
    "Broadcasting can let us easily implement many different operations. For example we can compute an outer product of vectors:"
   ]
  },
  {
   "cell_type": "code",
   "execution_count": 103,
   "metadata": {
    "colab": {
     "base_uri": "https://localhost:8080/"
    },
    "id": "Sd3TxcGbCmao",
    "outputId": "42c1ba2f-3b5d-4357-ae7c-1548bba58ce0"
   },
   "outputs": [
    {
     "name": "stdout",
     "output_type": "stream",
     "text": [
      "tensor([[ 4,  5],\n",
      "        [ 8, 10],\n",
      "        [12, 15]])\n"
     ]
    }
   ],
   "source": [
    "# Compute outer product of vectors\n",
    "v = torch.tensor([1, 2, 3])  # v has shape (3,)\n",
    "w = torch.tensor([4, 5])     # w has shape (2,)\n",
    "# To compute an outer product, we first reshape v to be a column\n",
    "# vector of shape (3, 1); we can then broadcast it against w to yield\n",
    "# an output of shape (3, 2), which is the outer product of v and w:\n",
    "print(v.view(3, 1) * w)"
   ]
  },
  {
   "cell_type": "markdown",
   "metadata": {
    "id": "Us0_cO7YCmap"
   },
   "source": [
    "We can add a vector to each row of a matrix:"
   ]
  },
  {
   "cell_type": "code",
   "execution_count": 104,
   "metadata": {
    "colab": {
     "base_uri": "https://localhost:8080/"
    },
    "id": "ZKaL5u7mCmap",
    "outputId": "40e0f752-0c05-4f88-90f2-294b85e99baf"
   },
   "outputs": [
    {
     "name": "stdout",
     "output_type": "stream",
     "text": [
      "Here is the matrix:\n",
      "tensor([[1, 2, 3],\n",
      "        [4, 5, 6]])\n",
      "\n",
      "Here is the vector:\n",
      "tensor([1, 2, 3])\n",
      "\n",
      "Add the vector to each row of the matrix:\n",
      "tensor([[2, 4, 6],\n",
      "        [5, 7, 9]])\n"
     ]
    }
   ],
   "source": [
    "x = torch.tensor([[1, 2, 3], [4, 5, 6]])  # x has shape (2, 3)\n",
    "v = torch.tensor([1, 2, 3])               # v has shape (3,)\n",
    "print('Here is the matrix:')\n",
    "print(x)\n",
    "print('\\nHere is the vector:')\n",
    "print(v)\n",
    "\n",
    "# x has shape (2, 3) and v has shape (3,) so they broadcast to (2, 3),\n",
    "# giving the following matrix:\n",
    "print('\\nAdd the vector to each row of the matrix:')\n",
    "print(x + v)"
   ]
  },
  {
   "cell_type": "markdown",
   "metadata": {
    "id": "JbBU8uGbCmap"
   },
   "source": [
    "We can add a vector to each column of a matrix:"
   ]
  },
  {
   "cell_type": "code",
   "execution_count": 106,
   "metadata": {
    "colab": {
     "base_uri": "https://localhost:8080/"
    },
    "id": "5UnK2nTJCmap",
    "outputId": "9ba7f120-8bdb-496f-a6d9-cd9c46ed7cf3"
   },
   "outputs": [
    {
     "name": "stdout",
     "output_type": "stream",
     "text": [
      "Here is the matrix:\n",
      "tensor([[1, 2, 3],\n",
      "        [4, 5, 6]])\n",
      "\n",
      "Here is the vector:\n",
      "tensor([4, 5])\n",
      "\n",
      "Add the vector to each column of the matrix:\n",
      "tensor([[ 5,  6,  7],\n",
      "        [ 9, 10, 11]])\n",
      "tensor([[ 5,  6,  7],\n",
      "        [ 9, 10, 11]])\n"
     ]
    }
   ],
   "source": [
    "x = torch.tensor([[1, 2, 3], [4, 5, 6]])  # x has shape (2, 3)\n",
    "w = torch.tensor([4, 5])                  # w has shape (2,)\n",
    "print('Here is the matrix:')\n",
    "print(x)\n",
    "print('\\nHere is the vector:')\n",
    "print(w)\n",
    "\n",
    "# x has shape (2, 3) and w has shape (2,). We reshape w to (2, 1);\n",
    "# then when we add the two the result broadcasts to (2, 3):\n",
    "print('\\nAdd the vector to each column of the matrix:')\n",
    "print(x + w.view(-1, 1))\n",
    "\n",
    "# Another solution is the following:\n",
    "# 1. Transpose x so it has shape (3, 2)\n",
    "# 2. Since w has shape (2,), adding will broadcast to (3, 2)\n",
    "# 3. Transpose the result, resulting in a shape (2, 3)\n",
    "print((x.t() + w).t())"
   ]
  },
  {
   "cell_type": "markdown",
   "metadata": {
    "id": "-Bk-s_sXCmap"
   },
   "source": [
    "Multiply a tensor by a set of constants:"
   ]
  },
  {
   "cell_type": "code",
   "execution_count": 107,
   "metadata": {
    "colab": {
     "base_uri": "https://localhost:8080/"
    },
    "id": "VESRtZ0eCmap",
    "outputId": "df87f5f2-4ce3-4bdd-9fc5-073960c088b6"
   },
   "outputs": [
    {
     "name": "stdout",
     "output_type": "stream",
     "text": [
      "Here is the matrix:\n",
      "tensor([[1, 2, 3],\n",
      "        [4, 5, 6]])\n",
      "\n",
      "Here is the vector:\n",
      "tensor([  1,  10,  11, 100])\n",
      "\n",
      "Multiply x by a set of constants:\n",
      "tensor([[[  1,   2,   3],\n",
      "         [  4,   5,   6]],\n",
      "\n",
      "        [[ 10,  20,  30],\n",
      "         [ 40,  50,  60]],\n",
      "\n",
      "        [[ 11,  22,  33],\n",
      "         [ 44,  55,  66]],\n",
      "\n",
      "        [[100, 200, 300],\n",
      "         [400, 500, 600]]])\n"
     ]
    }
   ],
   "source": [
    "x = torch.tensor([[1, 2, 3], [4, 5, 6]])  # x has shape (2, 3)\n",
    "c = torch.tensor([1, 10, 11, 100])        # c has shape (4)\n",
    "print('Here is the matrix:')\n",
    "print(x)\n",
    "print('\\nHere is the vector:')\n",
    "print(c)\n",
    "\n",
    "# We do the following:\n",
    "# 1. Reshape c from (4,) to (4, 1, 1)\n",
    "# 2. x has shape (2, 3). Since they have different ranks, when we multiply the\n",
    "#    two, x behaves as if its shape were (1, 2, 3)\n",
    "# 3. The result of the broadcast multiplication between tensors of shape\n",
    "#    (4, 1, 1) and (1, 2, 3) has shape (4, 2, 3)\n",
    "# 4. The result y has shape (4, 2, 3), and y[i] (shape (2, 3)) is equal to\n",
    "#    c[i] * x\n",
    "y = c.view(-1, 1, 1) * x\n",
    "print('\\nMultiply x by a set of constants:')\n",
    "print(y)"
   ]
  },
  {
   "cell_type": "markdown",
   "metadata": {
    "id": "fw76d7zbCmaq"
   },
   "source": [
    "Your turn: Write a function that normalizes the columns of a matrix. It should compute the mean and standard deviation of each column, then subtract the mean and divide by the standard deviation for each element in the column.\n",
    "\n",
    "Example:\n",
    "```\n",
    "x = [[ 0,  30,  600],\n",
    "     [ 1,  10,  200],\n",
    "     [-1,  20,  400]]\n",
    "```\n",
    "- The first column has mean 0 and std 1.\n",
    "- The second column has mean 20 and std 10.\n",
    "- The third column has mean 400 and std 200.\n",
    "\n",
    "After normalizing the columns, the result should be:\n",
    "```\n",
    "y = [[ 0,  1,  1],\n",
    "     [ 1, -1, -1],\n",
    "     [-1,  0,  0]]\n",
    "```"
   ]
  },
  {
   "cell_type": "code",
   "execution_count": 108,
   "metadata": {
    "deletable": false,
    "id": "yXN56fvYCmaq",
    "nbgrader": {
     "cell_type": "code",
     "checksum": "a38a67a2297dfe895b4f50a3e7881c02",
     "grade": false,
     "grade_id": "cell-cc019815e8d036d2",
     "locked": false,
     "schema_version": 3,
     "solution": true,
     "task": false
    }
   },
   "outputs": [],
   "source": [
    "def normalize_columns(x):\n",
    "  \"\"\"\n",
    "  Normalize the columns of a matrix by subtracting the mean and dividing by the\n",
    "  (unbiased) standard deviation.\n",
    "\n",
    "  Inputs:\n",
    "  - x: Tensor of shape (N, M).\n",
    "\n",
    "  Returns:\n",
    "  - y: Tensor of shape (N, M) which is a copy of x with normalized columns.\n",
    "  \"\"\"\n",
    "  y = x.clone()\n",
    "  ##############################################################################\n",
    "  # TODO: Complete the implementation of this function. Do not modify x.       #\n",
    "  # Your implementation should not use any loops; instead you should use       #\n",
    "  # reduction and broadcasting operations.                                     #\n",
    "  ##############################################################################\n",
    "  # Replace \"pass\" statement with your code\n",
    "  m = x.mean(dim = 0)\n",
    "  s = x.std(dim = 0)\n",
    "  y = (y - m)/s\n",
    "  # END OF YOUR CODE\n",
    "  return y"
   ]
  },
  {
   "cell_type": "code",
   "execution_count": 109,
   "metadata": {
    "colab": {
     "base_uri": "https://localhost:8080/"
    },
    "deletable": false,
    "editable": false,
    "id": "-vNff08oCmaq",
    "nbgrader": {
     "cell_type": "code",
     "checksum": "d49d44779af133b8e7f631a0703a0501",
     "grade": true,
     "grade_id": "cell-333af9a768274e70",
     "locked": true,
     "points": 4,
     "schema_version": 3,
     "solution": false,
     "task": false
    },
    "outputId": "187cab2b-c0ca-4b19-88fb-254a8c5d0947"
   },
   "outputs": [
    {
     "name": "stdout",
     "output_type": "stream",
     "text": [
      "Here is x0:\n",
      "tensor([[  0.,  30., 600.],\n",
      "        [  1.,  10., 200.],\n",
      "        [ -1.,  20., 400.]])\n",
      "Here is y0:\n",
      "tensor([[ 0.,  1.,  1.],\n",
      "        [ 1., -1., -1.],\n",
      "        [-1.,  0.,  0.]])\n"
     ]
    }
   ],
   "source": [
    "x0 = torch.tensor([[0., 30., 600.], [1., 10., 200.], [-1., 20., 400.]])\n",
    "y0 = normalize_columns(x0)\n",
    "print('Here is x0:')\n",
    "print(x0)\n",
    "print('Here is y0:')\n",
    "print(y0)"
   ]
  },
  {
   "cell_type": "markdown",
   "metadata": {
    "id": "WySD0Y1QCmaq"
   },
   "source": [
    "## Running on GPU"
   ]
  },
  {
   "cell_type": "markdown",
   "metadata": {
    "id": "In5ZOkKLCmaq"
   },
   "source": [
    "One of the most important features of PyTorch is that it can use graphics processing units (GPUs) to accelerate its tensor operations.\n",
    "\n",
    "You can enable GPUs in Colab via Runtime -> Change Runtime Type -> Hardware Accelerator -> GPU.\n",
    "\n",
    "This may cause the Colab runtime to restart, so we will re-import `torch` in the next cell."
   ]
  },
  {
   "cell_type": "code",
   "execution_count": 1,
   "metadata": {
    "colab": {
     "base_uri": "https://localhost:8080/"
    },
    "deletable": false,
    "editable": false,
    "id": "ynbA-BIfCmaq",
    "nbgrader": {
     "cell_type": "code",
     "checksum": "f79739a727dda74a7567efa6fe9d8df0",
     "grade": false,
     "grade_id": "cell-772055cfbfadd416",
     "locked": true,
     "schema_version": 3,
     "solution": false,
     "task": false
    },
    "outputId": "cf9c1a19-2d28-4621-8bda-8b2b30248488"
   },
   "outputs": [
    {
     "name": "stdout",
     "output_type": "stream",
     "text": [
      "PyTorch can use GPUs!\n"
     ]
    }
   ],
   "source": [
    "import torch\n",
    "\n",
    "if torch.cuda.is_available:\n",
    "  print('PyTorch can use GPUs!')\n",
    "else:\n",
    "  print('PyTorch cannot use GPUs.')"
   ]
  },
  {
   "cell_type": "markdown",
   "metadata": {
    "id": "1Kgu8uUMCmaq"
   },
   "source": [
    "We have already seen that PyTorch tensors have a [`dtype`](https://pytorch.org/docs/1.7.0/tensor_attributes.html#torch-dtype) attribute specifying their data type. All PyTorch tensors also have a [`device`](https://pytorch.org/docs/1.7.0/tensor_attributes.html#torch-device) attribute that specifies the device where the tensor is stored -- either CPU or CUDA (for NVIDIA GPUs). A tensor on a CUDA device will automatically use that device to accelerate all of its operations.\n",
    "\n",
    "Just as with data types, we can use the [`.to()`](https://pytorch.org/docs/1.7.0/tensors.html#torch.Tensor.to) method to change the device of a tensor. We can also use the convenience methods [`.cuda()`](https://pytorch.org/docs/1.7.0/tensors.html?highlight=cuda#torch.Tensor.cuda) and [`.cpu()`](https://pytorch.org/docs/1.7.0/tensors.html?highlight=cpu#torch.Tensor.cpu) methods to move tensors between CPU and GPU: "
   ]
  },
  {
   "cell_type": "code",
   "execution_count": 2,
   "metadata": {
    "colab": {
     "base_uri": "https://localhost:8080/"
    },
    "id": "R7E4MAVDCmar",
    "outputId": "80424cc7-38fc-4382-8677-4aada2d23d18"
   },
   "outputs": [
    {
     "name": "stdout",
     "output_type": "stream",
     "text": [
      "x0 device: cpu\n",
      "x1 device: cuda:0\n",
      "x2 device: cuda:0\n",
      "x3 device: cpu\n",
      "x4 device: cpu\n",
      "y device / dtype: cuda:0 / torch.float64\n",
      "x5 device / dtype: cuda:0 / torch.float64\n"
     ]
    }
   ],
   "source": [
    "# Construct a tensor on the CPU\n",
    "x0 = torch.tensor([[1, 2], [3, 4]], dtype=torch.float32)\n",
    "print('x0 device:', x0.device)\n",
    "\n",
    "# Move it to the GPU using .to()\n",
    "x1 = x0.to('cuda')\n",
    "print('x1 device:', x1.device)\n",
    "\n",
    "# Move it to the GPU using .cuda()\n",
    "x2 = x0.cuda()\n",
    "print('x2 device:', x2.device)\n",
    "\n",
    "# Move it back to the CPU using .to()\n",
    "x3 = x1.to('cpu')\n",
    "print('x3 device:', x3.device)\n",
    "\n",
    "# Move it back to the CPU using .cpu()\n",
    "x4 = x2.cpu()\n",
    "print('x4 device:', x4.device)\n",
    "\n",
    "# We can construct tensors directly on the GPU as well\n",
    "y = torch.tensor([[1, 2, 3], [4, 5, 6]], dtype=torch.float64, device='cuda')\n",
    "print('y device / dtype:', y.device, '/', y.dtype)\n",
    "\n",
    "# Calling x.to(y) where y is a tensor will return a copy of x with the same\n",
    "# device and dtype as y\n",
    "x5 = x0.to(y)\n",
    "print('x5 device / dtype:', x5.device, '/', x5.dtype)"
   ]
  },
  {
   "cell_type": "markdown",
   "metadata": {
    "id": "RhwRmzmMCmar"
   },
   "source": [
    "Performing large tensor operations on a GPU can be **a lot faster** than running the equivalent operation on CPU.\n",
    "\n",
    "Here we compare the speed of adding two tensors of shape (10000, 10000) on CPU and GPU.\n",
    "\n",
    "Note that GPU code may run asynchronously with CPU code, so when timing the speed of operations on the GPU it is important to use [`torch.cuda.synchronize()`](https://pytorch.org/docs/1.7.0/cuda.html?highlight=synchronize#torch.cuda.synchronize) to synchronize the CPU and GPU:"
   ]
  },
  {
   "cell_type": "code",
   "execution_count": 3,
   "metadata": {
    "colab": {
     "base_uri": "https://localhost:8080/"
    },
    "id": "ARWkr9UQCmar",
    "outputId": "54038718-1ab6-4708-bd24-2834a0dec5b1"
   },
   "outputs": [
    {
     "name": "stdout",
     "output_type": "stream",
     "text": [
      "Max difference between c_gpu and c_cpu: 0.0\n",
      "CPU time: 256.21 ms\n",
      "GPU time: 9.64 ms\n",
      "GPU speedup: 26.59 x\n"
     ]
    }
   ],
   "source": [
    "import time\n",
    "\n",
    "a_cpu = torch.randn(10000, 10000, dtype=torch.float32)\n",
    "b_cpu = torch.randn(10000, 10000, dtype=torch.float32)\n",
    "\n",
    "a_gpu = a_cpu.cuda()\n",
    "b_gpu = b_cpu.cuda()\n",
    "torch.cuda.synchronize()\n",
    "\n",
    "t0 = time.time()\n",
    "c_cpu = a_cpu + b_cpu\n",
    "t1 = time.time()\n",
    "c_gpu = a_gpu + b_gpu\n",
    "torch.cuda.synchronize()\n",
    "t2 = time.time()\n",
    "\n",
    "# Check that they computed the same thing\n",
    "diff = (c_gpu.cpu() - c_cpu).abs().max().item()\n",
    "print('Max difference between c_gpu and c_cpu:', diff)\n",
    "\n",
    "cpu_time = 1000.0 * (t1 - t0)\n",
    "gpu_time = 1000.0 * (t2 - t1)\n",
    "print('CPU time: %.2f ms' % cpu_time)\n",
    "print('GPU time: %.2f ms' % gpu_time)\n",
    "print('GPU speedup: %.2f x' % (cpu_time / gpu_time))"
   ]
  },
  {
   "cell_type": "markdown",
   "metadata": {
    "id": "_G8kl0MhCmar"
   },
   "source": [
    "Your turn: Use the GPU to accelerate the following matrix multiplication operation. You should see 10~20x speedup by using the GPU. If your first run seems slow, run again."
   ]
  },
  {
   "cell_type": "code",
   "execution_count": 4,
   "metadata": {
    "deletable": false,
    "editable": false,
    "id": "P4TQLVn8Cmar",
    "nbgrader": {
     "cell_type": "code",
     "checksum": "93b1ed0fb4a30a8554b7db5c28d6c202",
     "grade": false,
     "grade_id": "cell-6b200dc329fda2ba",
     "locked": true,
     "schema_version": 3,
     "solution": false,
     "task": false
    }
   },
   "outputs": [],
   "source": [
    "import time\n",
    "\n",
    "x = torch.rand(512, 4096)\n",
    "w = torch.rand(4096, 4096)\n",
    "\n",
    "t0 = time.time()\n",
    "y0 = x.mm(w)\n",
    "t1 = time.time()\n",
    "\n",
    "x_gpu = None\n",
    "w_gpu = None\n",
    "t2 = 0\n",
    "y1 = None\n",
    "t3 = 0"
   ]
  },
  {
   "cell_type": "code",
   "execution_count": 5,
   "metadata": {
    "deletable": false,
    "id": "KyK01sbLCmas",
    "nbgrader": {
     "cell_type": "code",
     "checksum": "305fa50b985137a906d9056fe09e5e89",
     "grade": false,
     "grade_id": "cell-d15a618f21342460",
     "locked": false,
     "schema_version": 3,
     "solution": true,
     "task": false
    }
   },
   "outputs": [],
   "source": [
    "##############################################################################\n",
    "# TODO: Write a bit of code that:                                            #\n",
    "# - Moves x and w to the GPU (store them in x_gpu and w_gpu, respectively).  #\n",
    "# - Performs matrix multiplication of x_gpu and w_gpu.                       #\n",
    "# - Moves the result back to the CPU (store the result in y1).               #\n",
    "#                                                                            #\n",
    "# Properly set the start time t2 and end time t3 so that you only time the   #\n",
    "# matrix multiplication on the GPU (i.e., excluding the time for moving the  #\n",
    "# tensors between CPU and GPU). Use torch.cuda.synchronize() when            #\n",
    "# appropriate.                                                               #\n",
    "##############################################################################\n",
    "# Replace \"pass\" statement with your code\n",
    "x_gpu = x.cuda()\n",
    "w_gpu = w.cuda()\n",
    "torch.cuda.synchronize()\n",
    "\n",
    "t2 = time.time()\n",
    "y1_gpu = x_gpu.mm(w_gpu)\n",
    "torch.cuda.synchronize()\n",
    "t3 = time.time()\n",
    "\n",
    "y1 = y1_gpu.cpu()\n",
    "# END OF YOUR CODE"
   ]
  },
  {
   "cell_type": "code",
   "execution_count": 6,
   "metadata": {
    "colab": {
     "base_uri": "https://localhost:8080/"
    },
    "deletable": false,
    "editable": false,
    "id": "i2A47oqRCmas",
    "nbgrader": {
     "cell_type": "code",
     "checksum": "9e5c9211e7984a64d54c689ee89c71f7",
     "grade": true,
     "grade_id": "cell-b78744fee7db2264",
     "locked": true,
     "points": 6,
     "schema_version": 3,
     "solution": false,
     "task": false
    },
    "outputId": "0825416b-df9b-4cd0-d56a-ee071e5a6d3b"
   },
   "outputs": [
    {
     "name": "stdout",
     "output_type": "stream",
     "text": [
      "Max difference between y0 and y1: 0.000732421875\n",
      "CPU time: 283.71 ms\n",
      "GPU time: 8.72 ms\n",
      "GPU speedup: 32.54 x\n"
     ]
    }
   ],
   "source": [
    "diff = (y0 - y1).abs().max().item()\n",
    "print('Max difference between y0 and y1:', diff)\n",
    "assert diff < 5e-3, 'Difference within tolerance'\n",
    "\n",
    "cpu_time = 1000.0 * (t1 - t0)\n",
    "gpu_time = 1000.0 * (t3 - t2)\n",
    "print('CPU time: %.2f ms' % cpu_time)\n",
    "print('GPU time: %.2f ms' % gpu_time)\n",
    "print('GPU speedup: %.2f x' % (cpu_time / gpu_time))"
   ]
  },
  {
   "cell_type": "markdown",
   "metadata": {
    "id": "5MFwcYzuCmas"
   },
   "source": [
    "## More Practice"
   ]
  },
  {
   "cell_type": "markdown",
   "metadata": {
    "id": "hWBYkn_gCmas"
   },
   "source": [
    "Using what we've learned, let's implement a few common functions that you'll see in this course."
   ]
  },
  {
   "cell_type": "code",
   "execution_count": 8,
   "metadata": {
    "deletable": false,
    "editable": false,
    "id": "yKMVPKSJCmas",
    "nbgrader": {
     "cell_type": "code",
     "checksum": "2e8db83307a0bff34ccd38c8f6ea31a5",
     "grade": false,
     "grade_id": "cell-80d7e59a7fd01d34",
     "locked": true,
     "schema_version": 3,
     "solution": false,
     "task": false
    }
   },
   "outputs": [],
   "source": [
    "# We will use this helper function to check your results\n",
    "def max_diff(actual, expected):\n",
    "  return (actual - expected).abs().max().item()"
   ]
  },
  {
   "cell_type": "markdown",
   "metadata": {
    "id": "6tqUsPOgCmas"
   },
   "source": [
    "### Sigmoid"
   ]
  },
  {
   "cell_type": "markdown",
   "metadata": {
    "id": "zasKAegWCmas"
   },
   "source": [
    "First, we'll implement the sigmoid function. It is defined as:\n",
    "\n",
    "$$ \\text{sigmoid}(x) = \\frac{1}{1 + e^{-x}}. $$\n",
    "\n",
    "This function outputs a value between 0 and 1, and is often used in binary classification. Implement an elementwise sigmoid function below.\n",
    "\n",
    "Given an input tensor `x`, your function should return a tensor of the same shape where the sigmoid function is applied to each element of `x`.\n",
    "\n",
    "You are NOT allowed to use PyTorch's built-in sigmoid functions."
   ]
  },
  {
   "cell_type": "code",
   "execution_count": 9,
   "metadata": {
    "deletable": false,
    "id": "NToXj0y_Cmat",
    "nbgrader": {
     "cell_type": "code",
     "checksum": "e234bc5dcb745b7d65e210758505d642",
     "grade": false,
     "grade_id": "cell-54687a488bf9cbbc",
     "locked": false,
     "schema_version": 3,
     "solution": true,
     "task": false
    }
   },
   "outputs": [],
   "source": [
    "def sigmoid(x):\n",
    "  \"\"\"\n",
    "  Elementwise sigmoid.\n",
    "\n",
    "  Inputs:\n",
    "  - x: Tensor of floats of any shape.\n",
    "\n",
    "  Returns:\n",
    "  - y: Tensor of the same shape as x where the sigmoid function is applied\n",
    "       to each element of x.\n",
    "  \"\"\"\n",
    "  y = None\n",
    "  ##############################################################################\n",
    "  # TODO: Complete the implementation of this function. Do not modify x.       #\n",
    "  # Your implementation should not use any loops.                              #\n",
    "  ##############################################################################\n",
    "  # Replace \"pass\" statement with your code\n",
    "  y = 1/(1 + torch.exp(-x))\n",
    "  # END OF YOUR CODE\n",
    "  return y"
   ]
  },
  {
   "cell_type": "code",
   "execution_count": 10,
   "metadata": {
    "deletable": false,
    "editable": false,
    "id": "p6YUbAXICmat",
    "nbgrader": {
     "cell_type": "code",
     "checksum": "f8c77d7f0d33ff492607353dd594329e",
     "grade": true,
     "grade_id": "cell-a0a5049d37055daa",
     "locked": true,
     "points": 3,
     "schema_version": 3,
     "solution": false,
     "task": false
    }
   },
   "outputs": [],
   "source": [
    "assert max_diff(sigmoid(torch.tensor([1.0])), torch.sigmoid(torch.tensor([1.0]))) < 1e-4\n",
    "assert max_diff(sigmoid(torch.tensor([1.0, 2.0, 3.0])), torch.sigmoid(torch.tensor([1.0, 2.0, 3.0]))) < 1e-4"
   ]
  },
  {
   "cell_type": "markdown",
   "metadata": {
    "id": "wPBjINjzCmat"
   },
   "source": [
    "### MSE"
   ]
  },
  {
   "cell_type": "markdown",
   "metadata": {
    "id": "cEu_VpA_Cmat"
   },
   "source": [
    "Next, let's implement the mean squared error (MSE) function. The MSE is defined as:\n",
    "\n",
    "$$ \\text{MSE}(x, y) = \\frac{1}{n} \\sum_{i=0}^{n-1}(x_i - y_i)^2, $$\n",
    "\n",
    "where $x$ and $y$ are tensors of the same shape and $n$ is the total number of elements in each tensor.\n",
    "\n",
    "You are NOT allowed to use PyTorch's built-in MSE functions."
   ]
  },
  {
   "cell_type": "code",
   "execution_count": 11,
   "metadata": {
    "deletable": false,
    "id": "SP83uSVYCmat",
    "nbgrader": {
     "cell_type": "code",
     "checksum": "a2666bce37668c37447f74f97ef9ac5b",
     "grade": false,
     "grade_id": "cell-a402af4a6bff5f4f",
     "locked": false,
     "schema_version": 3,
     "solution": true,
     "task": false
    }
   },
   "outputs": [],
   "source": [
    "def mse(x, y):\n",
    "  \"\"\"\n",
    "  Mean squared error between the inputs x and y.\n",
    "\n",
    "  Inputs:\n",
    "  - x, y: Tensors of floats of the same shape.\n",
    "\n",
    "  Returns:\n",
    "  - mse: The scalar mean squared error between x and y.\n",
    "  \"\"\"\n",
    "  mse = None\n",
    "  ##############################################################################\n",
    "  # TODO: Complete the implementation of this function. Do not modify x or y.  #\n",
    "  # Your implementation should not use any loops.                              #\n",
    "  ##############################################################################\n",
    "  # Replace \"pass\" statement with your code\n",
    "  mse = ((x - y)**2).sum()/torch.numel(x)\n",
    "  # END OF YOUR CODE\n",
    "  return mse"
   ]
  },
  {
   "cell_type": "code",
   "execution_count": 12,
   "metadata": {
    "deletable": false,
    "editable": false,
    "id": "S4OGK4x3Cmau",
    "nbgrader": {
     "cell_type": "code",
     "checksum": "78e6b2d2e1a27972e1ea8037193b423f",
     "grade": true,
     "grade_id": "cell-5c3e69aec9023a84",
     "locked": true,
     "points": 3,
     "schema_version": 3,
     "solution": false,
     "task": false
    }
   },
   "outputs": [],
   "source": [
    "mse_x1 = torch.tensor([1.0, 2.0, 3.0])\n",
    "mse_y1 = torch.tensor([4.0, 5.0, 6.0])\n",
    "assert mse(mse_x1, mse_y1) == 9.0"
   ]
  },
  {
   "cell_type": "markdown",
   "metadata": {
    "id": "pKhUBQ_JCmau"
   },
   "source": [
    "### Softmax"
   ]
  },
  {
   "cell_type": "markdown",
   "metadata": {
    "id": "d4V175KzCmau"
   },
   "source": [
    "Lastly we'll implement the softmax function. The softmax function is often used to normalize a vector to a probability distribution since the outputs sum to 1 and each element of the output is between 0 and 1. For a given vector $x$, it is defined as:\n",
    "\n",
    "$$ \\text{softmax}(x_{i}) = \\frac{\\exp(x_i)}{\\sum_j \\exp(x_j)}. $$\n",
    "\n",
    "Note that for each element, the denominator sums over all elements in the vector and is the same for each element.\n",
    "\n",
    "You are NOT allowed to use PyTorch's built-in softmax functions."
   ]
  },
  {
   "cell_type": "code",
   "execution_count": 13,
   "metadata": {
    "deletable": false,
    "id": "26-rnF5QCmau",
    "nbgrader": {
     "cell_type": "code",
     "checksum": "49028fab48682fcc7bc196ada1d65e5c",
     "grade": false,
     "grade_id": "cell-f9acb139b01fc750",
     "locked": false,
     "schema_version": 3,
     "solution": true,
     "task": false
    }
   },
   "outputs": [],
   "source": [
    "def softmax(x):\n",
    "  \"\"\"\n",
    "  Applies the softmax function to the input vector x.\n",
    "\n",
    "  Inputs:\n",
    "  - x: A vector of floats.\n",
    "\n",
    "  Returns:\n",
    "  - y: A vector of floats of the same size as x.\n",
    "  \"\"\"\n",
    "  y = None\n",
    "  ##############################################################################\n",
    "  # TODO: Complete the implementation of this function. Do not modify x.       #\n",
    "  # Your implementation should not use any loops.                              #\n",
    "  ##############################################################################\n",
    "  # Replace \"pass\" statement with your code\n",
    "  y = x.exp()/x.exp().sum()\n",
    "  # END OF YOUR CODE\n",
    "  return y"
   ]
  },
  {
   "cell_type": "code",
   "execution_count": 14,
   "metadata": {
    "deletable": false,
    "editable": false,
    "id": "FQsIw5URCmau",
    "nbgrader": {
     "cell_type": "code",
     "checksum": "0c7f945416ad6c8983797ea4f9d2d646",
     "grade": true,
     "grade_id": "cell-3be0d6c175641af0",
     "locked": true,
     "points": 5,
     "schema_version": 3,
     "solution": false,
     "task": false
    }
   },
   "outputs": [],
   "source": [
    "softmax_x1 = torch.tensor([1.0, 1.0, 1.0, 1.0])\n",
    "assert max_diff(softmax(softmax_x1), torch.tensor([0.25, 0.25, 0.25, 0.25])) == 0\n",
    "\n",
    "softmax_x2 = torch.tensor([1.0, 2.0, 3.0])\n",
    "assert max_diff(softmax(softmax_x2), torch.nn.functional.softmax(softmax_x2, dim=0)) < 1e-4"
   ]
  },
  {
   "cell_type": "markdown",
   "metadata": {
    "id": "0m0EJyDfCmav"
   },
   "source": [
    "### Softmax - numerical stability"
   ]
  },
  {
   "cell_type": "markdown",
   "metadata": {
    "id": "VZLJH256Cmav"
   },
   "source": [
    "Because of the exponentials in the above softmax definition, the intermediate terms $\\exp(x_i)$ can be very large and thus numerically unstable. Therefore, it is important to use a normalization trick that solves this problem. Specifically, if we multiply the numerator and the denominator of the softmax expression by a positive constant $C$, we get:\n",
    "\n",
    "$$ \\text{softmax}(x_{i}) = \\frac{\\exp(x_i)}{\\sum_j \\exp(x_j)} = \\frac{C\\exp(x_i)}{C\\sum_j \\exp(x_j)} = \\frac{\\exp(x_i + \\log(C))}{\\sum_j \\exp(x_j + \\log(C))}. $$\n",
    "\n",
    "We can choose $\\log(C)$ arbitrarily. A common choice is to set $ \\log(C) = -\\max_k(x_k)$. This effectively shifts all the elements in $x$ to be less than or equal to 0, leading to numerically stable computations. The resulting formula is:\n",
    "\n",
    "$$ \\text{softmax}(x_{i}) = \\frac{\\exp(x_i -\\max_k(x_k))}{\\sum_j \\exp(x_j -\\max_k(x_k))}. $$\n",
    "\n",
    "Note that $ \\log(C) = -\\max_k(x_k) $ only needs to be calculated once for the entire vector."
   ]
  },
  {
   "cell_type": "code",
   "execution_count": 15,
   "metadata": {
    "deletable": false,
    "id": "rLPj7f4nCmav",
    "nbgrader": {
     "cell_type": "code",
     "checksum": "d101d097498f96884853aa1cfc6af117",
     "grade": false,
     "grade_id": "cell-8380b50f6f65eea1",
     "locked": false,
     "schema_version": 3,
     "solution": true,
     "task": false
    }
   },
   "outputs": [],
   "source": [
    "def softmax_stable(x):\n",
    "  \"\"\"\n",
    "  Applies the softmax function to the input vector x.\n",
    "  Uses the normalization trick for numerical stable computation.\n",
    "\n",
    "  Inputs:\n",
    "  - x: A vector of floats.\n",
    "\n",
    "  Returns:\n",
    "  - y: A vector of floats of the same size as x.\n",
    "  \"\"\"\n",
    "  y = None\n",
    "  ##############################################################################\n",
    "  # TODO: Complete the implementation of this function. Do not modify x.       #\n",
    "  # Your implementation should not use any loops.                              #\n",
    "  ##############################################################################\n",
    "  # Replace \"pass\" statement with your code\n",
    "  cx = x - x.max()\n",
    "  y = cx.exp()/cx.exp().sum()\n",
    "  # END OF YOUR CODE\n",
    "  return y"
   ]
  },
  {
   "cell_type": "code",
   "execution_count": 16,
   "metadata": {
    "colab": {
     "base_uri": "https://localhost:8080/"
    },
    "id": "JputrlGwCmav",
    "outputId": "3644ad5c-bf96-47b8-841e-4a1b675af192"
   },
   "outputs": [
    {
     "name": "stdout",
     "output_type": "stream",
     "text": [
      "tensor([nan, nan, nan])\n",
      "tensor([0.3333, 0.3333, 0.3333])\n"
     ]
    }
   ],
   "source": [
    "# Previous implementation may lead to NaNs for larger inputs:\n",
    "print(softmax(torch.tensor([100.0, 100.0, 100.0])))\n",
    "\n",
    "# The numerically stable version should solve this problem:\n",
    "print(softmax_stable(torch.tensor([100.0, 100.0, 100.0])))"
   ]
  },
  {
   "cell_type": "code",
   "execution_count": 17,
   "metadata": {
    "deletable": false,
    "editable": false,
    "id": "fAa87Pn6Cmav",
    "nbgrader": {
     "cell_type": "code",
     "checksum": "e90d06e86307022382d7b79ebd995e35",
     "grade": true,
     "grade_id": "cell-b3e248a17f8e07d1",
     "locked": true,
     "points": 5,
     "schema_version": 3,
     "solution": false,
     "task": false
    }
   },
   "outputs": [],
   "source": [
    "softmax_x1 = torch.tensor([1.0, 1.0, 1.0, 1.0])\n",
    "assert max_diff(softmax_stable(softmax_x1), torch.tensor([0.25, 0.25, 0.25, 0.25])) == 0\n",
    "\n",
    "softmax_x2 = torch.tensor([1.0, 2.0, 3.0])\n",
    "assert max_diff(softmax_stable(softmax_x2), torch.nn.functional.softmax(softmax_x2, dim=0)) < 1e-4\n",
    "\n",
    "softmax_x3 = torch.tensor([100.0, 200.0, 300.0])\n",
    "assert max_diff(softmax_stable(softmax_x3), torch.nn.functional.softmax(softmax_x3, dim=0)) < 1e-4"
   ]
  },
  {
   "cell_type": "code",
   "execution_count": null,
   "metadata": {
    "id": "v5gNuosQpkQq"
   },
   "outputs": [],
   "source": []
  }
 ],
 "metadata": {
  "accelerator": "GPU",
  "colab": {
   "collapsed_sections": [],
   "name": "ys688.ipynb",
   "provenance": []
  },
  "kernelspec": {
   "display_name": "Python 3",
   "language": "python",
   "name": "python3"
  },
  "language_info": {
   "codemirror_mode": {
    "name": "ipython",
    "version": 3
   },
   "file_extension": ".py",
   "mimetype": "text/x-python",
   "name": "python",
   "nbconvert_exporter": "python",
   "pygments_lexer": "ipython3",
   "version": "3.7.9"
  }
 },
 "nbformat": 4,
 "nbformat_minor": 1
}
